{
 "cells": [
  {
   "cell_type": "markdown",
   "id": "79a800da",
   "metadata": {
    "slideshow": {
     "slide_type": "slide"
    }
   },
   "source": [
    "# Introduction to programming in Python\n",
    "## Python as programming language\n",
    "\n",
    "***\n",
    "<br>"
   ]
  },
  {
   "cell_type": "markdown",
   "id": "854d317d",
   "metadata": {
    "slideshow": {
     "slide_type": "slide"
    }
   },
   "source": [
    "## What is Python?\n",
    "\n",
    "Python is a general purpose programming language. It is an interpreted language, which makes it suitable for rapid development and prototyping of programming segments or complete small programs.\n",
    "\n",
    "<img src=\"img/python-logo-master-v3-TM.png\">"
   ]
  },
  {
   "cell_type": "markdown",
   "id": "c644bb54",
   "metadata": {
    "slideshow": {
     "slide_type": "slide"
    }
   },
   "source": [
    "## History\n",
    "\n",
    "* __the late 1980s__ - Python was conceived by Guido van Rossum at Centrum Wiskunde & Informatica (CWI) in the Netherlands. It was started firstly as a hobby project because he was looking for an interesting project to keep him occupied during Christmas.\n",
    "* __February 1991__ - The language was finally released. When it was released, it used a lot fewer codes to express the concepts, when we compare it with Java, C++ & C.\n",
    "* __1994__ - Python 1.0 was released with new features like lambda, map, filter, and reduce.\n",
    "* __16 October 2000__ - Python 2.0 was released, added new features such as list comprehensions, garbage collection systems.\n",
    "* __3 December 2008__ - Python 3.0 was released, it was designed to rectify the fundamental flaw of the language.\n",
    "* __the end of 2020__ - End of life for python 2.x, only python 3.x is supported and developed from now on."
   ]
  },
  {
   "cell_type": "markdown",
   "id": "933a0195",
   "metadata": {
    "slideshow": {
     "slide_type": "slide"
    }
   },
   "source": [
    "## Main advantages of Python\n",
    "\n",
    "* Free\n",
    "* Open-source\n",
    "* Available on all major platforms (macOS, Linux, Windows)\n",
    "* Supported by Python Software Foundation\n",
    "* Supports multiple programming paradigms\n",
    "* Has large community\n",
    "* Rich ecosystem of third-party packages\n"
   ]
  },
  {
   "cell_type": "markdown",
   "id": "b0888bb7",
   "metadata": {
    "slideshow": {
     "slide_type": "slide"
    }
   },
   "source": [
    "## Interpreted vs. compiled languages\n",
    "\n",
    "Every program is a set of instructions. Compilers and interpreters take human-readable code and convert it to computer-readable machine code.\n",
    "\n",
    "Compiled languages are converted directly into machine code that the processor can execute. Compiled languages need a \"build\" step – they need to be manually compiled first. You need to \"rebuild\" the program every time you need to make a change.\n",
    "\n",
    "Interpreters run through a program line by line and execute each command. There is no initial compilation stage. We simply start executing the program right away.\n",
    "\n",
    "Programs that are compiled into native machine code tend to be faster than interpreted code. This is efficient if you intend to run the same machine code many times as you only have to compile it once and it is very fast to run the compiled machine code.\n",
    "\n",
    "On the other hand, if you are experimenting, then your code will change often and you would have to compile it again every time before the machine can execute it. This is where interpreted languages have the advantage.\n",
    "\n",
    "Python belongs to the interpretable languages.\n"
   ]
  },
  {
   "cell_type": "markdown",
   "id": "130a6d34",
   "metadata": {
    "slideshow": {
     "slide_type": "slide"
    }
   },
   "source": [
    "## Why Python for data analysis?\n",
    "\n",
    "* __Easy to learn__: Python is easier to learn than other programming languages. Ihis means a low entry threshold and a relatively quick start to solving real problems.\n",
    "* __Reproducibility__: Reproducibility is the ability to obtain the same results using the same dataset(s) and analysis.\n",
    "* __Versatility__: Python is a versatile language that integrates with many existing applications to enable something completely amazing. Python can read text files, connect to databases, and many other data formats, on your computer or on the web.\n",
    "* __Interdisciplinary and extensible__: Python provides a framework that allows anyone to combine approaches from different research (but not only) disciplines to best suit your analysis needs.\n",
    "* __Large and welcoming community__: Thousands of people use Python daily. Many of them are willing to help you through mailing lists and websites, such as Stack Overflow and Anaconda community portal.\n",
    "* __Free, Open-Sourceand and Cross-Platform__: Python can run on a variety of hardware and software platforms, is open source and free."
   ]
  }
 ],
 "metadata": {
  "kernelspec": {
   "display_name": "Python 3",
   "language": "python",
   "name": "python3"
  },
  "language_info": {
   "codemirror_mode": {
    "name": "ipython",
    "version": 3
   },
   "file_extension": ".py",
   "mimetype": "text/x-python",
   "name": "python",
   "nbconvert_exporter": "python",
   "pygments_lexer": "ipython3",
   "version": "3.9.7"
  }
 },
 "nbformat": 4,
 "nbformat_minor": 5
}
