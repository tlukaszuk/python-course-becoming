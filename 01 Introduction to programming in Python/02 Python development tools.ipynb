{
 "cells": [
  {
   "cell_type": "markdown",
   "id": "79a800da",
   "metadata": {
    "slideshow": {
     "slide_type": "slide"
    }
   },
   "source": [
    "# Introduction to programming in Python\n",
    "## Python development tools\n",
    "\n",
    "***\n",
    "<br>"
   ]
  },
  {
   "cell_type": "markdown",
   "id": "854d317d",
   "metadata": {
    "slideshow": {
     "slide_type": "slide"
    }
   },
   "source": [
    "## Types of Python tools\n",
    "\n",
    "<img src=\"img/python-tools.png\" style=\"width:400px\">"
   ]
  },
  {
   "cell_type": "markdown",
   "id": "c644bb54",
   "metadata": {
    "slideshow": {
     "slide_type": "slide"
    }
   },
   "source": [
    "## IDEs\n",
    "\n",
    "* An integrated development environment (IDE) is a software suite that consolidates basic tools required to write and test software.\n",
    "* An IDE typically contains a code editor, a compiler or interpreter, and a debugger, accessed through a single graphical user interface (GUI).\n",
    "* The user writes and edits source code in the code editor.\n",
    "* The compiler translates the source code into a readable language that is executable for a computer.\n",
    "* The debugger tests the software to solve any issues or bugs."
   ]
  },
  {
   "cell_type": "markdown",
   "id": "4f1c0a5a",
   "metadata": {},
   "source": [
    "#### Visual Studio Code\n",
    "\n",
    "<img src=\"img/visual-studio-code.png\" style=\"width:500px\">\n",
    "\n",
    "* Visual Studio Code, is an open-source, extensible, light-weight editor available on all platforms.\n",
    "* It’s these qualities that make Visual Studio Code from Microsoft very popular, and a great platform for Python development."
   ]
  },
  {
   "cell_type": "markdown",
   "id": "bb57a080",
   "metadata": {},
   "source": [
    "#### PyCharm\n",
    "\n",
    "<img src=\"img/pycharm.png\" style=\"width:500px\">\n",
    "\n",
    "* IDE for the Python programming language from JetBrains.\n",
    "* It features a smart code editor with syntax highlighting for Python, code formatting, source code autocomplete.\n",
    "* The code editor is equipped with a function for checking and verifying syntax errors on the fly while writing code."
   ]
  },
  {
   "cell_type": "markdown",
   "id": "933a0195",
   "metadata": {
    "slideshow": {
     "slide_type": "slide"
    }
   },
   "source": [
    "## Virtual Environments\n",
    "\n",
    "* Python applications will often use packages and modules that don’t come as part of the standard library.\n",
    "* Applications will sometimes need a specific version of a library, because the application may require that a particular bug has been fixed or the application may be written using an obsolete version of the library’s interface.\n",
    "* This means it may not be possible for one Python installation to meet the requirements of every application.\n",
    "* If application A needs version 1.0 of a particular module but application B needs version 2.0, then the requirements are in conflict and installing either version 1.0 or 2.0 will leave one application unable to run.\n",
    "* The solution for this problem is to create a virtual environment, a self-contained directory tree that contains a Python installation for a particular version of Python, plus a number of additional packages."
   ]
  },
  {
   "cell_type": "markdown",
   "id": "b0888bb7",
   "metadata": {
    "slideshow": {
     "slide_type": "slide"
    }
   },
   "source": [
    "## Python packages\n",
    "\n",
    "* A Python package or library is simply a collection of codes or modules of codes that we can use in a program for specific operations.\n",
    "* We use libraries so that we don’t need to write the code again in our program that is already available.\n",
    "* Python packages and libraries grow bigger year after year.\n",
    "* One can dare to say that it is possible to find a suitable library for almost any task.\n",
    "* Examples of several popular libraries:\n",
    "    * for mathematical calculations: NumPy, SciPy\n",
    "    * for the Python project that needs to display data: Matplotlib, Seaborn, Plotly\n",
    "    * for working with datasets: Pandas, Dask\n",
    "    * machine learning libraries: Sckit-learn, TensorFlow, Pytorch, io\n",
    "    * for building webapps and APIs: Flask, Django"
   ]
  },
  {
   "cell_type": "markdown",
   "id": "130a6d34",
   "metadata": {
    "slideshow": {
     "slide_type": "slide"
    }
   },
   "source": [
    "## Jupyter notebooks\n",
    "\n",
    "* Jupyter Notebook is an open-source web application that provides an interactive computational environment.\n",
    "* It produces documents (notebooks) that combine both inputs (code) and outputs into a single file.\n",
    "* It offers a single document that contains: visualizations, mathematical equations, statistical modeling, narrative text and any other rich media.\n",
    "* Jupyter notebooks support more than 40 programming languages, with a major focus on Python.\n",
    "* Since it is a free and open-source tool, anyone can use it freely for their data science projects.\n",
    "* An example of a Jupyter notebook document is this, as well as all other lessons of this course."
   ]
  },
  {
   "cell_type": "markdown",
   "id": "19d4a261",
   "metadata": {},
   "source": [
    "#### Cells in a notebook\n",
    "\n",
    "* Cells are the building blocks of a notebook.\n",
    "* Anything we do in a notebook, we do it within a specific cell block.\n",
    "* There are two types of cells in a notebook: code cell (contain the code that will be executed) and markdown cell (contain the text content).\n",
    "* When the code cell is executed, the resulting output will be shown below the cell (outside the cell)."
   ]
  }
 ],
 "metadata": {
  "kernelspec": {
   "display_name": "Python 3",
   "language": "python",
   "name": "python3"
  },
  "language_info": {
   "codemirror_mode": {
    "name": "ipython",
    "version": 3
   },
   "file_extension": ".py",
   "mimetype": "text/x-python",
   "name": "python",
   "nbconvert_exporter": "python",
   "pygments_lexer": "ipython3",
   "version": "3.9.7"
  }
 },
 "nbformat": 4,
 "nbformat_minor": 5
}
