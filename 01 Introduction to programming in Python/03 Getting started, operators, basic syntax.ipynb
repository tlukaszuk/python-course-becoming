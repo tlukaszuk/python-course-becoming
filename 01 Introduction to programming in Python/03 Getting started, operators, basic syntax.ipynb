{
 "cells": [
  {
   "cell_type": "markdown",
   "id": "79a800da",
   "metadata": {
    "slideshow": {
     "slide_type": "slide"
    }
   },
   "source": [
    "# Introduction to programming in Python\n",
    "## Getting started, operators, basic syntax\n",
    "\n",
    "***\n",
    "<br>"
   ]
  },
  {
   "cell_type": "markdown",
   "id": "71df1cf6",
   "metadata": {},
   "source": [
    "## Calculator\n",
    "\n",
    "* Python can be used like a calculator.\n",
    "* Simply type in expressions to get them evaluated.\n",
    "* You can use all known arithmetic operators and parentheses to determine the order of operations."
   ]
  },
  {
   "cell_type": "code",
   "execution_count": 1,
   "id": "8ea6bf8b",
   "metadata": {},
   "outputs": [
    {
     "data": {
      "text/plain": [
       "62"
      ]
     },
     "execution_count": 1,
     "metadata": {},
     "output_type": "execute_result"
    }
   ],
   "source": [
    "22 + 5 * (12 - 4)"
   ]
  },
  {
   "cell_type": "code",
   "execution_count": 2,
   "id": "ba3bd208",
   "metadata": {},
   "outputs": [
    {
     "data": {
      "text/plain": [
       "27"
      ]
     },
     "execution_count": 2,
     "metadata": {},
     "output_type": "execute_result"
    }
   ],
   "source": [
    "(17 // 5) ** 3"
   ]
  },
  {
   "cell_type": "markdown",
   "id": "e362ea4b",
   "metadata": {},
   "source": [
    "## Arithmetic Operators\n",
    "\n",
    "| Symbol | Task Performed |\n",
    "| --: | :-- |\n",
    "| + | Addition |\n",
    "| - | Subtraction |\n",
    "| / | Division |\n",
    "| // | Integer division |\n",
    "| % | Modulus (remainder) |\n",
    "| * | Multiplication |\n",
    "| ** | Exponentiation (power) |"
   ]
  },
  {
   "cell_type": "code",
   "execution_count": 3,
   "id": "972103b4",
   "metadata": {},
   "outputs": [
    {
     "data": {
      "text/plain": [
       "3"
      ]
     },
     "execution_count": 3,
     "metadata": {},
     "output_type": "execute_result"
    }
   ],
   "source": [
    "(100 - 7) % 10"
   ]
  },
  {
   "cell_type": "markdown",
   "id": "902d8cc4",
   "metadata": {},
   "source": [
    "## Relational Operators\n",
    "\n",
    "| Symbol | Task Performed |\n",
    "| --:| :-- |\n",
    "| == | True, if it is equal |\n",
    "| !=  | True, if not equal to |\n",
    "| < | less than |\n",
    "| > | greater than |\n",
    "| <=  | less than or equal to |\n",
    "| >=  | greater than or equal to |"
   ]
  },
  {
   "cell_type": "code",
   "execution_count": 4,
   "id": "72f4aad6",
   "metadata": {},
   "outputs": [
    {
     "data": {
      "text/plain": [
       "True"
      ]
     },
     "execution_count": 4,
     "metadata": {},
     "output_type": "execute_result"
    }
   ],
   "source": [
    "3 + 7 == 15 - 5"
   ]
  },
  {
   "cell_type": "markdown",
   "id": "de3a4fdd",
   "metadata": {},
   "source": [
    "* The priority of relational operators is lower than that of arithmetic operators.\n",
    "* Arithmetic operations are performed first and then a comparison is made.\n",
    "* The result of a relational operator is a logical value (`True` or `False`)."
   ]
  },
  {
   "cell_type": "code",
   "execution_count": 5,
   "id": "4bb614a7",
   "metadata": {},
   "outputs": [
    {
     "data": {
      "text/plain": [
       "-2"
      ]
     },
     "execution_count": 5,
     "metadata": {},
     "output_type": "execute_result"
    }
   ],
   "source": [
    "3 + (7 == 15) - 5"
   ]
  },
  {
   "cell_type": "markdown",
   "id": "900e09f5",
   "metadata": {},
   "source": [
    "* In arithmetic operations, a `True` value is treated as `1` and a `False` value as `0`."
   ]
  },
  {
   "cell_type": "markdown",
   "id": "d2bdf495",
   "metadata": {},
   "source": [
    "## Boolean Operators\n",
    "\n",
    "|Operator | Task Performed |\n",
    "| --:| :-- |\n",
    "|`and`| Logical and |\n",
    "|`or` | Logical or |\n",
    "|`not` | Not |"
   ]
  },
  {
   "cell_type": "code",
   "execution_count": 6,
   "id": "1f543d9e",
   "metadata": {},
   "outputs": [
    {
     "data": {
      "text/plain": [
       "False"
      ]
     },
     "execution_count": 6,
     "metadata": {},
     "output_type": "execute_result"
    }
   ],
   "source": [
    "7 > 8 and 4 >= 3"
   ]
  },
  {
   "cell_type": "code",
   "execution_count": 7,
   "id": "966f9495",
   "metadata": {},
   "outputs": [
    {
     "data": {
      "text/plain": [
       "True"
      ]
     },
     "execution_count": 7,
     "metadata": {},
     "output_type": "execute_result"
    }
   ],
   "source": [
    "7 > 8 or 4 >= 3"
   ]
  },
  {
   "cell_type": "code",
   "execution_count": 8,
   "id": "35462f23",
   "metadata": {},
   "outputs": [
    {
     "data": {
      "text/plain": [
       "False"
      ]
     },
     "execution_count": 8,
     "metadata": {},
     "output_type": "execute_result"
    }
   ],
   "source": [
    "not 10 != 9"
   ]
  },
  {
   "cell_type": "markdown",
   "id": "18216151",
   "metadata": {},
   "source": [
    "* The priority of boolean operators is lower than that of relational and arithmetic operators.\n",
    "* The result of a boolean operator is a logical value (True or False)."
   ]
  },
  {
   "cell_type": "markdown",
   "id": "f4fcfac5",
   "metadata": {},
   "source": [
    "## Basic syntax for statements\n",
    "\n",
    "* No spaces or tab characters allowed at the start of a statement, because indentation plays a special role in Python. For now simply ensure that all statements start at the beginning of the line.\n",
    "* The `#` character indicates that the rest of the line is a comment.\n",
    "* Statements finish at the end of the line.\n",
    "    * Except when there is an open bracket or paranthesis.\n",
    "    * A single backslash at the end of the line can also be used to indicate that a statement is still incomplete."
   ]
  },
  {
   "cell_type": "code",
   "execution_count": 9,
   "id": "a09b8c5d",
   "metadata": {},
   "outputs": [
    {
     "data": {
      "text/plain": [
       "3"
      ]
     },
     "execution_count": 9,
     "metadata": {},
     "output_type": "execute_result"
    }
   ],
   "source": [
    "5 + 8\n",
    "+ 3  #illegal continuation of the sum, treated as new statement"
   ]
  },
  {
   "cell_type": "code",
   "execution_count": 10,
   "id": "aff0c7f9",
   "metadata": {},
   "outputs": [
    {
     "data": {
      "text/plain": [
       "16"
      ]
     },
     "execution_count": 10,
     "metadata": {},
     "output_type": "execute_result"
    }
   ],
   "source": [
    "(5 + 8\n",
    "         + 3) # perfectly OK even with spaces"
   ]
  },
  {
   "cell_type": "code",
   "execution_count": 11,
   "id": "2de287d8",
   "metadata": {},
   "outputs": [
    {
     "data": {
      "text/plain": [
       "16"
      ]
     },
     "execution_count": 11,
     "metadata": {},
     "output_type": "execute_result"
    }
   ],
   "source": [
    "5 + \\\n",
    "8 + 3 # this is also OK"
   ]
  },
  {
   "cell_type": "markdown",
   "id": "b1467a92",
   "metadata": {},
   "source": [
    "## Python language basic principles of syntax\n",
    "\n",
    "* Comments in Python are indicated by a pound sign (`#`), and anything on the line following the pound sign is ignored by the interpreter.\n",
    "* End-of-Line terminates a statement (with the exceptions described above).\n",
    "* Semicolon (`;`) can optionally terminate a statement. Sometimes it can be useful to put multiple statements on a single line.\n",
    "* Where in other programming languages the indentation in code is for readability only, the indentation in Python is very important. Python uses indentation to indicate a block of code. - You will find out more details about this in later sections of the course."
   ]
  },
  {
   "cell_type": "code",
   "execution_count": 12,
   "id": "73220f26",
   "metadata": {},
   "outputs": [
    {
     "name": "stdout",
     "output_type": "stream",
     "text": [
      "lower: [0, 1, 2, 3, 4]\n",
      "upper: [5, 6, 7, 8, 9]\n"
     ]
    }
   ],
   "source": [
    "# The following code is intended only to demonstrate syntax rules in Python \n",
    "\n",
    "# set the midpoint\n",
    "midpoint = 5\n",
    "\n",
    "# make two empty lists\n",
    "lower = []; upper = []\n",
    "\n",
    "# split the numbers into lower and upper\n",
    "for i in range(10):\n",
    "    if (i < midpoint):\n",
    "        lower.append(i)\n",
    "    else:\n",
    "        upper.append(i)\n",
    "        \n",
    "print(\"lower:\", lower)\n",
    "print(\"upper:\", upper)"
   ]
  }
 ],
 "metadata": {
  "kernelspec": {
   "display_name": "Python 3",
   "language": "python",
   "name": "python3"
  },
  "language_info": {
   "codemirror_mode": {
    "name": "ipython",
    "version": 3
   },
   "file_extension": ".py",
   "mimetype": "text/x-python",
   "name": "python",
   "nbconvert_exporter": "python",
   "pygments_lexer": "ipython3",
   "version": "3.9.7"
  }
 },
 "nbformat": 4,
 "nbformat_minor": 5
}
