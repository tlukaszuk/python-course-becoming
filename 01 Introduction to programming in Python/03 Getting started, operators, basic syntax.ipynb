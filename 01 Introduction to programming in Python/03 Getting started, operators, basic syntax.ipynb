{
 "cells": [
  {
   "cell_type": "markdown",
   "id": "79a800da",
   "metadata": {
    "slideshow": {
     "slide_type": "slide"
    }
   },
   "source": [
    "# Introduction to programming in Python\n",
    "## Getting started, operators, basic syntax\n",
    "\n",
    "***\n",
    "<br>"
   ]
  },
  {
   "cell_type": "markdown",
   "id": "71df1cf6",
   "metadata": {},
   "source": [
    "## Calculator\n",
    "\n",
    "* Python can be used like a calculator.\n",
    "* Simply type in expressions to get them evaluated.\n",
    "* You can use all known arithmetic operators and parentheses to determine the order of operations."
   ]
  },
  {
   "cell_type": "code",
   "execution_count": 1,
   "id": "8ea6bf8b",
   "metadata": {},
   "outputs": [
    {
     "data": {
      "text/plain": [
       "62"
      ]
     },
     "execution_count": 1,
     "metadata": {},
     "output_type": "execute_result"
    }
   ],
   "source": [
    "22 + 5 * (12 - 4)"
   ]
  },
  {
   "cell_type": "code",
   "execution_count": 2,
   "id": "ba3bd208",
   "metadata": {},
   "outputs": [
    {
     "data": {
      "text/plain": [
       "27"
      ]
     },
     "execution_count": 2,
     "metadata": {},
     "output_type": "execute_result"
    }
   ],
   "source": [
    "(17 // 5) ** 3"
   ]
  },
  {
   "cell_type": "markdown",
   "id": "e362ea4b",
   "metadata": {},
   "source": [
    "## Arithmetic Operators\n",
    "\n",
    "| Symbol | Task Performed |\n",
    "| --: | :-- |\n",
    "| + | Addition |\n",
    "| - | Subtraction |\n",
    "| / | Division |\n",
    "| // | Integer division |\n",
    "| % | Modulus (remainder) |\n",
    "| * | Multiplication |\n",
    "| ** | Exponentiation (power) |"
   ]
  },
  {
   "cell_type": "code",
   "execution_count": 3,
   "id": "972103b4",
   "metadata": {},
   "outputs": [
    {
     "data": {
      "text/plain": [
       "3"
      ]
     },
     "execution_count": 3,
     "metadata": {},
     "output_type": "execute_result"
    }
   ],
   "source": [
    "(100 - 7) % 10"
   ]
  },
  {
   "cell_type": "markdown",
   "id": "902d8cc4",
   "metadata": {},
   "source": [
    "## Relational Operators\n",
    "\n",
    "| Symbol | Task Performed |\n",
    "| --:| :-- |\n",
    "| == | True, if it is equal |\n",
    "| !=  | True, if not equal to |\n",
    "| < | less than |\n",
    "| > | greater than |\n",
    "| <=  | less than or equal to |\n",
    "| >=  | greater than or equal to |"
   ]
  },
  {
   "cell_type": "code",
   "execution_count": 4,
   "id": "72f4aad6",
   "metadata": {},
   "outputs": [
    {
     "data": {
      "text/plain": [
       "True"
      ]
     },
     "execution_count": 4,
     "metadata": {},
     "output_type": "execute_result"
    }
   ],
   "source": [
    "3 + 7 == 15 - 5"
   ]
  },
  {
   "cell_type": "markdown",
   "id": "de3a4fdd",
   "metadata": {},
   "source": [
    "* The priority of relational operators is lower than that of arithmetic operators.\n",
    "* Arithmetic operations are performed first and then a comparison is made.\n",
    "* The result of a relational operator is a logical value (`True` or `False`)."
   ]
  },
  {
   "cell_type": "code",
   "execution_count": 5,
   "id": "4bb614a7",
   "metadata": {},
   "outputs": [
    {
     "data": {
      "text/plain": [
       "-2"
      ]
     },
     "execution_count": 5,
     "metadata": {},
     "output_type": "execute_result"
    }
   ],
   "source": [
    "3 + (7 == 15) - 5"
   ]
  },
  {
   "cell_type": "markdown",
   "id": "900e09f5",
   "metadata": {},
   "source": [
    "* In arithmetic operations, a `True` value is treated as `1` and a `False` value as `0`."
   ]
  },
  {
   "cell_type": "markdown",
   "id": "d2bdf495",
   "metadata": {},
   "source": [
    "## Boolean Operators\n",
    "\n",
    "|Operator | Task Performed |\n",
    "| --:| :-- |\n",
    "|`and`| Logical and |\n",
    "|`or` | Logical or |\n",
    "|`not` | Not |"
   ]
  },
  {
   "cell_type": "code",
   "execution_count": 6,
   "id": "1f543d9e",
   "metadata": {},
   "outputs": [
    {
     "data": {
      "text/plain": [
       "False"
      ]
     },
     "execution_count": 6,
     "metadata": {},
     "output_type": "execute_result"
    }
   ],
   "source": [
    "7 > 8 and 4 >= 3"
   ]
  },
  {
   "cell_type": "code",
   "execution_count": 7,
   "id": "966f9495",
   "metadata": {},
   "outputs": [
    {
     "data": {
      "text/plain": [
       "True"
      ]
     },
     "execution_count": 7,
     "metadata": {},
     "output_type": "execute_result"
    }
   ],
   "source": [
    "7 > 8 or 4 >= 3"
   ]
  },
  {
   "cell_type": "code",
   "execution_count": 8,
   "id": "35462f23",
   "metadata": {},
   "outputs": [
    {
     "data": {
      "text/plain": [
       "False"
      ]
     },
     "execution_count": 8,
     "metadata": {},
     "output_type": "execute_result"
    }
   ],
   "source": [
    "not 10 != 9"
   ]
  },
  {
   "cell_type": "markdown",
   "id": "18216151",
   "metadata": {},
   "source": [
    "* The priority of boolean operators is lower than that of relational and arithmetic operators.\n",
    "* The result of a boolean operator is a logical value (True or False)."
   ]
  },
  {
   "cell_type": "markdown",
   "id": "f4fcfac5",
   "metadata": {},
   "source": [
    "## Basic syntax for statements\n",
    "\n"
   ]
  },
  {
   "cell_type": "markdown",
   "id": "b1467a92",
   "metadata": {},
   "source": [
    "## Python language basic principles of syntax\n",
    "\n"
   ]
  }
 ],
 "metadata": {
  "kernelspec": {
   "display_name": "Python 3",
   "language": "python",
   "name": "python3"
  },
  "language_info": {
   "codemirror_mode": {
    "name": "ipython",
    "version": 3
   },
   "file_extension": ".py",
   "mimetype": "text/x-python",
   "name": "python",
   "nbconvert_exporter": "python",
   "pygments_lexer": "ipython3",
   "version": "3.9.7"
  }
 },
 "nbformat": 4,
 "nbformat_minor": 5
}
