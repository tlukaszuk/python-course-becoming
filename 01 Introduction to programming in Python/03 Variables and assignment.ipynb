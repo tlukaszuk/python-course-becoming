{
 "cells": [
  {
   "cell_type": "markdown",
   "id": "79a800da",
   "metadata": {
    "slideshow": {
     "slide_type": "slide"
    }
   },
   "source": [
    "<font size=\"4\">Part:<br></font>\n",
    "<font size=\"6\">Introduction to programming in Python</font>\n",
    "\n",
    "<font size=\"4\">Section:<br></font>\n",
    "<font size=\"5\">Variables and assignment</font>\n",
    "\n",
    "***\n",
    "<br><br>"
   ]
  },
  {
   "cell_type": "markdown",
   "id": "854d317d",
   "metadata": {
    "slideshow": {
     "slide_type": "slide"
    }
   },
   "source": [
    "## Variables for storing values"
   ]
  },
  {
   "cell_type": "markdown",
   "id": "c644bb54",
   "metadata": {
    "slideshow": {
     "slide_type": "slide"
    }
   },
   "source": [
    "## Displaying values with `print`\n"
   ]
  },
  {
   "cell_type": "markdown",
   "id": "933a0195",
   "metadata": {
    "slideshow": {
     "slide_type": "slide"
    }
   },
   "source": [
    "## Variables must be created before they are used\n"
   ]
  }
 ],
 "metadata": {
  "celltoolbar": "Slideshow",
  "kernelspec": {
   "display_name": "Python 3",
   "language": "python",
   "name": "python3"
  },
  "language_info": {
   "codemirror_mode": {
    "name": "ipython",
    "version": 3
   },
   "file_extension": ".py",
   "mimetype": "text/x-python",
   "name": "python",
   "nbconvert_exporter": "python",
   "pygments_lexer": "ipython3",
   "version": "3.9.7"
  }
 },
 "nbformat": 4,
 "nbformat_minor": 5
}
