{
 "cells": [
  {
   "cell_type": "markdown",
   "id": "79a800da",
   "metadata": {
    "slideshow": {
     "slide_type": "slide"
    }
   },
   "source": [
    "| Part | Introduction to programming in Python |\n",
    "| -: | :- |\n",
    "| Section | Variables and assignment |\n",
    "\n",
    "***\n",
    "<br><br>"
   ]
  },
  {
   "cell_type": "markdown",
   "id": "854d317d",
   "metadata": {
    "slideshow": {
     "slide_type": "slide"
    }
   },
   "source": [
    "## Variables for storing values\n",
    "\n",
    "* Variables are names for values.\n",
    "* The `=` symbol assigns the value on the right to the name on the left.\n",
    "* The variable is created when a value is assigned to it."
   ]
  },
  {
   "cell_type": "code",
   "execution_count": 1,
   "id": "a01a9924",
   "metadata": {},
   "outputs": [],
   "source": [
    "# assigns an age to a variable age and a name in quotes to a variable first_name\n",
    "age = 42\n",
    "first_name = 'Daniel'"
   ]
  },
  {
   "cell_type": "markdown",
   "id": "2cad5475",
   "metadata": {
    "slideshow": {
     "slide_type": "slide"
    }
   },
   "source": [
    "## Variable names\n",
    "\n",
    "* Can only contain letters, digits, and underscore `_` (typically used to separate words in long variable names)\n",
    "* Cannot start with a digit\n",
    "* Are case sensitive (`age`, `Age` and `AGE` are three different variables)\n"
   ]
  },
  {
   "cell_type": "code",
   "execution_count": 2,
   "id": "8a22e4c5",
   "metadata": {},
   "outputs": [],
   "source": [
    "age = 17\n",
    "Age = 35\n",
    "very_long_variable_name = 4.5"
   ]
  },
  {
   "cell_type": "markdown",
   "id": "c644bb54",
   "metadata": {
    "slideshow": {
     "slide_type": "slide"
    }
   },
   "source": [
    "## Displaying values with `print`\n",
    "\n",
    "* Built-in Python function called `print` prints things as text.\n",
    "* Call the function (i.e., tell Python to run it) by using its name (`print`).\n",
    "* Provide values to the function (i.e., the things to print) in parentheses (`print(age)`).\n",
    "* To add a string to the printout, wrap the string in single (`print('text')`) or double (`print(\"text\")`) quotes.\n",
    "* The values passed to the function are called __arguments__.\n",
    "* `print` automatically puts a single space between items to separate them."
   ]
  },
  {
   "cell_type": "code",
   "execution_count": 3,
   "id": "8eec2b49",
   "metadata": {},
   "outputs": [
    {
     "name": "stdout",
     "output_type": "stream",
     "text": [
      "Daniel is 42 years old.\n"
     ]
    }
   ],
   "source": [
    "age = 42\n",
    "first_name = 'Daniel'\n",
    "\n",
    "print(first_name, \"is\", age, 'years old.')"
   ]
  },
  {
   "cell_type": "markdown",
   "id": "933a0195",
   "metadata": {
    "slideshow": {
     "slide_type": "slide"
    }
   },
   "source": [
    "## Variables must be created before they are used\n",
    "\n",
    "* If a variable doesn’t exist yet, or if the name has been mis-spelled, Python reports an error.\n",
    "* A variable must be created before it is used for the first time (the first time it is referenced).\n",
    "* Creating a variable means assigning a value to the variable."
   ]
  },
  {
   "cell_type": "code",
   "execution_count": 4,
   "id": "f717c905",
   "metadata": {},
   "outputs": [
    {
     "ename": "NameError",
     "evalue": "name 'last_name' is not defined",
     "output_type": "error",
     "traceback": [
      "\u001b[1;31m---------------------------------------------------------------------------\u001b[0m",
      "\u001b[1;31mNameError\u001b[0m                                 Traceback (most recent call last)",
      "\u001b[1;32m<ipython-input-4-ee7776690ae1>\u001b[0m in \u001b[0;36m<module>\u001b[1;34m\u001b[0m\n\u001b[1;32m----> 1\u001b[1;33m \u001b[0mprint\u001b[0m\u001b[1;33m(\u001b[0m\u001b[0mlast_name\u001b[0m\u001b[1;33m)\u001b[0m   \u001b[1;31m# <--- An error will occur here because at this point\u001b[0m\u001b[1;33m\u001b[0m\u001b[1;33m\u001b[0m\u001b[0m\n\u001b[0m\u001b[0;32m      2\u001b[0m                    \u001b[1;31m# the variable last_name has not yet been created\u001b[0m\u001b[1;33m\u001b[0m\u001b[1;33m\u001b[0m\u001b[0m\n",
      "\u001b[1;31mNameError\u001b[0m: name 'last_name' is not defined"
     ]
    }
   ],
   "source": [
    "print(last_name)   # <--- An error will occur here because at this point\n",
    "                   # the variable last_name has not yet been created"
   ]
  },
  {
   "cell_type": "markdown",
   "id": "4484e080",
   "metadata": {
    "slideshow": {
     "slide_type": "slide"
    }
   },
   "source": [
    "## ---- Exercise ----\n",
    "\n",
    "Write code in which you create variable `name` and assign it a value representing your name, and then output the greeting message \"Hello\" and the name you specified. The result of the execution of your code should look, for example, like this `Hello Adam`.\n",
    "\n",
    "<font size=\"2\">Write your code in the cell below. If you have this notebook open in a tool that allows you to run code, such as mybinder.org, execute the code by running it with Shift+Enter or using the Run key (with arrow) from the toolbar at the top.</font>"
   ]
  },
  {
   "cell_type": "code",
   "execution_count": null,
   "id": "5a441855",
   "metadata": {},
   "outputs": [],
   "source": [
    "# Write your code here"
   ]
  }
 ],
 "metadata": {
  "kernelspec": {
   "display_name": "Python 3",
   "language": "python",
   "name": "python3"
  },
  "language_info": {
   "codemirror_mode": {
    "name": "ipython",
    "version": 3
   },
   "file_extension": ".py",
   "mimetype": "text/x-python",
   "name": "python",
   "nbconvert_exporter": "python",
   "pygments_lexer": "ipython3",
   "version": "3.9.7"
  }
 },
 "nbformat": 4,
 "nbformat_minor": 5
}
