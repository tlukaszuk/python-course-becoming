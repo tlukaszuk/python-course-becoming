{
 "cells": [
  {
   "cell_type": "markdown",
   "id": "79a800da",
   "metadata": {
    "slideshow": {
     "slide_type": "slide"
    }
   },
   "source": [
    "# Introduction to programming in Python\n",
    "## Built-in Python functions\n",
    "\n",
    "***\n",
    "<br>"
   ]
  },
  {
   "cell_type": "markdown",
   "id": "e0ec7292",
   "metadata": {},
   "source": [
    "## Introduction to functions\n",
    "\n",
    "* A function is a block of organized, reusable code that is used to perform a single, related action.\n",
    "* You can pass data, known as parameters, into a function.\n",
    "* A function can return data as a result.\n",
    "\n",
    "<font size=\"2\">You will learn how to write your own functions later in the course. Now you will get to know some of the useful functions you receive together with the Python environment.</font>"
   ]
  },
  {
   "cell_type": "markdown",
   "id": "2ff19f2c",
   "metadata": {},
   "source": [
    "## Overview of built-in Python functions\n",
    "\n",
    "* The functions listed below can be accessed anywhere in the code without any additional action.\n",
    "\n",
    "| | Built-in Functions |\n",
    "| --- | :--- |\n",
    "| A | `abs()` `aiter()` `all()` `any()` `anext()` `ascii()` |\n",
    "| B | `bin()` `bool()` `breakpoint()` `bytearray()` `bytes()` |\n",
    "| C | `callable()` `chr()` `classmethod()` `compile()` `complex()` |\n",
    "| D | `delattr()` `dict()` `dir()` `divmod()` |\n",
    "| E | `enumerate()` `eval()` `exec()` |\n",
    "| F | `filter()` `float()` `format()` `frozenset()` |\n",
    "| G | `getattr()` `globals()` |\n",
    "| H | `hasattr()` `hash()` `help()` `hex()` |\n",
    "| I | `id()` `input()` `int()` `isinstance()` `issubclass()` `iter()` |\n",
    "| L | `len()` `list()` `locals()` |\n",
    "| M | `map()` `max()` `memoryview()` `min()` |\n",
    "| N | `next()` |\n",
    "| O | `object()` `oct()` `open()` `ord()` |\n",
    "| P | `pow()` `print()` `property()` |\n",
    "| R | `range()` `repr()` `reversed()` `round()` |\n",
    "| S | `set()` `setattr()` `slice()` `sorted()` `staticmethod()` `str()` `sum()` `super()` |\n",
    "| T | `tuple()` `type()` |\n",
    "| V | `vars()` |\n",
    "| Z | `zip()` |\n",
    "| _ | `__import__()` |\n"
   ]
  },
  {
   "cell_type": "markdown",
   "id": "f581e56a",
   "metadata": {},
   "source": [
    "## A function may take zero or more arguments\n",
    "\n",
    "* An argument is a value passed into a function.\n",
    "* Each function can take arguments when it is called. The number of arguments is specified in the function definition."
   ]
  },
  {
   "cell_type": "code",
   "execution_count": 1,
   "id": "2df5d162",
   "metadata": {},
   "outputs": [
    {
     "data": {
      "text/plain": [
       "7"
      ]
     },
     "execution_count": 1,
     "metadata": {},
     "output_type": "execute_result"
    }
   ],
   "source": [
    "abs(-7)  # value -7 is argument passed into function abs"
   ]
  },
  {
   "cell_type": "markdown",
   "id": "ee65067a",
   "metadata": {},
   "source": [
    "## Every function returns something\n",
    "\n",
    "* Every function call produces some result.\n",
    "* If the function doesn’t have a useful result to return, it usually returns the special value `None`. `None` is a Python object that stands in anytime there is no value."
   ]
  },
  {
   "cell_type": "code",
   "execution_count": 2,
   "id": "6a28588d",
   "metadata": {},
   "outputs": [
    {
     "name": "stdout",
     "output_type": "stream",
     "text": [
      "result of len is 9\n"
     ]
    }
   ],
   "source": [
    "result = len(\"something\")\n",
    "print('result of len is', result)"
   ]
  },
  {
   "cell_type": "code",
   "execution_count": 3,
   "id": "17c32c1a",
   "metadata": {},
   "outputs": [
    {
     "name": "stdout",
     "output_type": "stream",
     "text": [
      "example\n",
      "result of print is None\n"
     ]
    }
   ],
   "source": [
    "result = print('example')\n",
    "print('result of print is', result)"
   ]
  },
  {
   "cell_type": "markdown",
   "id": "7c3b76dc",
   "metadata": {},
   "source": [
    "## Commonly-used built-in functions\n",
    "\n",
    "* `len(s)` - return the length (the number of items) of an object `s`, e.g. length of text\n",
    "* `int(v)`, `str(v)`, `float(v)` - create a new value of the specified type from an existing one `v` \n",
    "* `max(v1, v2, ...)`, `min(v1, v2, ...)` - return the largest/smallest of two or more arguments"
   ]
  },
  {
   "cell_type": "code",
   "execution_count": 4,
   "id": "cf9dedd2",
   "metadata": {},
   "outputs": [
    {
     "data": {
      "text/plain": [
       "37"
      ]
     },
     "execution_count": 4,
     "metadata": {},
     "output_type": "execute_result"
    }
   ],
   "source": [
    "s = \"Introduction to programming in Python\"\n",
    "len(s)"
   ]
  },
  {
   "cell_type": "code",
   "execution_count": 5,
   "id": "20cc4f35",
   "metadata": {},
   "outputs": [
    {
     "data": {
      "text/plain": [
       "-4"
      ]
     },
     "execution_count": 5,
     "metadata": {},
     "output_type": "execute_result"
    }
   ],
   "source": [
    "int(-4.52)"
   ]
  },
  {
   "cell_type": "code",
   "execution_count": 6,
   "id": "cc48c2ac",
   "metadata": {},
   "outputs": [
    {
     "data": {
      "text/plain": [
       "4.67"
      ]
     },
     "execution_count": 6,
     "metadata": {},
     "output_type": "execute_result"
    }
   ],
   "source": [
    "float(\"4.67\")"
   ]
  },
  {
   "cell_type": "code",
   "execution_count": 10,
   "id": "379f05b9",
   "metadata": {},
   "outputs": [
    {
     "data": {
      "text/plain": [
       "7"
      ]
     },
     "execution_count": 10,
     "metadata": {},
     "output_type": "execute_result"
    }
   ],
   "source": [
    "max(3, 5, 7, 1, 2)"
   ]
  },
  {
   "cell_type": "markdown",
   "id": "b0b94885",
   "metadata": {},
   "source": [
    "## Use the built-in function `help` to get help for a function\n",
    "\n",
    "* Every built-in function has online documentation."
   ]
  },
  {
   "cell_type": "code",
   "execution_count": 7,
   "id": "0743690b",
   "metadata": {},
   "outputs": [
    {
     "name": "stdout",
     "output_type": "stream",
     "text": [
      "Help on built-in function round in module builtins:\n",
      "\n",
      "round(number, ndigits=None)\n",
      "    Round a number to a given precision in decimal digits.\n",
      "    \n",
      "    The return value is an integer if ndigits is omitted or None.  Otherwise\n",
      "    the return value has the same type as the number.  ndigits may be negative.\n",
      "\n"
     ]
    }
   ],
   "source": [
    "help(round)"
   ]
  },
  {
   "cell_type": "markdown",
   "id": "18bb4bb1",
   "metadata": {},
   "source": [
    "## ---- Exercise ----\n",
    "\n",
    "Using the `print` and `round` functions, display the number `3.14159265359` to 2, 3, 4 and 8 decimal places."
   ]
  },
  {
   "cell_type": "code",
   "execution_count": null,
   "id": "6a32640d",
   "metadata": {},
   "outputs": [],
   "source": [
    "# Write your code here"
   ]
  }
 ],
 "metadata": {
  "kernelspec": {
   "display_name": "Python 3",
   "language": "python",
   "name": "python3"
  },
  "language_info": {
   "codemirror_mode": {
    "name": "ipython",
    "version": 3
   },
   "file_extension": ".py",
   "mimetype": "text/x-python",
   "name": "python",
   "nbconvert_exporter": "python",
   "pygments_lexer": "ipython3",
   "version": "3.9.7"
  }
 },
 "nbformat": 4,
 "nbformat_minor": 5
}
