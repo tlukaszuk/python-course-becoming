{
 "cells": [
  {
   "cell_type": "markdown",
   "id": "79a800da",
   "metadata": {
    "slideshow": {
     "slide_type": "slide"
    }
   },
   "source": [
    "# Introduction to programming in Python\n",
    "## Basic data types\n",
    "\n",
    "***\n",
    "<br>"
   ]
  },
  {
   "cell_type": "markdown",
   "id": "214f22d0",
   "metadata": {},
   "source": [
    "## What is a data type?\n",
    "\n",
    "* At a high level, you can say variables are boxes that store data.\n",
    "* At a low level, variables are just names of memory allocation where the value is stored.\n",
    "\n",
    "<img src=\"img/variable_as_box.jpg\" style=\"width:300px\">\n",
    "\n",
    "* So if a variable is like a box, then the **data type** tells you about the type of content (data) within the box.\n",
    "* More technically: a data type is a data attribute that tells the compiler or interpreter how the programmer intends to use the data.\n",
    "* The data type uniquely defines what kind of operations can be performed on a structure of a given type."
   ]
  },
  {
   "cell_type": "markdown",
   "id": "45d4cbd7",
   "metadata": {},
   "source": [
    "## Data type in Python\n",
    "\n",
    "<img src=\"img/python-data-types.jpg\" style=\"width:400px\">"
   ]
  },
  {
   "cell_type": "markdown",
   "id": "ca9a7a6d",
   "metadata": {},
   "source": [
    "## The `type` function\n",
    "\n",
    "* `type(argument)` - returns information about the type of the argument\n",
    "* The argument is an object, i.e. it can be a variable or a value."
   ]
  },
  {
   "cell_type": "code",
   "execution_count": 1,
   "id": "2d2d55d2",
   "metadata": {},
   "outputs": [
    {
     "data": {
      "text/plain": [
       "int"
      ]
     },
     "execution_count": 1,
     "metadata": {},
     "output_type": "execute_result"
    }
   ],
   "source": [
    "type(123)"
   ]
  },
  {
   "cell_type": "code",
   "execution_count": 2,
   "id": "b9ba5d06",
   "metadata": {},
   "outputs": [
    {
     "data": {
      "text/plain": [
       "str"
      ]
     },
     "execution_count": 2,
     "metadata": {},
     "output_type": "execute_result"
    }
   ],
   "source": [
    "type(\"Hello world\")"
   ]
  },
  {
   "cell_type": "markdown",
   "id": "62de8c9d",
   "metadata": {},
   "source": [
    "## Numeric data types\n",
    "\n",
    "* **int** - integer\n",
    "* **float** - real number\n",
    "* **complex** - composite number"
   ]
  },
  {
   "cell_type": "markdown",
   "id": "4638a16b",
   "metadata": {},
   "source": [
    "## `int` type\n",
    "\n",
    "* Integer\n",
    "* Defines integers (positive and negative).\n",
    "* Values of type int can be used in arithmetic operations.\n"
   ]
  },
  {
   "cell_type": "code",
   "execution_count": 3,
   "id": "c57749ae",
   "metadata": {},
   "outputs": [
    {
     "name": "stdout",
     "output_type": "stream",
     "text": [
      "-45\n",
      "95256987128\n"
     ]
    }
   ],
   "source": [
    "# initialisation of variables with values of type int\n",
    "\n",
    "integer_number = -45\n",
    "\n",
    "# easy-to-read large numbers\n",
    "readable = 95_256_987_128\n",
    "\n",
    "print(integer_number)\n",
    "print(readable)"
   ]
  },
  {
   "cell_type": "markdown",
   "id": "4ed4b19f",
   "metadata": {},
   "source": [
    "## `float` type\n",
    "\n",
    "* Defines real numbers.\n",
    "* Floating point numbers, cannot be represented with exact precision due to hardware limitations.\n",
    "* Values of type float can be used in arithmetic operations."
   ]
  },
  {
   "cell_type": "code",
   "execution_count": 4,
   "id": "4dd713c2",
   "metadata": {},
   "outputs": [
    {
     "name": "stdout",
     "output_type": "stream",
     "text": [
      "23.56 5.0 3400000.0\n"
     ]
    }
   ],
   "source": [
    "# initialisation of variables with values of type int\n",
    "\n",
    "float_number1 = 23.56\n",
    "float_number2 = 5.\n",
    "float_number3 = 3.4e6\n",
    "\n",
    "print(float_number1, float_number2, float_number3)"
   ]
  },
  {
   "cell_type": "code",
   "execution_count": 5,
   "id": "8172665c",
   "metadata": {},
   "outputs": [
    {
     "name": "stdout",
     "output_type": "stream",
     "text": [
      "5.551115123125783e-17\n"
     ]
    }
   ],
   "source": [
    "# precision limits for float numbers - the result should be 0 \n",
    "\n",
    "print(0.1 + 0.2 - 0.3)"
   ]
  },
  {
   "cell_type": "markdown",
   "id": "a2f3b13d",
   "metadata": {},
   "source": [
    "## `complex` type\n",
    "\n",
    "* Defines a complex number.\n",
    "* Consists of a real and an imaginary part.\n",
    "* Basic operations on complex numbers are contained in the language core, more advanced functions are contained in the `cmath` module."
   ]
  },
  {
   "cell_type": "code",
   "execution_count": 6,
   "id": "53e968f0",
   "metadata": {},
   "outputs": [
    {
     "name": "stdout",
     "output_type": "stream",
     "text": [
      "(2+4j) (5-3j)\n"
     ]
    }
   ],
   "source": [
    "# initialisation of variables with values of type complex\n",
    "\n",
    "complex_number1 = 2 + 4j\n",
    "complex_number2 = complex(5, -3)\n",
    "\n",
    "print(complex_number1, complex_number2)"
   ]
  },
  {
   "cell_type": "markdown",
   "id": "38fc834a",
   "metadata": {},
   "source": [
    "## Type conversions\n",
    "\n",
    "* Python provides some simple functions to convert one data type to another: `int(arg)`, `float(arg)`, `str(arg)`.\n",
    "* If an argument passed to the `int` or `float` function cannot be converted to a number an error will be reported."
   ]
  },
  {
   "cell_type": "code",
   "execution_count": 7,
   "id": "c482d4f8",
   "metadata": {},
   "outputs": [
    {
     "data": {
      "text/plain": [
       "(3, 57, -4, 45.0, 5000.0, '4', '8.945')"
      ]
     },
     "execution_count": 7,
     "metadata": {},
     "output_type": "execute_result"
    }
   ],
   "source": [
    "# correct conversions\n",
    "\n",
    "int(3.14), int(\"57\"), int(\"-4\"), float(45), float(\"5e3\"), str(4), str(8.945)"
   ]
  },
  {
   "cell_type": "code",
   "execution_count": 8,
   "id": "40a3ea16",
   "metadata": {},
   "outputs": [
    {
     "ename": "ValueError",
     "evalue": "invalid literal for int() with base 10: 'text4'",
     "output_type": "error",
     "traceback": [
      "\u001b[1;31m---------------------------------------------------------------------------\u001b[0m",
      "\u001b[1;31mValueError\u001b[0m                                Traceback (most recent call last)",
      "\u001b[1;32m<ipython-input-8-49cd6db461dd>\u001b[0m in \u001b[0;36m<module>\u001b[1;34m\u001b[0m\n\u001b[0;32m      1\u001b[0m \u001b[1;31m# text cannot be converted to the int type\u001b[0m\u001b[1;33m\u001b[0m\u001b[1;33m\u001b[0m\u001b[0m\n\u001b[0;32m      2\u001b[0m \u001b[1;33m\u001b[0m\u001b[0m\n\u001b[1;32m----> 3\u001b[1;33m \u001b[0mint\u001b[0m\u001b[1;33m(\u001b[0m\u001b[1;34m\"text4\"\u001b[0m\u001b[1;33m)\u001b[0m\u001b[1;33m\u001b[0m\u001b[1;33m\u001b[0m\u001b[0m\n\u001b[0m",
      "\u001b[1;31mValueError\u001b[0m: invalid literal for int() with base 10: 'text4'"
     ]
    }
   ],
   "source": [
    "# text cannot be converted to the int type\n",
    "\n",
    "int(\"text4\")"
   ]
  },
  {
   "cell_type": "markdown",
   "id": "b966c746",
   "metadata": {},
   "source": [
    "## Basic arithmetic operations\n",
    "\n",
    "* Basic arithmetic operations include: addition, subtraction, multiplication, division (floating point, integer, modulo), raising to a power, square root.\n",
    "* If we perform operations on numbers of different types, Python will first convert the arguments to a wider type, then perform the operation.\n",
    "* **int ∈ float ∈ complex**"
   ]
  },
  {
   "cell_type": "code",
   "execution_count": 9,
   "id": "9b0731fc",
   "metadata": {},
   "outputs": [
    {
     "name": "stdout",
     "output_type": "stream",
     "text": [
      "3\n",
      "1.0\n",
      "30\n",
      "4.0 4 0\n",
      "18.8356 18.8356\n",
      "1.4142135623730951 1.4142135623730951\n"
     ]
    }
   ],
   "source": [
    "print(1 + 2)\n",
    "print(3 - 2.0)\n",
    "print(5 * 6)\n",
    "print(8/2, 8//2, 8%2)\n",
    "print(4.34**2, pow(4.34, 2))\n",
    "print(2**0.5, pow(2, 0.5))"
   ]
  },
  {
   "cell_type": "markdown",
   "id": "231f0bba",
   "metadata": {},
   "source": [
    "## Order of operations\n",
    "\n",
    "* The order of operations follows traditional mathematical notation.\n",
    "* Use round brackets `(` and `)` to indicate the order of operations."
   ]
  },
  {
   "cell_type": "code",
   "execution_count": 10,
   "id": "ace68b06",
   "metadata": {},
   "outputs": [
    {
     "name": "stdout",
     "output_type": "stream",
     "text": [
      "103\n",
      "132\n",
      "20\n"
     ]
    }
   ],
   "source": [
    "print(1 + 10 * 10 + 2)\n",
    "print((1+10) * (10+2))\n",
    "print((-7 + 2) * (-4))"
   ]
  },
  {
   "cell_type": "markdown",
   "id": "a1c04c00",
   "metadata": {},
   "source": [
    "## Logical data type\n",
    "\n",
    "* `bool`, boolean\n",
    "* Allows you to evaluate any expression and get a `True` or `False` answer.\n",
    "* The literals `True` and `False` are Python language constants.\n",
    "* Boolean type objects are also used as results of comparison operations.\n",
    "* Relational operators and boolean operators can be combined to form more complex logical operations."
   ]
  },
  {
   "cell_type": "code",
   "execution_count": 11,
   "id": "f275d1fb",
   "metadata": {},
   "outputs": [
    {
     "name": "stdout",
     "output_type": "stream",
     "text": [
      "False\n",
      "True\n",
      "<class 'bool'>\n"
     ]
    }
   ],
   "source": [
    "# initialisation of variables with values of type boolean\n",
    "decision = True\n",
    "\n",
    "# comparison operations\n",
    "print(decision == False)\n",
    "print(3e4 > 100)\n",
    "\n",
    "# checking type of variable\n",
    "print(type(decision))"
   ]
  },
  {
   "cell_type": "markdown",
   "id": "cd0f8eb8",
   "metadata": {},
   "source": [
    "## Priority of logical operators\n",
    "\n",
    "* Priorities of logical operators from the highest: `not`, `and`, `or`.\n",
    "* Logical operations have the lowest priority of all operations in Python."
   ]
  },
  {
   "cell_type": "code",
   "execution_count": 12,
   "id": "532cbce1",
   "metadata": {},
   "outputs": [
    {
     "name": "stdout",
     "output_type": "stream",
     "text": [
      "False\n",
      "False\n",
      "False\n"
     ]
    }
   ],
   "source": [
    "t = True\n",
    "f = False\n",
    "\n",
    "print(not t or f)       # first \"not t\" and then \"or\" will be performed\n",
    "print(f or t and f)     # first \"and\" and then \"or\" will be performed\n",
    "print(3 > 4 and 5 < 6)  # first relational operations and the \"and\" will be performed"
   ]
  },
  {
   "cell_type": "markdown",
   "id": "5ad4e835",
   "metadata": {},
   "source": [
    "## Boolean expressions\n",
    "\n",
    "* The `and` and `or` operators return the value of the last expression evaluated.\n",
    "* Boolean expressions are evaluated from left to right, i.e. if it is known what the result will be, all segments of the expression are not checked to the end."
   ]
  },
  {
   "cell_type": "code",
   "execution_count": 13,
   "id": "27669a03",
   "metadata": {},
   "outputs": [
    {
     "name": "stdout",
     "output_type": "stream",
     "text": [
      "7\n",
      "False\n",
      "5\n",
      "9\n"
     ]
    }
   ],
   "source": [
    "print(1+4 and 3+4)   # evaluation \"1+4\" and then \"3+4\"\n",
    "print(1>5 and 9)     # evaluation \"1>5\" and no evaluation \"9\"\n",
    "print(1+4 or 3+4)    # evaluation \"1+4\" and no evaluation \"3+4\"\n",
    "print(1>5 or 9)      # evaluation \"1>5\" and then \"9\""
   ]
  },
  {
   "cell_type": "markdown",
   "id": "35404e04",
   "metadata": {},
   "source": [
    "## Text type (string)\n",
    "\n",
    "* Represents sequences (strings) of character data.\n",
    "* The type is also referred to as strings, character strings.\n",
    "* Strings are delimited by single quotes (`'`) or double quotes (`\"`).\n"
   ]
  },
  {
   "cell_type": "code",
   "execution_count": 14,
   "id": "8453f29a",
   "metadata": {},
   "outputs": [],
   "source": [
    "# initialisation of variables with values of type string\n",
    "\n",
    "string_value_1 = \"Hello world\"\n",
    "string_value_2 = 'today is Friday'"
   ]
  },
  {
   "cell_type": "markdown",
   "id": "b73613a2",
   "metadata": {},
   "source": [
    "## String type values\n",
    "\n",
    "* In strings delimited by single quotes, double quotes may be used.\n",
    "* In strings delimited by double quotes,  single quotes may be used.\n",
    "* Strings delimited by single quotes or double quotes must end before the end of the line.\n",
    "* Strings may continue across multiple lines if delimited by triple single quotes or double quotes."
   ]
  },
  {
   "cell_type": "code",
   "execution_count": 15,
   "id": "a07315f5",
   "metadata": {},
   "outputs": [],
   "source": [
    "message1 = 'I\\'m so glad'\n",
    "message2 = \"I'm so glad\"\n",
    "\n",
    "quote = '''Quote from The Godfather:\n",
    "\"It's not personal. It's strictly business.\"'''\n",
    "\n",
    "quote = \"\"\"Quote from The Godfather:\n",
    "'It's not personal. It's strictly business.'\"\"\""
   ]
  },
  {
   "cell_type": "markdown",
   "id": "4040c9e9",
   "metadata": {},
   "source": [
    "## Concatenation and multiplication of strings\n",
    "\n",
    "* Strings can be concatenated (glued together) using the `+` operator and repeated using `*`.\n",
    "* Two or more string literals (i.e. those enclosed in single quotes) next to each other are automatically concatenated."
   ]
  },
  {
   "cell_type": "code",
   "execution_count": 16,
   "id": "5962ad74",
   "metadata": {},
   "outputs": [
    {
     "name": "stdout",
     "output_type": "stream",
     "text": [
      "unununium\n",
      "Python\n"
     ]
    }
   ],
   "source": [
    "print(3 * 'un' + 'ium')\n",
    "\n",
    "text = 'Py' 'thon'\n",
    "print(text)"
   ]
  },
  {
   "cell_type": "markdown",
   "id": "ce1dead7",
   "metadata": {},
   "source": [
    "## Indexing of character strings\n",
    "\n",
    "* Character strings can be indexed, just like lists (to be introduced in the next part of the course).\n",
    "* The first character has index `0`.\n",
    "* The last character has index `-1`.\n",
    "* There is no separate character type; a character is simply a string of length one."
   ]
  },
  {
   "cell_type": "code",
   "execution_count": 17,
   "id": "d27fc4ec",
   "metadata": {},
   "outputs": [
    {
     "name": "stdout",
     "output_type": "stream",
     "text": [
      "P\n",
      "n\n",
      "n\n",
      "t\n"
     ]
    }
   ],
   "source": [
    "word = 'Python'\n",
    "\n",
    "print(word[0])\n",
    "print(word[5])\n",
    "print(word[-1])\n",
    "print(word[-4])"
   ]
  },
  {
   "cell_type": "markdown",
   "id": "47caba28",
   "metadata": {},
   "source": [
    "## String slicing\n",
    "\n",
    "* Indexing is used to obtain individual characters, slicing allows a substring to be obtained.\n",
    "* The initial index is included in the substring, the final index is not."
   ]
  },
  {
   "cell_type": "code",
   "execution_count": 18,
   "id": "f288e0a1",
   "metadata": {},
   "outputs": [
    {
     "name": "stdout",
     "output_type": "stream",
     "text": [
      "Py\n",
      "tho\n",
      "Py\n",
      "on\n",
      "on\n"
     ]
    }
   ],
   "source": [
    "word = 'Python'\n",
    "\n",
    "print(word[0:2])\n",
    "print(word[2:5])\n",
    "print(word[:2])\n",
    "print(word[4:])\n",
    "print(word[-2:])"
   ]
  },
  {
   "cell_type": "markdown",
   "id": "18a27668",
   "metadata": {},
   "source": [
    "## Non-mutability of strings\n",
    "\n",
    "* Python character strings cannot be changed - they are immutable.\n",
    "* Assigning a value to an indexed position in a string will cause an error.\n",
    "* If you need a different string, a new one should be created."
   ]
  },
  {
   "cell_type": "code",
   "execution_count": 19,
   "id": "17e5b951",
   "metadata": {},
   "outputs": [
    {
     "ename": "TypeError",
     "evalue": "'str' object does not support item assignment",
     "output_type": "error",
     "traceback": [
      "\u001b[1;31m---------------------------------------------------------------------------\u001b[0m",
      "\u001b[1;31mTypeError\u001b[0m                                 Traceback (most recent call last)",
      "\u001b[1;32m<ipython-input-19-ad89e228b316>\u001b[0m in \u001b[0;36m<module>\u001b[1;34m\u001b[0m\n\u001b[0;32m      1\u001b[0m \u001b[0mword\u001b[0m \u001b[1;33m=\u001b[0m \u001b[1;34m'Python'\u001b[0m\u001b[1;33m\u001b[0m\u001b[1;33m\u001b[0m\u001b[0m\n\u001b[1;32m----> 2\u001b[1;33m \u001b[0mword\u001b[0m\u001b[1;33m[\u001b[0m\u001b[1;36m0\u001b[0m\u001b[1;33m]\u001b[0m \u001b[1;33m=\u001b[0m \u001b[1;34m'J'\u001b[0m\u001b[1;33m\u001b[0m\u001b[1;33m\u001b[0m\u001b[0m\n\u001b[0m",
      "\u001b[1;31mTypeError\u001b[0m: 'str' object does not support item assignment"
     ]
    }
   ],
   "source": [
    "word = 'Python'\n",
    "word[0] = 'J'"
   ]
  },
  {
   "cell_type": "code",
   "execution_count": 20,
   "id": "4a52c61b",
   "metadata": {},
   "outputs": [
    {
     "name": "stdout",
     "output_type": "stream",
     "text": [
      "Jython\n",
      "Pypy\n"
     ]
    }
   ],
   "source": [
    "word = 'Python'\n",
    "\n",
    "print('J' + word[1:])\n",
    "print(word[:2] + 'py')"
   ]
  },
  {
   "cell_type": "markdown",
   "id": "69fa22d7",
   "metadata": {},
   "source": [
    "## ---- Exercise ----\n",
    "\n",
    "Create several variables by assigning them values of type `int`, `float`, `complex`, `bool` and `string`, and then use the `print` and `type` functions to output the types and values of these variables."
   ]
  },
  {
   "cell_type": "code",
   "execution_count": null,
   "id": "ec9708b8",
   "metadata": {},
   "outputs": [],
   "source": [
    "# Write your code here"
   ]
  }
 ],
 "metadata": {
  "kernelspec": {
   "display_name": "Python 3",
   "language": "python",
   "name": "python3"
  },
  "language_info": {
   "codemirror_mode": {
    "name": "ipython",
    "version": 3
   },
   "file_extension": ".py",
   "mimetype": "text/x-python",
   "name": "python",
   "nbconvert_exporter": "python",
   "pygments_lexer": "ipython3",
   "version": "3.9.7"
  }
 },
 "nbformat": 4,
 "nbformat_minor": 5
}
