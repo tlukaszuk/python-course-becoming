{
 "cells": [
  {
   "cell_type": "markdown",
   "id": "79a800da",
   "metadata": {
    "slideshow": {
     "slide_type": "slide"
    }
   },
   "source": [
    "# Introduction to programming in Python\n",
    "## List, tuples, dictionaries, sets\n",
    "\n",
    "***\n",
    "<br>"
   ]
  },
  {
   "cell_type": "markdown",
   "id": "98784012",
   "metadata": {},
   "source": [
    "## Composite data types\n",
    "\n",
    "* Composite types are data types that are containers holding other data types.\n",
    "* Elements placed in composite type objects can be values of simple types (e.g. numeric) and other composite type objects.\n",
    "* Composit types allow elements to be placed in them, elements to be read into them, and also offer more advanced operations for manipulating the contents of complex type objects."
   ]
  },
  {
   "cell_type": "markdown",
   "id": "9364b4b8",
   "metadata": {},
   "source": [
    "## List\n",
    "\n",
    "* A container that represents an ordered sequence of elements.\n",
    "\n",
    "<img src=\"img/list.png\" style=\"width:300px\">"
   ]
  },
  {
   "cell_type": "markdown",
   "id": "cde75f09",
   "metadata": {},
   "source": [
    "## List properties\n",
    "    \n",
    "* **Ordered** - keeps the order of the elements according to the order in which they are placed in the list\n",
    "* **Modifiable** - we can change the elements of the list\n",
    "* **Heterogeneous** - may contain elements of different types\n",
    "* **Duplicate** - may contain repeated elements\n"
   ]
  },
  {
   "cell_type": "markdown",
   "id": "0c8cd213",
   "metadata": {},
   "source": [
    "## List creation"
   ]
  },
  {
   "cell_type": "code",
   "execution_count": 1,
   "id": "3e7c1f22",
   "metadata": {},
   "outputs": [],
   "source": [
    "# the list may contain elements of different data types\n",
    "list_1 = [3, 4.67, 'abc', 5]\n",
    "\n",
    "# two ways to create an empty list\n",
    "empty_list_1 = []\n",
    "empty_list_2 = list()\n",
    "\n",
    "# a list element can be a list\n",
    "list_2 = [1, 2, 3, \"Baba Yaga is watching!\", list_1]"
   ]
  },
  {
   "cell_type": "markdown",
   "id": "66030a78",
   "metadata": {},
   "source": [
    "## Retrieving values from lists\n",
    "\n",
    "* Lists are indexed, i.e. its elements are accessed using indexes which are consecutive integers (counting from 0).\n",
    "* We can also index backwards using negative numbers.\n",
    "\n",
    "<img src=\"img/list2.png\" style=\"width:400px\">"
   ]
  },
  {
   "cell_type": "code",
   "execution_count": 2,
   "id": "621065a0",
   "metadata": {},
   "outputs": [
    {
     "data": {
      "text/plain": [
       "'cat'"
      ]
     },
     "execution_count": 2,
     "metadata": {},
     "output_type": "execute_result"
    }
   ],
   "source": [
    "l = [\"dog\", \"cat\", 123, 5.67]\n",
    "\n",
    "l[0]    # -> 'dog'\n",
    "l[1]    # -> 'cat'\n",
    "l[-1]   # -> 5.67\n",
    "l[-3]   # -> 'cat'"
   ]
  },
  {
   "cell_type": "markdown",
   "id": "dd580035",
   "metadata": {},
   "source": [
    "## List slicing\n",
    "\n",
    "* Slicing a part of a list.\n",
    "* `list[begin_index:end_index]`\n",
    "* `list[start_index:end_index:step]`"
   ]
  },
  {
   "cell_type": "code",
   "execution_count": 3,
   "id": "3c86564e",
   "metadata": {},
   "outputs": [
    {
     "data": {
      "text/plain": [
       "[7, 6, 5, 4, 3, 2, 1]"
      ]
     },
     "execution_count": 3,
     "metadata": {},
     "output_type": "execute_result"
    }
   ],
   "source": [
    "numbers = [1, 2, 3, 4, 5, 6, 7]\n",
    "\n",
    "numbers[1:3]   # -> [2, 3]\n",
    "numbers[2:-2]  # -> [3, 4, 5]\n",
    "numbers[1:6:2] # -> [2, 4, 6]\n",
    "numbers[::-1]  # -> [7, 6, 5, 4, 3, 2, 1]"
   ]
  },
  {
   "cell_type": "markdown",
   "id": "6c8a31ae",
   "metadata": {},
   "source": [
    "## Checking if the element is in the list"
   ]
  },
  {
   "cell_type": "code",
   "execution_count": 4,
   "id": "67c52029",
   "metadata": {},
   "outputs": [
    {
     "data": {
      "text/plain": [
       "(False, True)"
      ]
     },
     "execution_count": 4,
     "metadata": {},
     "output_type": "execute_result"
    }
   ],
   "source": [
    "list1 = [\"dog\", \"cat\", 123, 5.67]\n",
    "\n",
    "\"lion\" in list1, 123 in list1"
   ]
  },
  {
   "cell_type": "markdown",
   "id": "791f7e9b",
   "metadata": {},
   "source": [
    "## Modifying list contents\n",
    "\n",
    "* Adding new values: `append`, `insert` operations.\n",
    "* Inserting values in place of existing values, overwriting elements.\n",
    "* Deleting values from the list: `del`, `remove`, `clear` operations."
   ]
  },
  {
   "cell_type": "code",
   "execution_count": 5,
   "id": "284f3d9f",
   "metadata": {},
   "outputs": [
    {
     "name": "stdout",
     "output_type": "stream",
     "text": [
      "[1, 2, 3, 4, 5, 6, 7, 8]\n",
      "['X', 1, 2, 3, 4, 5, 6, 7, 8]\n",
      "['X', 'Y', 2, 3, 4, 5, 6, 7, 8]\n",
      "['X', 'Y', 2, 'N', 5, 6, 7, 8]\n",
      "['X', 'Y', 'N', 5, 6, 7, 8]\n",
      "['X', 'Y', 'N', 6, 7, 8]\n",
      "[7, 8]\n",
      "[]\n"
     ]
    }
   ],
   "source": [
    "list1 = [1,2,3,4,5,6,7]\n",
    "\n",
    "# appending the element to the end of the list\n",
    "list1.append(8)\n",
    "print(list1)\n",
    "\n",
    "# insertion of the element in the middle of the list\n",
    "list1.insert(0, \"X\")\n",
    "print(list1)\n",
    "\n",
    "# replacing the element with the new element\n",
    "list1[1] = \"Y\"\n",
    "print(list1)\n",
    "\n",
    "# replacing the range of elements with the new element\n",
    "list1[3:5] = 'N'\n",
    "print(list1)\n",
    "\n",
    "# deletion of the element with specific index\n",
    "del list1[2]\n",
    "print(list1)\n",
    "\n",
    "# deletion of the first occurrence of the element with the specified value\n",
    "list1.remove(5)\n",
    "print(list1)\n",
    "\n",
    "# deleting range of elements (sub-lists)\n",
    "del list1[0:4]\n",
    "print(list1)\n",
    "\n",
    "# learing the entire contents of the list\n",
    "list1.clear()\n",
    "print(list1)"
   ]
  },
  {
   "cell_type": "markdown",
   "id": "f58ab931",
   "metadata": {},
   "source": [
    "## Other interesting functions and possibilities of the lists\n",
    "\n",
    "* `sort()` - sorting of elements in a list\n",
    "* `reverse()` - reversing lists\n",
    "* `count(value)` - counting the occurrences of a specific value\n",
    "* `index(value)` - determining the index under which a certain value appears"
   ]
  },
  {
   "cell_type": "code",
   "execution_count": 6,
   "id": "2de2a1fd",
   "metadata": {},
   "outputs": [
    {
     "name": "stdout",
     "output_type": "stream",
     "text": [
      "['Carrot', 'Cucumber', 'Potato', 'Tomato']\n",
      "['Tomato', 'Potato', 'Cucumber', 'Carrot']\n",
      "['Carrot', 'Cucumber', 'Potato', 'Tomato']\n"
     ]
    }
   ],
   "source": [
    "vegetables = [\"Cucumber\", \"Tomato\", \"Potato\", \"Carrot\"]\n",
    "\n",
    "vegetables.sort()\n",
    "print(vegetables)\n",
    "\n",
    "# sort in reverse order\n",
    "vegetables.sort(reverse=True)\n",
    "print(vegetables)\n",
    "\n",
    "vegetables.reverse()\n",
    "print(vegetables)"
   ]
  },
  {
   "cell_type": "code",
   "execution_count": 7,
   "id": "1ba8b3e8",
   "metadata": {},
   "outputs": [
    {
     "name": "stdout",
     "output_type": "stream",
     "text": [
      "4\n",
      "5\n"
     ]
    }
   ],
   "source": [
    "list1 = [1, 3, 5, 8, 13, 21, 34, 55, 1, 1, 1]\n",
    "\n",
    "print(list1.count(1))\n",
    "print(list1.index(21))"
   ]
  },
  {
   "cell_type": "markdown",
   "id": "4876ac67",
   "metadata": {},
   "source": [
    "## Tuple\n",
    "\n",
    "* A container that represents an ordered sequence of elements.\n",
    "\n",
    "<img src=\"img/tuple.png\" style=\"width:350px\">"
   ]
  },
  {
   "cell_type": "markdown",
   "id": "ca3af176",
   "metadata": {},
   "source": [
    "## Properties of a tuple\n",
    "\n",
    "* **Ordered** - keeps the order of the elements according to the order in which they were placed in the tuple when it was created\n",
    "* **Non-modifiable** - we cannot change the elements of the tuple\n",
    "* **Heterogeneous** - can contain elements of different types\n",
    "* **Duplicate** - may contain repeated elements"
   ]
  },
  {
   "cell_type": "markdown",
   "id": "cad173ec",
   "metadata": {},
   "source": [
    "## Creation of tuples"
   ]
  },
  {
   "cell_type": "code",
   "execution_count": 8,
   "id": "cb867717",
   "metadata": {},
   "outputs": [],
   "source": [
    "# two ways to create an empty tuple\n",
    "empty_tuple_1 = ()\n",
    "empty_tuple_2 = tuple()\n",
    "\n",
    "# elements of a tuple can be of different types\n",
    "tuple1 = (\"John\", \"Matthew\", 777, \"text\", [12.55, \"goat\"])"
   ]
  },
  {
   "cell_type": "markdown",
   "id": "b5cf8fcc",
   "metadata": {},
   "source": [
    "## Retrieving values from tuples\n",
    "\n",
    "* The principles are identical to those for lists.\n",
    "* We use the same constructs to retrieve elements: indexing, slicing."
   ]
  },
  {
   "cell_type": "code",
   "execution_count": 9,
   "id": "b5f1ef12",
   "metadata": {},
   "outputs": [
    {
     "data": {
      "text/plain": [
       "('Matthew', 777)"
      ]
     },
     "execution_count": 9,
     "metadata": {},
     "output_type": "execute_result"
    }
   ],
   "source": [
    "tuple1 = (\"John\", \"Matthew\", 777, \"text\", [12.55, \"goat\"])\n",
    "\n",
    "tuple1[1]    # -> 'Matthew'\n",
    "tuple1[-2]   # -> 'text'\n",
    "tuple1[1:3]  # -> ('Matthew', 777)"
   ]
  },
  {
   "cell_type": "markdown",
   "id": "d20ab50b",
   "metadata": {},
   "source": [
    "## Forbidden operations on tuples\n",
    "\n",
    "* No sorting or other operations that modify the elements of the tuple."
   ]
  },
  {
   "cell_type": "code",
   "execution_count": 10,
   "id": "78155098",
   "metadata": {},
   "outputs": [
    {
     "ename": "AttributeError",
     "evalue": "'tuple' object has no attribute 'sort'",
     "output_type": "error",
     "traceback": [
      "\u001b[1;31m---------------------------------------------------------------------------\u001b[0m",
      "\u001b[1;31mAttributeError\u001b[0m                            Traceback (most recent call last)",
      "\u001b[1;32m<ipython-input-10-617d0fdc6971>\u001b[0m in \u001b[0;36m<module>\u001b[1;34m\u001b[0m\n\u001b[0;32m      1\u001b[0m \u001b[0mtuple2\u001b[0m \u001b[1;33m=\u001b[0m \u001b[1;33m(\u001b[0m\u001b[1;36m2\u001b[0m\u001b[1;33m,\u001b[0m \u001b[1;36m4\u001b[0m\u001b[1;33m,\u001b[0m \u001b[1;36m40\u001b[0m\u001b[1;33m,\u001b[0m \u001b[1;36m56\u001b[0m\u001b[1;33m,\u001b[0m \u001b[1;36m2.45\u001b[0m\u001b[1;33m)\u001b[0m\u001b[1;33m\u001b[0m\u001b[1;33m\u001b[0m\u001b[0m\n\u001b[0;32m      2\u001b[0m \u001b[1;33m\u001b[0m\u001b[0m\n\u001b[1;32m----> 3\u001b[1;33m \u001b[0mtuple2\u001b[0m\u001b[1;33m.\u001b[0m\u001b[0msort\u001b[0m\u001b[1;33m(\u001b[0m\u001b[1;33m)\u001b[0m\u001b[1;33m\u001b[0m\u001b[1;33m\u001b[0m\u001b[0m\n\u001b[0m",
      "\u001b[1;31mAttributeError\u001b[0m: 'tuple' object has no attribute 'sort'"
     ]
    }
   ],
   "source": [
    "tuple2 = (2, 4, 40, 56, 2.45)\n",
    "\n",
    "tuple2.sort()"
   ]
  },
  {
   "cell_type": "markdown",
   "id": "ef88728a",
   "metadata": {},
   "source": [
    "## Dictionary\n",
    "\n",
    "* A container that is an unordered collection of elements consisting of key-value pairs.\n",
    "\n",
    "<img src=\"img/dict.png\" style=\"width:250px\">"
   ]
  },
  {
   "cell_type": "markdown",
   "id": "0e3fbfc2",
   "metadata": {},
   "source": [
    "## Properties of a dictionary\n",
    "\n",
    "* **Unordered** - the elements in the dictionary are not ordered by any index\n",
    "* **Modifiable** - dictionary elements can be added, deleted and modified.\n",
    "* **Unique keys** - the keys in the dictionary cannot repeat themselves"
   ]
  },
  {
   "cell_type": "markdown",
   "id": "27ceffbd",
   "metadata": {},
   "source": [
    "## Creation of dictionaries"
   ]
  },
  {
   "cell_type": "code",
   "execution_count": 11,
   "id": "efef9cde",
   "metadata": {},
   "outputs": [],
   "source": [
    "# two ways to create an empty dict\n",
    "empty_dict_1 = {}\n",
    "empty_dict_2 = dict()\n",
    "\n",
    "# both keys and values can be of different types\n",
    "dict1 = {'one': 12213, 'two': 3.14, 3: 'text'}"
   ]
  },
  {
   "cell_type": "markdown",
   "id": "ba5fb14a",
   "metadata": {},
   "source": [
    "## Retrieving values from dictionaries\n",
    "\n",
    "* The values in the dictionary are referenced using the key."
   ]
  },
  {
   "cell_type": "code",
   "execution_count": 12,
   "id": "faf267c1",
   "metadata": {},
   "outputs": [
    {
     "name": "stdout",
     "output_type": "stream",
     "text": [
      "3.14\n"
     ]
    }
   ],
   "source": [
    "dict1 = {'one': 12213, 'two': 3.14, 3: 'text'}\n",
    "\n",
    "print(dict1['two'])"
   ]
  },
  {
   "cell_type": "code",
   "execution_count": 13,
   "id": "c82a39a9",
   "metadata": {},
   "outputs": [
    {
     "ename": "KeyError",
     "evalue": "12",
     "output_type": "error",
     "traceback": [
      "\u001b[1;31m---------------------------------------------------------------------------\u001b[0m",
      "\u001b[1;31mKeyError\u001b[0m                                  Traceback (most recent call last)",
      "\u001b[1;32m<ipython-input-13-2e5d51533fd6>\u001b[0m in \u001b[0;36m<module>\u001b[1;34m\u001b[0m\n\u001b[0;32m      1\u001b[0m \u001b[1;31m# if the dictionary does not contain the specified key an error occurs\u001b[0m\u001b[1;33m\u001b[0m\u001b[1;33m\u001b[0m\u001b[0m\n\u001b[1;32m----> 2\u001b[1;33m \u001b[0mprint\u001b[0m\u001b[1;33m(\u001b[0m\u001b[0mdict1\u001b[0m\u001b[1;33m[\u001b[0m\u001b[1;36m12\u001b[0m\u001b[1;33m]\u001b[0m\u001b[1;33m)\u001b[0m\u001b[1;33m\u001b[0m\u001b[1;33m\u001b[0m\u001b[0m\n\u001b[0m",
      "\u001b[1;31mKeyError\u001b[0m: 12"
     ]
    }
   ],
   "source": [
    "# if the dictionary does not contain the specified key an error occurs\n",
    "print(dict1[12])"
   ]
  },
  {
   "cell_type": "code",
   "execution_count": 14,
   "id": "a5f15809",
   "metadata": {},
   "outputs": [
    {
     "name": "stdout",
     "output_type": "stream",
     "text": [
      "3.14\n",
      "None\n",
      "No value\n"
     ]
    }
   ],
   "source": [
    "# a different (more error-tolerant) way of retrieving values from the dictionary\n",
    "print(dict1.get(\"two\"))\n",
    "print(dict1.get(12))\n",
    "print(dict1.get(12, \"No value\"))"
   ]
  },
  {
   "cell_type": "code",
   "execution_count": 15,
   "id": "486f8720",
   "metadata": {},
   "outputs": [
    {
     "name": "stdout",
     "output_type": "stream",
     "text": [
      "True\n",
      "False\n"
     ]
    }
   ],
   "source": [
    "# checking whether the dictionary contains the specified key\n",
    "print(\"two\" in dict1)\n",
    "print(12 in dict1)"
   ]
  },
  {
   "cell_type": "code",
   "execution_count": 16,
   "id": "f7fda4e4",
   "metadata": {},
   "outputs": [
    {
     "name": "stdout",
     "output_type": "stream",
     "text": [
      "dict_keys(['one', 'two', 3])\n",
      "dict_values([12213, 3.14, 'text'])\n",
      "dict_items([('one', 12213), ('two', 3.14), (3, 'text')])\n"
     ]
    }
   ],
   "source": [
    "# reading all keys, values and key-value pairs from the dictionary\n",
    "print(dict1.keys())\n",
    "print(dict1.values())\n",
    "print(dict1.items())"
   ]
  },
  {
   "cell_type": "markdown",
   "id": "2efc3dff",
   "metadata": {},
   "source": [
    "## Modifying the contents of dictionaries\n",
    "\n",
    "* You can add and overwrite dictionary elements in the same way."
   ]
  },
  {
   "cell_type": "code",
   "execution_count": 17,
   "id": "629a1708",
   "metadata": {},
   "outputs": [
    {
     "name": "stdout",
     "output_type": "stream",
     "text": [
      "{'one': 12213, 'two': 3.14, 3: 'text', 5: '555'}\n",
      "{'one': 1, 'two': 3.14, 3: 'text', 5: '555'}\n"
     ]
    }
   ],
   "source": [
    "dict1 = {'one': 12213, 'two': 3.14, 3: 'text'}\n",
    "\n",
    "# adding new key-value pair\n",
    "dict1[5] = '555'\n",
    "print(dict1)\n",
    "\n",
    "# changing the value for an existing key\n",
    "dict1['one'] = 1\n",
    "print(dict1)"
   ]
  },
  {
   "cell_type": "markdown",
   "id": "acbdf2b1",
   "metadata": {},
   "source": [
    "## Set\n",
    "\n",
    "* A container that is an unordered collection of unique elements.\n",
    "\n",
    "<img src=\"img/set.png\" style=\"width:250px\">"
   ]
  },
  {
   "cell_type": "markdown",
   "id": "3773d813",
   "metadata": {},
   "source": [
    "## Properties of a set\n",
    "\n",
    "* **Disordered** - does not preserve the order in which elements are placed in the set\n",
    "* **Non-dedifferentiable elements** - we cannot change the value of the elements in the set (but we can remove and add elements to the set)\n",
    "* **Heterogeneous** - may contain elements of different types\n",
    "* **Unique elements** - the elements in the set are unique and cannot be duplicated"
   ]
  },
  {
   "cell_type": "markdown",
   "id": "585a9c97",
   "metadata": {},
   "source": [
    "## Creation of sets and conversions from other composite types"
   ]
  },
  {
   "cell_type": "code",
   "execution_count": 18,
   "id": "df291810",
   "metadata": {},
   "outputs": [
    {
     "name": "stdout",
     "output_type": "stream",
     "text": [
      "set()\n",
      "{1, 2, 3, 'text'}\n",
      "{2, 5, 6, 7}\n"
     ]
    }
   ],
   "source": [
    "empty_set = set()\n",
    "print(empty_set)\n",
    "\n",
    "set_1 = {1, 2, 2, 3, \"text\"}\n",
    "print(set_1)\n",
    "\n",
    "list1 = [2, 5, 6, 6, 7, 2]\n",
    "set_2 = set(list1)\n",
    "print(set_2)"
   ]
  },
  {
   "cell_type": "markdown",
   "id": "9a89f757",
   "metadata": {},
   "source": [
    "## Modifying the content of sets"
   ]
  },
  {
   "cell_type": "code",
   "execution_count": 19,
   "id": "dbe4d578",
   "metadata": {},
   "outputs": [
    {
     "name": "stdout",
     "output_type": "stream",
     "text": [
      "{2, 3, 4, 5}\n"
     ]
    }
   ],
   "source": [
    "set_3 = {1, 2, 3, 4}\n",
    "\n",
    "# add element of value 5\n",
    "set_3.add(5)\n",
    "\n",
    "# remove element of value 1\n",
    "set_3.remove(1)\n",
    "\n",
    "print(set_3)"
   ]
  },
  {
   "cell_type": "markdown",
   "id": "ac6700d6",
   "metadata": {},
   "source": [
    "## Set algebra\n",
    "\n",
    "* Python sets represent mathematical sets, so this data structure is equipped with methods related to set algebra: sum of sets, product of sets, difference of sets."
   ]
  },
  {
   "cell_type": "code",
   "execution_count": 20,
   "id": "035cfba8",
   "metadata": {},
   "outputs": [
    {
     "name": "stdout",
     "output_type": "stream",
     "text": [
      "{1, 2, 3, 4, 5, 12}\n",
      "{3, 4}\n",
      "{1, 2}\n"
     ]
    }
   ],
   "source": [
    "s1 = {1, 2, 3, 4}\n",
    "s2 = {3, 4, 5, 12}\n",
    "\n",
    "s3 = s1.union(s2)\n",
    "print(s3)\n",
    "\n",
    "s4 = s1.intersection(s2)\n",
    "print(s4)\n",
    "\n",
    "s5 = s1.difference(s2)\n",
    "print(s5)"
   ]
  },
  {
   "cell_type": "code",
   "execution_count": 21,
   "id": "2d377619",
   "metadata": {},
   "outputs": [
    {
     "name": "stdout",
     "output_type": "stream",
     "text": [
      "{1, 2, 3, 4, 5, 12}\n",
      "{3, 4}\n",
      "{1, 2}\n"
     ]
    }
   ],
   "source": [
    "# Mathematical operations performed by methods also have symbolic equivalents\n",
    "\n",
    "s1 = {1, 2, 3, 4}\n",
    "s2 = {3, 4, 5, 12}\n",
    "\n",
    "s3 = s1 | s2\n",
    "print(s3)\n",
    "\n",
    "s4 = s1 & s2\n",
    "print(s4)\n",
    "\n",
    "s5 = s1 - s2\n",
    "print(s5)"
   ]
  },
  {
   "cell_type": "markdown",
   "id": "5a034729",
   "metadata": {},
   "source": [
    "## Conversion between composite types"
   ]
  },
  {
   "cell_type": "code",
   "execution_count": 22,
   "id": "709254e3",
   "metadata": {},
   "outputs": [
    {
     "name": "stdout",
     "output_type": "stream",
     "text": [
      "(6, 3, 5, 6, 23, 1, 6)\n",
      "[6, 3, 5, 6, 23, 1, 6]\n",
      "{1, 3, 5, 6, 23}\n",
      "[1, 3, 5, 6, 23]\n"
     ]
    }
   ],
   "source": [
    "l1 = [6, 3, 5, 6, 23, 1, 6]\n",
    "\n",
    "t1 = tuple(l1)\n",
    "print(t1)\n",
    "\n",
    "l2 = list(t1)\n",
    "print(l2)\n",
    "\n",
    "s1 = set(l1)\n",
    "print(s1)\n",
    "\n",
    "l3 = list(s1)\n",
    "print(l3)"
   ]
  },
  {
   "cell_type": "markdown",
   "id": "db43851b",
   "metadata": {},
   "source": [
    "## ---- Exercise 1 ----\n",
    "\n",
    "We have the list `list1 = [1, 3, 5, 6, 3, 5, 6, 1, 7, 6, 1]`. Write a program that, based on list `list1`, creates list `list2` that contains no duplicates. Do not use list to set conversion."
   ]
  },
  {
   "cell_type": "code",
   "execution_count": null,
   "id": "a81ce652",
   "metadata": {},
   "outputs": [],
   "source": [
    "# Write your code here"
   ]
  },
  {
   "cell_type": "markdown",
   "id": "6e5687aa",
   "metadata": {},
   "source": [
    "## ---- Exercise 2 ----\n",
    "\n",
    "We have the tuple `tuple1 = (11, 22, 33, 44, 55, 66, 77, 88, 99)`. Write a program that prints the sum of the last `4` and last `8` elements of the tuple."
   ]
  },
  {
   "cell_type": "code",
   "execution_count": null,
   "id": "9ce3917d",
   "metadata": {},
   "outputs": [],
   "source": [
    "# Write your code here"
   ]
  },
  {
   "cell_type": "markdown",
   "id": "80207f21",
   "metadata": {},
   "source": [
    "## ---- Exercise 3 ----\n",
    "\n",
    "Write a program that, in the dictionary `my_dict = {'x':500, 'y':5874, 'z':560, 'q':120}` finds the largest and smallest value."
   ]
  },
  {
   "cell_type": "code",
   "execution_count": null,
   "id": "a4502449",
   "metadata": {},
   "outputs": [],
   "source": [
    "# Write your code here"
   ]
  },
  {
   "cell_type": "markdown",
   "id": "9888bef2",
   "metadata": {},
   "source": [
    "## ---- Exercise 4 ----\n",
    "\n",
    "Write a programme that, from the set `s1`, removes elements common to the sets `s1` and `s2`.\n",
    "\n",
    "E.g. if `s1 = {1, 2, 4, 5}` and `s2 = {2, 5, 6, 7}` then after operation `s1 = {1, 4}`"
   ]
  },
  {
   "cell_type": "code",
   "execution_count": null,
   "id": "6a2be93a",
   "metadata": {},
   "outputs": [],
   "source": [
    "# Write your code here"
   ]
  }
 ],
 "metadata": {
  "kernelspec": {
   "display_name": "Python 3",
   "language": "python",
   "name": "python3"
  },
  "language_info": {
   "codemirror_mode": {
    "name": "ipython",
    "version": 3
   },
   "file_extension": ".py",
   "mimetype": "text/x-python",
   "name": "python",
   "nbconvert_exporter": "python",
   "pygments_lexer": "ipython3",
   "version": "3.9.7"
  }
 },
 "nbformat": 4,
 "nbformat_minor": 5
}
