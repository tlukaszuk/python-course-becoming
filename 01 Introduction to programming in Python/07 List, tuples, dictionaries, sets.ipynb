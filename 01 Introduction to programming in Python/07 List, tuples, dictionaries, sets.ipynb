{
 "cells": [
  {
   "cell_type": "markdown",
   "id": "79a800da",
   "metadata": {
    "slideshow": {
     "slide_type": "slide"
    }
   },
   "source": [
    "# Introduction to programming in Python\n",
    "## List, tuples, dictionaries, sets\n",
    "\n",
    "***\n",
    "<br>"
   ]
  },
  {
   "cell_type": "markdown",
   "id": "e0776a88",
   "metadata": {},
   "source": [
    "## Composite data types\n",
    "\n",
    "* Composite types are data types that are containers holding other data types.\n",
    "* Elements placed in composite type objects can be values of simple types (e.g. numeric) and other composite type objects.\n",
    "* Composit types allow elements to be placed in them, elements to be read into them, and also offer more advanced operations for manipulating the contents of complex type objects."
   ]
  },
  {
   "cell_type": "code",
   "execution_count": null,
   "id": "92f15b3f",
   "metadata": {},
   "outputs": [],
   "source": []
  }
 ],
 "metadata": {
  "kernelspec": {
   "display_name": "Python 3",
   "language": "python",
   "name": "python3"
  },
  "language_info": {
   "codemirror_mode": {
    "name": "ipython",
    "version": 3
   },
   "file_extension": ".py",
   "mimetype": "text/x-python",
   "name": "python",
   "nbconvert_exporter": "python",
   "pygments_lexer": "ipython3",
   "version": "3.9.7"
  }
 },
 "nbformat": 4,
 "nbformat_minor": 5
}
