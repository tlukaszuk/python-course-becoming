{
 "cells": [
  {
   "cell_type": "markdown",
   "id": "79a800da",
   "metadata": {
    "slideshow": {
     "slide_type": "slide"
    }
   },
   "source": [
    "# Introduction to programming in Python\n",
    "## Making choices\n",
    "\n",
    "***\n",
    "<br>"
   ]
  },
  {
   "cell_type": "markdown",
   "id": "f2a3058f",
   "metadata": {},
   "source": [
    "## What is a conditional statement?\n",
    "\n",
    "* Conditional statements are part of every programming language.\n",
    "* Using conditional statements, we can create code that sometimes executes and other times does not, depending on the conditions of the program at the time the conditional statement is executed.\n",
    "    \n",
    "    \n",
    "* Examples where we could use conditional statements:\n",
    "    * If a student scores over 65% on a test, then report that the grade is positive; otherwise report that the grade is negative.\n",
    "    * If the customer has money in their account, charge interest; otherwise, charge a penalty fee.\n",
    "    * If customers buy 10 or more oranges, calculate a discount of 5%; if they buy less, then do not calculate a discount."
   ]
  },
  {
   "cell_type": "markdown",
   "id": "9fc5fbc3",
   "metadata": {},
   "source": [
    "## Simple conditional statement"
   ]
  },
  {
   "cell_type": "code",
   "execution_count": null,
   "id": "041cbb57",
   "metadata": {},
   "outputs": [],
   "source": [
    "if expression:\n",
    "    statement 1\n",
    "    statement 2\n",
    "    ...\n",
    "    statement n\n",
    "\n",
    "statement always executed"
   ]
  },
  {
   "cell_type": "markdown",
   "id": "f354f79b",
   "metadata": {},
   "source": [
    "If the `expression` evaluates to `True` then the `statements` `1` to `n` will be executed followed by `statement always executed`. If the `expression` is `False`, only `statement always executed` is executed. Python knows which lines of code are related to the if statement by the indentation, no extra syntax is necessary."
   ]
  },
  {
   "cell_type": "code",
   "execution_count": 1,
   "id": "c2b44d68",
   "metadata": {},
   "outputs": [
    {
     "name": "stdout",
     "output_type": "stream",
     "text": [
      "not greater\n",
      "done\n"
     ]
    }
   ],
   "source": [
    "num = 37\n",
    "\n",
    "if num > 100:\n",
    "    print('greater')\n",
    "else:\n",
    "    print('not greater')\n",
    "print('done')"
   ]
  },
  {
   "cell_type": "markdown",
   "id": "1361729a",
   "metadata": {},
   "source": [
    "In the examples above there are three things to notice:\n",
    "1. The colon `:` at the end of the `if` line. Leaving this out is a common error.\n",
    "2. The indentation of the `print` statement. The `:` on the line before, Jupyter (or any other Python IDE) will automatically do the indentation for you. All of the statements indented at this level are considered to be part of the `if` statement. This is a feature fairly unique to Python, that it cares about the indentation. If there is too much, or too little indentation, you will get an error.\n",
    "3. The `if` statement is ended by removing the indent. There is no explicit end to the if statement as there is in many other programming languages."
   ]
  },
  {
   "cell_type": "markdown",
   "id": "0aa364bd",
   "metadata": {},
   "source": [
    "## Conditional statement with alternative"
   ]
  },
  {
   "cell_type": "code",
   "execution_count": null,
   "id": "fd6a5544",
   "metadata": {},
   "outputs": [],
   "source": [
    "if expression:\n",
    "    statement A1\n",
    "    statement A2\n",
    "    ...\n",
    "    statement An\n",
    "else:\n",
    "    statement B1\n",
    "    statement B2\n",
    "    ...\n",
    "    statement Bn\n",
    "\n",
    "statement always executed"
   ]
  },
  {
   "cell_type": "markdown",
   "id": "16036162",
   "metadata": {},
   "source": [
    "If the `expression` evaluates to `True` then the `statements` `A1` to `An` will be executed followed by `statement always executed`. If the `expression` is `False`, then the `statements` `B1` to `Bn` will be executed followed by `statement always executed`."
   ]
  },
  {
   "cell_type": "code",
   "execution_count": 2,
   "id": "b53a3ec7",
   "metadata": {},
   "outputs": [
    {
     "name": "stdout",
     "output_type": "stream",
     "text": [
      "-3 isn't positive\n",
      "done\n"
     ]
    }
   ],
   "source": [
    "num = -3\n",
    "\n",
    "if num > 0:\n",
    "    print(num, 'is positive')\n",
    "else:\n",
    "    print(num, \"isn't positive\")\n",
    "print('done')"
   ]
  },
  {
   "cell_type": "markdown",
   "id": "120d6935",
   "metadata": {},
   "source": [
    "## Many conditions"
   ]
  },
  {
   "cell_type": "code",
   "execution_count": null,
   "id": "633e7fcb",
   "metadata": {},
   "outputs": [],
   "source": [
    "if expression_1:\n",
    "    statements_block_1\n",
    "elif expression_2:\n",
    "    statements_block_2\n",
    "...\n",
    "else:\n",
    "    statements_block_E\n",
    "    \n",
    "statement always executed"
   ]
  },
  {
   "cell_type": "markdown",
   "id": "65476dfe",
   "metadata": {},
   "source": [
    "If the `expression_1` evaluates to `True` then the `statements_block1` will be executed followed by `statement always executed`. If the `expression_1` is `False`, then evaluate the `expression_2`. If the `expression_2` evaluates to `True` then the `statements_block2` will be executed followed by `statement always executed`. There may be several or even dozens of `elif` statements with their `expression`s and `statements_block`s. If all expressions at `if` and `elif` are evaluated to `False`, then the `statements_block_E` will be executed followed by `statement always executed`."
   ]
  },
  {
   "cell_type": "code",
   "execution_count": 3,
   "id": "e5fe4728",
   "metadata": {},
   "outputs": [
    {
     "name": "stdout",
     "output_type": "stream",
     "text": [
      "12 is positive\n",
      "done\n"
     ]
    }
   ],
   "source": [
    "num = 12\n",
    "\n",
    "if num > 0:\n",
    "    print(num, 'is positive')\n",
    "elif num == 0:\n",
    "    print(num, 'is zero')\n",
    "else:\n",
    "    print(num, 'is negative')\n",
    "print('done')"
   ]
  },
  {
   "cell_type": "code",
   "execution_count": 4,
   "id": "186db2c2",
   "metadata": {},
   "outputs": [
    {
     "name": "stdout",
     "output_type": "stream",
     "text": [
      "0 is zero\n",
      "done\n"
     ]
    }
   ],
   "source": [
    "num = 0\n",
    "\n",
    "if num > 0:\n",
    "    print(num, 'is positive')\n",
    "elif num == 0:\n",
    "    print(num, 'is zero')\n",
    "else:\n",
    "    print(num, 'is negative')\n",
    "print('done')"
   ]
  },
  {
   "cell_type": "markdown",
   "id": "f37c06f7",
   "metadata": {},
   "source": [
    "## Nested if statements\n",
    "\n",
    "* Conditional statements can be placed inside other conditional statements, in blocks of statements.\n",
    "* We use this in situations where we want to check a secondary condition if the first condition is executed as `True`."
   ]
  },
  {
   "cell_type": "code",
   "execution_count": 5,
   "id": "fa779364",
   "metadata": {},
   "outputs": [
    {
     "name": "stdout",
     "output_type": "stream",
     "text": [
      "Positive evaluation\n",
      "4\n"
     ]
    }
   ],
   "source": [
    "points = 75\n",
    "\n",
    "if points >= 50:\n",
    "    print(\"Positive evaluation\")\n",
    "    if points >= 90:\n",
    "        print(\"5\")\n",
    "    elif points >= 70:\n",
    "        print(\"4\")\n",
    "    else:\n",
    "        print(\"3\")\n",
    "else:\n",
    "    print(\"Evaluation negative\")"
   ]
  },
  {
   "cell_type": "markdown",
   "id": "099579f2",
   "metadata": {},
   "source": [
    "## ---- Exercise ----\n",
    "\n",
    "Write a programme to calculate your telephone bill. The first 100 minutes are free, the next 100 cost 0.15 Euro per minute, the remaining 0.25 Euro per minute. The program should ask the user for the number of minutes to be billed and print out the amount due."
   ]
  },
  {
   "cell_type": "code",
   "execution_count": null,
   "id": "53f9afb6",
   "metadata": {},
   "outputs": [],
   "source": [
    "minutes_count = int(input(\"Enter the number of minutes to be billed: \"))\n",
    "\n",
    "# Write your code here"
   ]
  }
 ],
 "metadata": {
  "kernelspec": {
   "display_name": "Python 3",
   "language": "python",
   "name": "python3"
  },
  "language_info": {
   "codemirror_mode": {
    "name": "ipython",
    "version": 3
   },
   "file_extension": ".py",
   "mimetype": "text/x-python",
   "name": "python",
   "nbconvert_exporter": "python",
   "pygments_lexer": "ipython3",
   "version": "3.9.7"
  }
 },
 "nbformat": 4,
 "nbformat_minor": 5
}
