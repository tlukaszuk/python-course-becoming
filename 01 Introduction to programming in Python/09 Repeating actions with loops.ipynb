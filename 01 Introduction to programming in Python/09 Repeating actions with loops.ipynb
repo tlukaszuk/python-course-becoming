{
 "cells": [
  {
   "cell_type": "markdown",
   "id": "79a800da",
   "metadata": {
    "slideshow": {
     "slide_type": "slide"
    }
   },
   "source": [
    "# Introduction to programming in Python\n",
    "## Repeating actions with loops\n",
    "\n",
    "***\n",
    "<br>"
   ]
  },
  {
   "cell_type": "markdown",
   "id": "84c32831",
   "metadata": {},
   "source": [
    "## What is a loop?\n",
    "\n",
    "* One of the basic building blocks of structured programming.\n",
    "* Allows a sequence of instructions to be executed cyclically a certain number of times, until certain conditions occur, for each element of a collection, or indefinitely.\n",
    "* Sequences of instructions that are repeated.\n",
    "* Python supports two types of loops: the **while** loop and the **for** loop."
   ]
  },
  {
   "cell_type": "markdown",
   "id": "a841c618",
   "metadata": {},
   "source": [
    "## Operation of the loop\n",
    "\n",
    "A loop can be repeated:\n",
    "* until the program reaches a certain condition <br>e.g. the programme may ask the user to enter a password by displaying the text \"Enter password\", the display of the text will be repeated until the user enters the appropriate password\n",
    "* a specified number of times <br> e.g. the programme may display the \"Caution\" text 3 times\n"
   ]
  },
  {
   "cell_type": "markdown",
   "id": "5e43c3d9",
   "metadata": {},
   "source": [
    "## `while` loop\n",
    "\n",
    "* A conditional loop, also known as a repetition loop.\n",
    "* It is executed until the condition changes accordingly.\n",
    "* In Python, it is used to repeatedly execute a block of statements until a condition (expression) is met. When a condition checked in the loop becomes `False`, the line of code immediately following the loop is executed."
   ]
  },
  {
   "cell_type": "code",
   "execution_count": null,
   "id": "df608970",
   "metadata": {},
   "outputs": [],
   "source": [
    "while condition:\n",
    "    statement 1\n",
    "    statement 2\n",
    "    ...\n",
    "    statement n\n",
    "\n",
    "statement after loop"
   ]
  },
  {
   "cell_type": "markdown",
   "id": "56b6aab8",
   "metadata": {},
   "source": [
    "## Condition\n",
    "\n",
    "* To prevent infinite operation, you should take care yourself to modify the parameters in the condition in such a way that one time the while loop is `False`."
   ]
  },
  {
   "cell_type": "code",
   "execution_count": null,
   "id": "eb50dc3b",
   "metadata": {},
   "outputs": [],
   "source": [
    "i = 0\n",
    "while i < 10:\n",
    "    statement 1\n",
    "    statement 2\n",
    "    ...\n",
    "    statement n\n",
    "    i += 1"
   ]
  },
  {
   "cell_type": "markdown",
   "id": "3fce90b3",
   "metadata": {},
   "source": [
    "## Examples of the use of `while` loops"
   ]
  },
  {
   "cell_type": "code",
   "execution_count": 1,
   "id": "2e98bac2",
   "metadata": {},
   "outputs": [
    {
     "name": "stdout",
     "output_type": "stream",
     "text": [
      "The current digit is: 1\n",
      "The current digit is: 2\n",
      "The current digit is: 3\n",
      "The current digit is: 4\n",
      "The current digit is: 5\n",
      "Give other digit\n"
     ]
    }
   ],
   "source": [
    "digit = 1\n",
    "while digit < 6:\n",
    "    print('The current digit is:', digit)\n",
    "    digit = digit + 1\n",
    "print('Give other digit')"
   ]
  },
  {
   "cell_type": "code",
   "execution_count": 2,
   "id": "d02e4ad4",
   "metadata": {},
   "outputs": [
    {
     "name": "stdout",
     "output_type": "stream",
     "text": [
      "1^2 = 1\n",
      "2^2 = 4\n",
      "3^2 = 9\n",
      "4^2 = 16\n",
      "5^2 = 25\n",
      "6^2 = 36\n",
      "7^2 = 49\n",
      "8^2 = 64\n",
      "9^2 = 81\n",
      "10^2 = 100\n"
     ]
    }
   ],
   "source": [
    "i = 1\n",
    "while i <= 10:\n",
    "    print(f\"{i}^2 = {i**2}\")\n",
    "    i += 1"
   ]
  },
  {
   "cell_type": "markdown",
   "id": "3c187d46",
   "metadata": {},
   "source": [
    "## `while` loop with `else` statement\n",
    "\n",
    "* We can use the `else` statement after the code block containing the loop. If we use it, when a condition in the while loop becomes `False`, the clause in the `else` statement is executed."
   ]
  },
  {
   "cell_type": "code",
   "execution_count": null,
   "id": "c6f6b539",
   "metadata": {},
   "outputs": [],
   "source": [
    "while condition:\n",
    "    statements block 1\n",
    "else:\n",
    "    statement block 2"
   ]
  },
  {
   "cell_type": "code",
   "execution_count": 3,
   "id": "52e15569",
   "metadata": {},
   "outputs": [
    {
     "name": "stdout",
     "output_type": "stream",
     "text": [
      "1\n",
      "2\n",
      "3\n",
      "4\n",
      "5\n",
      "6\n",
      "7\n",
      "8\n",
      "9\n",
      "10\n",
      "End of loop, i = 11\n"
     ]
    }
   ],
   "source": [
    "i = 1\n",
    "while i <= 10:\n",
    "    print(i)\n",
    "    i += 1\n",
    "else:\n",
    "    print('End of loop, i =', i)"
   ]
  },
  {
   "cell_type": "markdown",
   "id": "c50e02b3",
   "metadata": {},
   "source": [
    "## `for` loop\n",
    "\n",
    "* Used in Python to iterate over a sequence (e.g. list, tuple) or other iterable objects.\n",
    "* Using the `for` loop, we can execute a given block of statements a specified number of times."
   ]
  },
  {
   "cell_type": "code",
   "execution_count": null,
   "id": "5fdb378d",
   "metadata": {},
   "outputs": [],
   "source": [
    "for item in object:\n",
    "    statement 1\n",
    "    statement 2\n",
    "    ...\n",
    "    statement n"
   ]
  },
  {
   "cell_type": "markdown",
   "id": "a597a877",
   "metadata": {},
   "source": [
    "## Using a `for` loop with a list object"
   ]
  },
  {
   "cell_type": "code",
   "execution_count": 4,
   "id": "f87c9ecc",
   "metadata": {},
   "outputs": [
    {
     "name": "stdout",
     "output_type": "stream",
     "text": [
      "The student ate: apple\n",
      "The student ate: pear\n",
      "The student ate: banana\n"
     ]
    }
   ],
   "source": [
    "fruits = [\"apple\", \"pear\", \"banana\"]\n",
    "for fruit in fruits:\n",
    "    print(\"The student ate:\", fruit)"
   ]
  },
  {
   "cell_type": "code",
   "execution_count": 5,
   "id": "af1586b6",
   "metadata": {},
   "outputs": [
    {
     "name": "stdout",
     "output_type": "stream",
     "text": [
      "Cumulative sales 100.5\n",
      "Cumulative sales 300.5\n",
      "Cumulative sales 600.5\n",
      "Improve sales\n"
     ]
    }
   ],
   "source": [
    "total_sales = 0\n",
    "for sale in [100.50, 200.00, 300.00]:\n",
    "    total_sales += sale\n",
    "    print('Cumulative sales', total_sales)\n",
    "print('Improve sales')"
   ]
  },
  {
   "cell_type": "markdown",
   "id": "ff53dfa0",
   "metadata": {},
   "source": [
    "## Using a `for` loop with a tuple object"
   ]
  },
  {
   "cell_type": "code",
   "execution_count": 6,
   "id": "7431ed13",
   "metadata": {},
   "outputs": [
    {
     "name": "stdout",
     "output_type": "stream",
     "text": [
      "Company revenue in: April\n",
      "Company revenue in: May\n",
      "Company revenue in: June\n"
     ]
    }
   ],
   "source": [
    "months = (\"January\", \"February\", \"March\", \"April\",\n",
    "          \"May\", \"June\", \"July\", \"August\",\n",
    "          \"September\", \"October\", \"November\", \"December\")\n",
    "for month in months[3:6]:\n",
    "    print(\"Company revenue in:\", month)"
   ]
  },
  {
   "cell_type": "markdown",
   "id": "387f3437",
   "metadata": {},
   "source": [
    "## Using a `for` loop with a dict object"
   ]
  },
  {
   "cell_type": "code",
   "execution_count": 7,
   "id": "e4ce9701",
   "metadata": {},
   "outputs": [
    {
     "name": "stdout",
     "output_type": "stream",
     "text": [
      "Poland\n",
      "Germany\n",
      "France\n"
     ]
    }
   ],
   "source": [
    "capitals = { \"Poland\": \"Warsaw\", \"Germany\": \"Berlin\", \"France\": \"Paris\"}\n",
    "for country in capitals:\n",
    "    print(country)"
   ]
  },
  {
   "cell_type": "code",
   "execution_count": 8,
   "id": "1e27d558",
   "metadata": {},
   "outputs": [
    {
     "name": "stdout",
     "output_type": "stream",
     "text": [
      "Poland -> Warsaw\n",
      "Germany -> Berlin\n",
      "France -> Paris\n"
     ]
    }
   ],
   "source": [
    "capitals = { \"Poland\": \"Warsaw\", \"Germany\": \"Berlin\", \"France\": \"Paris\"}\n",
    "for country,capital in capitals.items():\n",
    "    print(country, \"->\", capital)"
   ]
  },
  {
   "cell_type": "markdown",
   "id": "ba2a8349",
   "metadata": {},
   "source": [
    "## Using a `for` loop with the `range()` function\n",
    "\n",
    "* The `range()` function returns a particular type of object which is a generator. A generator creates integers. Once the generator has been created, we can use it in a loop.\n",
    "* The `range()` function has (can have) 3 arguments: the start value, the end value, the step by which the value changes with each rotation of the loop."
   ]
  },
  {
   "cell_type": "code",
   "execution_count": 9,
   "id": "c81284f6",
   "metadata": {},
   "outputs": [
    {
     "name": "stdout",
     "output_type": "stream",
     "text": [
      "0\n",
      "1\n",
      "2\n",
      "3\n",
      "4\n",
      "5\n",
      "6\n",
      "7\n",
      "8\n",
      "9\n"
     ]
    }
   ],
   "source": [
    "for i in range(10):\n",
    "    print(i)"
   ]
  },
  {
   "cell_type": "code",
   "execution_count": 10,
   "id": "95dc896c",
   "metadata": {},
   "outputs": [
    {
     "name": "stdout",
     "output_type": "stream",
     "text": [
      "3\n",
      "4\n",
      "5\n",
      "6\n",
      "7\n"
     ]
    }
   ],
   "source": [
    "for i in range(3, 8):\n",
    "    print(i)"
   ]
  },
  {
   "cell_type": "code",
   "execution_count": 11,
   "id": "7c62308c",
   "metadata": {},
   "outputs": [
    {
     "name": "stdout",
     "output_type": "stream",
     "text": [
      "4\n",
      "7\n",
      "10\n",
      "13\n",
      "16\n",
      "19\n"
     ]
    }
   ],
   "source": [
    "for i in range(4, 20, 3):\n",
    "    print(i)"
   ]
  },
  {
   "cell_type": "markdown",
   "id": "97199d9e",
   "metadata": {},
   "source": [
    "## `enumerate` function\n",
    "\n",
    "* `enumerate(iterable, start=0)`\n",
    "* The function used for a sequence (list, tuple) adds a counter to it.\n",
    "* The function is often used in a `for` loop."
   ]
  },
  {
   "cell_type": "code",
   "execution_count": 12,
   "id": "6c22bb9e",
   "metadata": {},
   "outputs": [
    {
     "name": "stdout",
     "output_type": "stream",
     "text": [
      "(0, 'Python')\n",
      "(1, 'Java')\n",
      "(2, 'JavaScript')\n"
     ]
    }
   ],
   "source": [
    "languages = ['Python', 'Java', 'JavaScript']\n",
    "for item in enumerate(languages):\n",
    "    print(item)"
   ]
  },
  {
   "cell_type": "code",
   "execution_count": 13,
   "id": "52c40b00",
   "metadata": {},
   "outputs": [
    {
     "name": "stdout",
     "output_type": "stream",
     "text": [
      "0 Python\n",
      "1 Java\n",
      "2 JavaScript\n"
     ]
    }
   ],
   "source": [
    "languages = ['Python', 'Java', 'JavaScript']\n",
    "for index, language in enumerate(languages):\n",
    "    print(index, language)"
   ]
  },
  {
   "cell_type": "markdown",
   "id": "1247f956",
   "metadata": {},
   "source": [
    "## `zip` function\n",
    "\n",
    "* `zip(iterable1, itrable2, ...)`\n",
    "* Returns a `zip` object that is an iterator of tuples, where the first element in each passed iterator is paired together, the second element in each passed iterator are paired together, and so on.\n",
    "* The function is often used in a `for` loop."
   ]
  },
  {
   "cell_type": "code",
   "execution_count": 14,
   "id": "a98eb17f",
   "metadata": {},
   "outputs": [
    {
     "name": "stdout",
     "output_type": "stream",
     "text": [
      "('Java', 14)\n",
      "('Python', 3)\n",
      "('JavaScript', 6)\n"
     ]
    }
   ],
   "source": [
    "languages = ['Java', 'Python', 'JavaScript']\n",
    "versions = [14, 3, 6]\n",
    "\n",
    "for item in zip(languages, versions):\n",
    "    print(item)"
   ]
  },
  {
   "cell_type": "code",
   "execution_count": 15,
   "id": "7e3790fc",
   "metadata": {},
   "outputs": [
    {
     "name": "stdout",
     "output_type": "stream",
     "text": [
      "Java -> 14\n",
      "Python -> 3\n",
      "JavaScript -> 6\n"
     ]
    }
   ],
   "source": [
    "languages = ['Java', 'Python', 'JavaScript']\n",
    "versions = [14, 3, 6]\n",
    "\n",
    "for language, version in zip(languages, versions):\n",
    "    print(language, \"->\", version)"
   ]
  },
  {
   "cell_type": "markdown",
   "id": "c367e229",
   "metadata": {},
   "source": [
    "## `break` statement\n",
    "\n",
    "* With the `break` statement we exit the nearest `while` or `for` loop.\n",
    "* The statements that occur in the loop after the `break` statement are skipped.\n",
    "* The `break` statement is most often used in conjunction with a conditional statement."
   ]
  },
  {
   "cell_type": "code",
   "execution_count": 16,
   "id": "e965cbc8",
   "metadata": {},
   "outputs": [
    {
     "name": "stdout",
     "output_type": "stream",
     "text": [
      "Krakow\n"
     ]
    }
   ],
   "source": [
    "cities = (\"Krakow\", \"Warsaw\", \"Poznan\")\n",
    "for city in cities:\n",
    "    if city == \"Warsaw\":\n",
    "        break\n",
    "    print(city)"
   ]
  },
  {
   "cell_type": "code",
   "execution_count": 17,
   "id": "9debcc3c",
   "metadata": {},
   "outputs": [
    {
     "name": "stdout",
     "output_type": "stream",
     "text": [
      "0\n",
      "1\n",
      "2\n"
     ]
    }
   ],
   "source": [
    "counter = 0\n",
    "while True:\n",
    "    print(counter),\n",
    "    counter += 1\n",
    "    if counter >= 3:\n",
    "        break"
   ]
  },
  {
   "cell_type": "markdown",
   "id": "dd356ee3",
   "metadata": {},
   "source": [
    "## `continue` statement\n",
    "\n",
    "* The `continue` statement is used to move to the next step in the loop.\n",
    "* The statements that occur in the loop after the `continue` statement are skipped in the current step.\n",
    "* The `continue` statement is most often used in conjunction with a conditional statement."
   ]
  },
  {
   "cell_type": "code",
   "execution_count": 18,
   "id": "4c031bf3",
   "metadata": {},
   "outputs": [
    {
     "name": "stdout",
     "output_type": "stream",
     "text": [
      "Krakow\n",
      "Poznan\n"
     ]
    }
   ],
   "source": [
    "cities = (\"Krakow\", \"Warsaw\", \"Poznan\")\n",
    "for city in cities:\n",
    "    if city == \"Warsaw\":\n",
    "        continue\n",
    "    print(city)"
   ]
  },
  {
   "cell_type": "code",
   "execution_count": 19,
   "id": "6478d320",
   "metadata": {},
   "outputs": [
    {
     "name": "stdout",
     "output_type": "stream",
     "text": [
      "1\n",
      "2\n",
      "3\n",
      "7\n",
      "8\n",
      "9\n",
      "10\n"
     ]
    }
   ],
   "source": [
    "counter = 0\n",
    "while counter < 10:\n",
    "    counter += 1\n",
    "    if counter > 3 and counter < 7:\n",
    "        continue\n",
    "    print(counter)"
   ]
  },
  {
   "cell_type": "markdown",
   "id": "2ef60e33",
   "metadata": {},
   "source": [
    "## Infinite loop\n",
    "\n",
    "* A loop that never terminates because the loop termination condition never occurs.\n",
    "* This can be a deliberate action, used to write a program that never ends its operation.\n",
    "* The creation of an infinite loop can also be an error by the programmer, who has incorrectly defined the loop termination condition."
   ]
  },
  {
   "cell_type": "code",
   "execution_count": null,
   "id": "cdd7485a",
   "metadata": {},
   "outputs": [],
   "source": [
    "index = 0\n",
    "while index != 9:  # always satisfied, the loop will not end\n",
    "    print(index)\n",
    "    index += 2"
   ]
  },
  {
   "cell_type": "markdown",
   "id": "14659d0f",
   "metadata": {},
   "source": [
    "## ---- Exercise 1 ----\n",
    "\n",
    "Write a program that determines the sum of all integers from 1 to a user-specified positive integer. Use a `while` loop."
   ]
  },
  {
   "cell_type": "code",
   "execution_count": null,
   "id": "b11fbfd8",
   "metadata": {},
   "outputs": [],
   "source": [
    "final_number = int(input(\"Give the final number: \"))\n",
    "\n",
    "# Write your code here"
   ]
  },
  {
   "cell_type": "markdown",
   "id": "7a13f7c2",
   "metadata": {},
   "source": [
    "## ---- Exercise 2 ----\n",
    "\n",
    "We have the following list `[1, 12, 3, 25, 5, 62, 7, 81, 9]`. Write a program that counts the even numbers and odd numbers occurring in the list. Use a `for` loop."
   ]
  },
  {
   "cell_type": "code",
   "execution_count": null,
   "id": "cd495da1",
   "metadata": {},
   "outputs": [],
   "source": [
    "# Write your code here"
   ]
  }
 ],
 "metadata": {
  "kernelspec": {
   "display_name": "Python 3",
   "language": "python",
   "name": "python3"
  },
  "language_info": {
   "codemirror_mode": {
    "name": "ipython",
    "version": 3
   },
   "file_extension": ".py",
   "mimetype": "text/x-python",
   "name": "python",
   "nbconvert_exporter": "python",
   "pygments_lexer": "ipython3",
   "version": "3.9.7"
  }
 },
 "nbformat": 4,
 "nbformat_minor": 5
}
