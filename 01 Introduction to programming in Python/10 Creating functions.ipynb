{
 "cells": [
  {
   "cell_type": "markdown",
   "id": "79a800da",
   "metadata": {
    "slideshow": {
     "slide_type": "slide"
    }
   },
   "source": [
    "# Introduction to programming in Python\n",
    "## Creating functions\n",
    "\n",
    "***\n",
    "<br>"
   ]
  },
  {
   "cell_type": "markdown",
   "id": "37e2cdd4",
   "metadata": {},
   "source": [
    "## What is a function?\n",
    "\n",
    "* It is a tool that groups a set of statements in such a way that they can be executed more than once in a program.\n",
    "* It is the most important program structure in structured programming, and is used to maximise code reusability and minimise code repetition\n",
    "* It is also a design tool that allows complex systems to be broken down into fragments that are easier to manage."
   ]
  },
  {
   "cell_type": "markdown",
   "id": "ecbf384d",
   "metadata": {},
   "source": [
    "## Advantages of using functions\n",
    "\n",
    "* By placing the code in a function, we obtain a tool that can be executed as many times as needed.\n",
    "* When you want to change the way a function works, you only need to make the modification in one place.\n",
    "* By placing the function in a module file, you can import it and reuse it in any programme."
   ]
  },
  {
   "cell_type": "markdown",
   "id": "c301b619",
   "metadata": {},
   "source": [
    "## Function structure"
   ]
  },
  {
   "cell_type": "code",
   "execution_count": null,
   "id": "e4125c10",
   "metadata": {},
   "outputs": [],
   "source": [
    "def name__of_function(arg1, arg2, ..., argN):\n",
    "    statements_of_function"
   ]
  },
  {
   "cell_type": "markdown",
   "id": "c4512bee",
   "metadata": {},
   "source": [
    "* The `def` header line specifies the function name to be assigned to the function object, as well as a list of parameters.\n",
    "* Parameter names in the header are assigned to objects passed in brackets when the function is called."
   ]
  },
  {
   "cell_type": "code",
   "execution_count": 1,
   "id": "06147964",
   "metadata": {},
   "outputs": [
    {
     "name": "stdout",
     "output_type": "stream",
     "text": [
      "hello Stefan\n",
      "hello Adela\n"
     ]
    }
   ],
   "source": [
    "def say_hello(name):\n",
    "    # Block belonging to a function.\n",
    "    print(f'hello {name}')\n",
    "# The end of the function.\n",
    "\n",
    "say_hello('Stefan') # Calling of the function.\n",
    "say_hello('Adela')  # Calling the function again."
   ]
  },
  {
   "cell_type": "markdown",
   "id": "fff61472",
   "metadata": {},
   "source": [
    "## Function parameters\n",
    "\n",
    "* A function may have parameters.\n",
    "* Parameters are values that we supply to a function.\n",
    "* A function can do something with these values.\n",
    "* Parameters are similar to variables, they are assigned values when a function is called.\n",
    "* Parameters are declared in brackets when defining a function and separated by commas."
   ]
  },
  {
   "cell_type": "code",
   "execution_count": 2,
   "id": "ec776494",
   "metadata": {},
   "outputs": [
    {
     "name": "stdout",
     "output_type": "stream",
     "text": [
      "4 is maximum\n",
      "7 is maximum\n"
     ]
    }
   ],
   "source": [
    "def print_max(a, b):\n",
    "    if a > b:\n",
    "        print(a, 'is maximum')\n",
    "    elif a == b:\n",
    "        print(a, 'is equal to', b)\n",
    "    else:\n",
    "        print(b, 'is maximum')\n",
    "        \n",
    "print_max(3, 4)\n",
    "\n",
    "x = 5\n",
    "y = 7\n",
    "print_max(x, y)"
   ]
  },
  {
   "cell_type": "markdown",
   "id": "52866536",
   "metadata": {},
   "source": [
    "## Parameters as local variables\n",
    "\n",
    "* Variables in the function definition, are not connected in any way to other variables with the same names, but used in another part of the program.\n",
    "* These variables are local to this function.\n",
    "* This is called the scope of the parameter.\n",
    "* Each variable has its scope, which is the block in which it is declared, starting from where its name is defined."
   ]
  },
  {
   "cell_type": "code",
   "execution_count": 3,
   "id": "38b57d35",
   "metadata": {},
   "outputs": [
    {
     "name": "stdout",
     "output_type": "stream",
     "text": [
      "Outside the function x is equal 50\n",
      "Within function x is equal to 50\n",
      "Now x inside the function is equal 2\n",
      "After the function outside x is equal 50\n"
     ]
    }
   ],
   "source": [
    "x = 50\n",
    "\n",
    "def my_function(x):\n",
    "    print('Within function x is equal to', x)\n",
    "    x = 2\n",
    "    print('Now x inside the function is equal', x)\n",
    "\n",
    "print('Outside the function x is equal', x)\n",
    "my_function(x)\n",
    "print('After the function outside x is equal', x)"
   ]
  },
  {
   "cell_type": "markdown",
   "id": "dcb42fb6",
   "metadata": {},
   "source": [
    "## Variables within functions\n",
    "\n",
    "* Variables created inside a function are local variables."
   ]
  },
  {
   "cell_type": "code",
   "execution_count": 4,
   "id": "6381d3a0",
   "metadata": {},
   "outputs": [
    {
     "name": "stdout",
     "output_type": "stream",
     "text": [
      "Outside the function x,y are equal 50 100\n",
      "Inside the function x,y are equal 50 200\n",
      "Now x,y inside the function are equal 2 300\n",
      "After the function outside x,y are equal 50 100\n"
     ]
    }
   ],
   "source": [
    "x = 50\n",
    "y = 100\n",
    "\n",
    "def my_function(x):\n",
    "    y = 200\n",
    "    print('Inside the function x,y are equal', x,y)\n",
    "    x = 2\n",
    "    y += 100\n",
    "    print('Now x,y inside the function are equal', x,y)\n",
    "\n",
    "print('Outside the function x,y are equal', x,y)\n",
    "my_function(x)\n",
    "print('After the function outside x,y are equal', x,y)"
   ]
  },
  {
   "cell_type": "markdown",
   "id": "1dfe5b6c",
   "metadata": {},
   "source": [
    "## Using the `global` expression\n",
    "\n",
    "* If inside a function you want to assign a value to a name defined in the main block of the program (outside functions), you have to tell Python that the name is not local, but global.\n",
    "* This should be done using the `global` expression."
   ]
  },
  {
   "cell_type": "code",
   "execution_count": 5,
   "id": "eac67862",
   "metadata": {},
   "outputs": [
    {
     "name": "stdout",
     "output_type": "stream",
     "text": [
      "Outside the function x is equal 50\n",
      "Within function x is equal to 50\n",
      "Now x inside the function is equal 2\n",
      "After the function outside x is equal 2\n"
     ]
    }
   ],
   "source": [
    "x = 50\n",
    "\n",
    "def my_function():\n",
    "    global x\n",
    "    print('Within function x is equal to', x)\n",
    "    x = 2\n",
    "    print('Now x inside the function is equal', x)\n",
    "\n",
    "print('Outside the function x is equal', x)\n",
    "my_function()\n",
    "print('After the function outside x is equal', x)"
   ]
  },
  {
   "cell_type": "markdown",
   "id": "0ba25b0c",
   "metadata": {},
   "source": [
    "## Default argument values\n",
    "\n",
    "* For some functions, you may wish to make some parameters optional and for them to take default values when the user does not wish to enter their own values into them.\n",
    "* To give a default value to a parameter, place an assignment character (`=`) after it and then the value it should take.\n",
    "* The default value should be a constant.\n",
    "* Only those parameters which are at the end of the parameter list can have default values."
   ]
  },
  {
   "cell_type": "code",
   "execution_count": 6,
   "id": "f12fb66d",
   "metadata": {},
   "outputs": [
    {
     "name": "stdout",
     "output_type": "stream",
     "text": [
      "Hello\n",
      "WorldWorldWorldWorldWorld\n"
     ]
    }
   ],
   "source": [
    "def say(message, times=1):\n",
    "    print(message * times)\n",
    "\n",
    "say('Hello')\n",
    "say('World', 5)"
   ]
  },
  {
   "cell_type": "markdown",
   "id": "e187e34f",
   "metadata": {},
   "source": [
    "## Arguments with keyword\n",
    "\n",
    "* If you are using a function with many parameters and only want to pass some of them, you can assign values by naming them.\n",
    "* We use the name (keyword) instead of the actual position to pass arguments to the function."
   ]
  },
  {
   "cell_type": "code",
   "execution_count": 7,
   "id": "19c857c2",
   "metadata": {},
   "outputs": [
    {
     "name": "stdout",
     "output_type": "stream",
     "text": [
      "a is 3 and b is 7 and c is 10\n",
      "a is 25 and b is 5 and c is 24\n",
      "a is 100 and b is 5 and c is 50\n"
     ]
    }
   ],
   "source": [
    "def func(a, b=5, c=10):\n",
    "    print('a is', a, 'and b is', b, 'and c is', c)\n",
    "\n",
    "func(3, 7)\n",
    "func(25, c=24)\n",
    "func(c=50, a=100)"
   ]
  },
  {
   "cell_type": "markdown",
   "id": "44fbd724",
   "metadata": {},
   "source": [
    "## Various number of parameters\n",
    "\n",
    "* Sometimes you want to define a function that takes an arbitrary (different for each call) number of parameters.\n",
    "* This can be achieved by using asterisks (`*`) before the names of the relevant parameters."
   ]
  },
  {
   "cell_type": "code",
   "execution_count": 8,
   "id": "e5673b01",
   "metadata": {},
   "outputs": [
    {
     "name": "stdout",
     "output_type": "stream",
     "text": [
      "a 10\n",
      "item0: 1\n",
      "item1: 2\n",
      "item2: 3\n",
      "Adam: 1123\n",
      "Bolek: 2231\n",
      "Lolek: 1560\n"
     ]
    }
   ],
   "source": [
    "def my_function(a=5, *args, **kwargs):\n",
    "    print('a', a)\n",
    "\n",
    "    #passes through all the items in the tuple\n",
    "    for i,item in enumerate(args):\n",
    "        print(f'item{i}: {item}')\n",
    "\n",
    "    #passes through all elements in the dictionary   \n",
    "    for name, value in kwargs.items():\n",
    "        print(f'{name}: {value}')\n",
    "\n",
    "my_function(10, 1, 2, 3, Adam=1123, Bolek=2231, Lolek=1560)"
   ]
  },
  {
   "cell_type": "markdown",
   "id": "aa4e8d6b",
   "metadata": {},
   "source": [
    "## `return` expression\n",
    "\n",
    "* We use the `return` expression to exit a function.\n",
    "* We can optionally also return a specific value at this point, which will be the value returned by the function."
   ]
  },
  {
   "cell_type": "code",
   "execution_count": 9,
   "id": "059bc42f",
   "metadata": {},
   "outputs": [
    {
     "name": "stdout",
     "output_type": "stream",
     "text": [
      "3\n"
     ]
    }
   ],
   "source": [
    "def maximum(x, y):\n",
    "    if x > y:\n",
    "        return x\n",
    "    elif x == y:\n",
    "        return 'The numbers are equal'\n",
    "    else:\n",
    "        return y\n",
    "\n",
    "print(maximum(2, 3))"
   ]
  },
  {
   "cell_type": "markdown",
   "id": "ee4aa6e5",
   "metadata": {},
   "source": [
    "## A function without `return` also returns a value\n",
    "\n",
    "* Using a `return` expression without a value is equivalent to using `return None`.\n",
    "* `None` is a special type in Python that represents simply nothing.\n",
    "* Every function implicitly uses `return None` at the end."
   ]
  },
  {
   "cell_type": "code",
   "execution_count": 10,
   "id": "a48011da",
   "metadata": {},
   "outputs": [
    {
     "name": "stdout",
     "output_type": "stream",
     "text": [
      "None\n",
      "None\n"
     ]
    }
   ],
   "source": [
    "def function1():\n",
    "    x = 8\n",
    "    return\n",
    "\n",
    "def function2():\n",
    "    y = 12\n",
    "    \n",
    "print(function1())\n",
    "print(function2())"
   ]
  },
  {
   "cell_type": "markdown",
   "id": "3358a4b6",
   "metadata": {},
   "source": [
    "## ---- Exercise 1 ----\n",
    "\n",
    "Write a function to check whether the given number is within the given range."
   ]
  },
  {
   "cell_type": "code",
   "execution_count": null,
   "id": "67141cf5",
   "metadata": {},
   "outputs": [],
   "source": [
    "# Write your code here\n",
    "\n",
    "print(number_in_range(7, 3, 10))   # should print True, because 7 is in range 3-10\n",
    "print(number_in_range(8, 12, 34))  # should print True, because 8 is in range 12-34\n",
    "print(number_in_range(-4, 8, 0))   # should print False, beause -4 isn't in range 0-8"
   ]
  },
  {
   "cell_type": "markdown",
   "id": "59c17216",
   "metadata": {},
   "source": [
    "## ---- Exercise 2 ----\n",
    "\n",
    "Write a function that takes a string and returns the number of upper and lower case letters."
   ]
  },
  {
   "cell_type": "code",
   "execution_count": null,
   "id": "8478c5f6",
   "metadata": {},
   "outputs": [],
   "source": [
    "# Write your code here\n",
    "\n",
    "print(count_chars(\"The quick Brow Fox\"))  # should print (3, 12)\n",
    "print(count_chars(\"November 25, 2021\"))   # should print (1, 7)"
   ]
  },
  {
   "cell_type": "markdown",
   "id": "013c287d",
   "metadata": {},
   "source": [
    "## ---- Exercise 3 ----\n",
    "\n",
    "Write a function that returns the product of the numbers (there may be different numbers) passed in its call."
   ]
  },
  {
   "cell_type": "code",
   "execution_count": null,
   "id": "86833158",
   "metadata": {},
   "outputs": [],
   "source": [
    "# Write your code here\n",
    "\n",
    "print(multiply_numbers(1, 2, 3, 5))            # should print 30\n",
    "print(multiply_numbers(9, 2, 12, -4, -6, 0.4)) # should print 2073.6"
   ]
  }
 ],
 "metadata": {
  "kernelspec": {
   "display_name": "Python 3",
   "language": "python",
   "name": "python3"
  },
  "language_info": {
   "codemirror_mode": {
    "name": "ipython",
    "version": 3
   },
   "file_extension": ".py",
   "mimetype": "text/x-python",
   "name": "python",
   "nbconvert_exporter": "python",
   "pygments_lexer": "ipython3",
   "version": "3.9.7"
  }
 },
 "nbformat": 4,
 "nbformat_minor": 5
}
