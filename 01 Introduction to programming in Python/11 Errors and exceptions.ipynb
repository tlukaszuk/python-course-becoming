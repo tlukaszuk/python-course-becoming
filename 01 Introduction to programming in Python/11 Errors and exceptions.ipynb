{
 "cells": [
  {
   "cell_type": "markdown",
   "id": "79a800da",
   "metadata": {
    "slideshow": {
     "slide_type": "slide"
    }
   },
   "source": [
    "# Introduction to programming in Python\n",
    "## Errors and exceptions\n",
    "\n",
    "***\n",
    "<br>"
   ]
  },
  {
   "cell_type": "markdown",
   "id": "6b956c2b",
   "metadata": {},
   "source": [
    "## Programming errors - nothing unusual\n",
    "\n",
    "* Every programmer encounters bugs, whether they are just beginning or have been programming for years.\n",
    "* Encountering errors and exceptions can be very frustrating and can make coding feel like a hopeless endeavour.\n",
    "* However, understanding what the different types of errors are and when you are likely to encounter them can help a lot.\n",
    "* Once you know why you get certain types of errors, they become much easier to fix.\n",
    "\n",
    "\n",
    "* Python provides clear and communicative information about the errors encountered.\n",
    "* In many cases, the error message makes it easier to correct the code and eliminate the error."
   ]
  },
  {
   "cell_type": "markdown",
   "id": "9a7cb63e",
   "metadata": {},
   "source": [
    "## Types of errors\n",
    "\n",
    "* Syntax errors\n",
    "* Runtime errors\n",
    "* Semantic errors\n"
   ]
  },
  {
   "cell_type": "markdown",
   "id": "ab2d9f7c",
   "metadata": {},
   "source": [
    "## Tools to help identify errors\n",
    "\n",
    "* Python interpreter - detects syntax errors and program operation errors\n",
    "* Logging of events, program status\n",
    "* Special programs - debuggers\n",
    "\n",
    "<img src=\"img/debug.png\" style=\"width:300px\">"
   ]
  },
  {
   "cell_type": "markdown",
   "id": "97603615",
   "metadata": {},
   "source": [
    "## Syntax errors\n",
    "\n",
    "* These are reported by the Python interpreter while the source code is being translated into byte code.\n",
    "* They generally tell you that something is wrong with the syntax (code usage) of the program.\n",
    "* They are usually easy to fix."
   ]
  },
  {
   "cell_type": "markdown",
   "id": "dfd0f2ca",
   "metadata": {},
   "source": [
    "## Syntax error message\n",
    "\n",
    "* The most common messages will be `SyntaxError: invalid syntax` or `SyntaxError: invalid token`.\n",
    "* The message contains information about where in the program the error occurred."
   ]
  },
  {
   "cell_type": "code",
   "execution_count": 1,
   "id": "f25942ea",
   "metadata": {},
   "outputs": [
    {
     "ename": "SyntaxError",
     "evalue": "invalid syntax (<ipython-input-1-dd63857db8ac>, line 2)",
     "output_type": "error",
     "traceback": [
      "\u001b[1;36m  File \u001b[1;32m\"<ipython-input-1-dd63857db8ac>\"\u001b[1;36m, line \u001b[1;32m2\u001b[0m\n\u001b[1;33m    if x < 5\u001b[0m\n\u001b[1;37m            ^\u001b[0m\n\u001b[1;31mSyntaxError\u001b[0m\u001b[1;31m:\u001b[0m invalid syntax\n"
     ]
    }
   ],
   "source": [
    "x = 10\n",
    "if x < 5\n",
    "    print(x)"
   ]
  },
  {
   "cell_type": "markdown",
   "id": "d0e810e7",
   "metadata": {},
   "source": [
    "## The most common causes of syntax errors\n",
    "\n",
    "* Using keywords (reserved words of Python syntax) as variable names."
   ]
  },
  {
   "cell_type": "code",
   "execution_count": 2,
   "id": "8a748126",
   "metadata": {},
   "outputs": [
    {
     "ename": "SyntaxError",
     "evalue": "invalid syntax (<ipython-input-2-1dd9e57daaf8>, line 1)",
     "output_type": "error",
     "traceback": [
      "\u001b[1;36m  File \u001b[1;32m\"<ipython-input-2-1dd9e57daaf8>\"\u001b[1;36m, line \u001b[1;32m1\u001b[0m\n\u001b[1;33m    lambda = 5\u001b[0m\n\u001b[1;37m           ^\u001b[0m\n\u001b[1;31mSyntaxError\u001b[0m\u001b[1;31m:\u001b[0m invalid syntax\n"
     ]
    }
   ],
   "source": [
    "lambda = 5\n",
    "print(lambda)"
   ]
  },
  {
   "cell_type": "markdown",
   "id": "98f5db8b",
   "metadata": {},
   "source": [
    "* No colon at the end of an expression starting a block of instructions.\n",
    "    * Expression starting with keywords `for`, `while`, `if`, `def`."
   ]
  },
  {
   "cell_type": "code",
   "execution_count": 3,
   "id": "989899bc",
   "metadata": {},
   "outputs": [
    {
     "ename": "SyntaxError",
     "evalue": "invalid syntax (<ipython-input-3-22fe7291d170>, line 1)",
     "output_type": "error",
     "traceback": [
      "\u001b[1;36m  File \u001b[1;32m\"<ipython-input-3-22fe7291d170>\"\u001b[1;36m, line \u001b[1;32m1\u001b[0m\n\u001b[1;33m    for x in range(7)\u001b[0m\n\u001b[1;37m                     ^\u001b[0m\n\u001b[1;31mSyntaxError\u001b[0m\u001b[1;31m:\u001b[0m invalid syntax\n"
     ]
    }
   ],
   "source": [
    "for x in range(7)\n",
    "    print(x)"
   ]
  },
  {
   "cell_type": "markdown",
   "id": "a41e03c6",
   "metadata": {},
   "source": [
    "* Incorrect indentation.\n",
    "    * The indentation must be consistent.\n",
    "    * Each successive level should be indented equally."
   ]
  },
  {
   "cell_type": "code",
   "execution_count": 4,
   "id": "faad00e8",
   "metadata": {},
   "outputs": [
    {
     "ename": "IndentationError",
     "evalue": "unexpected indent (<ipython-input-4-8a485eef30b1>, line 4)",
     "output_type": "error",
     "traceback": [
      "\u001b[1;36m  File \u001b[1;32m\"<ipython-input-4-8a485eef30b1>\"\u001b[1;36m, line \u001b[1;32m4\u001b[0m\n\u001b[1;33m    print(\"ABC\")\u001b[0m\n\u001b[1;37m    ^\u001b[0m\n\u001b[1;31mIndentationError\u001b[0m\u001b[1;31m:\u001b[0m unexpected indent\n"
     ]
    }
   ],
   "source": [
    "x = 10\n",
    "if x < 20:\n",
    "    print(x)\n",
    "     print(\"ABC\")"
   ]
  },
  {
   "cell_type": "markdown",
   "id": "86001cd2",
   "metadata": {},
   "source": [
    "* Errors in strings.\n",
    "    * All character strings must have matching inverted commas.\n",
    "    * Multi-line strings starting with triple inverted commas must end correctly."
   ]
  },
  {
   "cell_type": "code",
   "execution_count": 5,
   "id": "9ba1d73f",
   "metadata": {},
   "outputs": [
    {
     "ename": "SyntaxError",
     "evalue": "EOL while scanning string literal (<ipython-input-5-015d9fa8ea6e>, line 1)",
     "output_type": "error",
     "traceback": [
      "\u001b[1;36m  File \u001b[1;32m\"<ipython-input-5-015d9fa8ea6e>\"\u001b[1;36m, line \u001b[1;32m1\u001b[0m\n\u001b[1;33m    s = \"This is a string'\u001b[0m\n\u001b[1;37m                          ^\u001b[0m\n\u001b[1;31mSyntaxError\u001b[0m\u001b[1;31m:\u001b[0m EOL while scanning string literal\n"
     ]
    }
   ],
   "source": [
    "s = \"This is a string'"
   ]
  },
  {
   "cell_type": "markdown",
   "id": "d878ed6a",
   "metadata": {},
   "source": [
    "* Unclosed brackets.\n",
    "    * An unclosed bracket `(`, `{`, or `[` will cause the interpreter to move to the next line of code, which will be treated as a continuation of the current line.\n",
    "    * Usually, the error will occur virtually immediately on the following line."
   ]
  },
  {
   "cell_type": "code",
   "execution_count": 6,
   "id": "7e0b45cf",
   "metadata": {},
   "outputs": [
    {
     "ename": "SyntaxError",
     "evalue": "invalid syntax (<ipython-input-6-617dab9b90ca>, line 4)",
     "output_type": "error",
     "traceback": [
      "\u001b[1;36m  File \u001b[1;32m\"<ipython-input-6-617dab9b90ca>\"\u001b[1;36m, line \u001b[1;32m4\u001b[0m\n\u001b[1;33m    d = [a, 1, 2]\u001b[0m\n\u001b[1;37m    ^\u001b[0m\n\u001b[1;31mSyntaxError\u001b[0m\u001b[1;31m:\u001b[0m invalid syntax\n"
     ]
    }
   ],
   "source": [
    "a = 7\n",
    "c = 9\n",
    "c = (a + 8) * (b - 8\n",
    "d = [a, 1, 2]"
   ]
  },
  {
   "cell_type": "markdown",
   "id": "27ee8a8a",
   "metadata": {},
   "source": [
    "* Error of using `=` instead of `==` in comparisons in conditional statements."
   ]
  },
  {
   "cell_type": "code",
   "execution_count": 7,
   "id": "6e7b6998",
   "metadata": {},
   "outputs": [
    {
     "ename": "SyntaxError",
     "evalue": "invalid syntax (<ipython-input-7-3f1e6774ae01>, line 3)",
     "output_type": "error",
     "traceback": [
      "\u001b[1;36m  File \u001b[1;32m\"<ipython-input-7-3f1e6774ae01>\"\u001b[1;36m, line \u001b[1;32m3\u001b[0m\n\u001b[1;33m    if x = y:\u001b[0m\n\u001b[1;37m         ^\u001b[0m\n\u001b[1;31mSyntaxError\u001b[0m\u001b[1;31m:\u001b[0m invalid syntax\n"
     ]
    }
   ],
   "source": [
    "x = 10\n",
    "y = 20\n",
    "if x = y:\n",
    "    print(\"ABC\")"
   ]
  },
  {
   "cell_type": "markdown",
   "id": "19deda56",
   "metadata": {},
   "source": [
    "## Runtime errors\n",
    "\n",
    "* If the program is free of syntax errors, Python can import and/or run it.\n",
    "* This does not guarantee correct program operation.\n",
    "* There may be errors in the program, which will become apparent when the line of code in which the error manifests itself is executed."
   ]
  },
  {
   "cell_type": "markdown",
   "id": "4240476d",
   "metadata": {},
   "source": [
    "## The program hangs\n",
    "\n",
    "* If a program stops and it looks like it is not doing anything in particular then we say that the program has hang.\n",
    "* Most often, this means that it is just executing an infinite loop or that it is making infinite recursive references.\n",
    "\n",
    "\n",
    "* If you think that any loop in your program is infinite and you are additionally suspicious of a particular conditional loop, add a `print` expression at the end of the loop so that it prints the values and variables subject to the condition and the result of the condition itself."
   ]
  },
  {
   "cell_type": "code",
   "execution_count": 8,
   "id": "d95d54fa",
   "metadata": {},
   "outputs": [
    {
     "name": "stdout",
     "output_type": "stream",
     "text": [
      "x:9, y:-4, condition:True\n",
      "x:8, y:-3, condition:True\n",
      "x:7, y:-2, condition:True\n",
      "x:6, y:-1, condition:True\n",
      "x:5, y:0, condition:False\n"
     ]
    }
   ],
   "source": [
    "x, y = 10, -5\n",
    "\n",
    "while x > 0 and y < 0:\n",
    "    x = x-1\n",
    "    y += 1\n",
    "\n",
    "    print(f\"x:{x}, y:{y}, condition:{x > 0 and y < 0}\")"
   ]
  },
  {
   "cell_type": "markdown",
   "id": "442daa54",
   "metadata": {},
   "source": [
    "## The program raises an exception\n",
    "\n",
    "* If something goes wrong while the program is running, Python prints a message that includes the name of the exception, the line of the program where the exception occurred and the full error message (traceback)."
   ]
  },
  {
   "cell_type": "markdown",
   "id": "a60b69ca",
   "metadata": {},
   "source": [
    "## The most common exceptions occurring during program operation\n",
    "\n",
    "* `NameError`\n",
    "    * Variable name error.\n",
    "    * You are referring to a variable that does not exist in the given range."
   ]
  },
  {
   "cell_type": "code",
   "execution_count": 9,
   "id": "ac6f8978",
   "metadata": {},
   "outputs": [
    {
     "ename": "NameError",
     "evalue": "name 'result' is not defined",
     "output_type": "error",
     "traceback": [
      "\u001b[1;31m---------------------------------------------------------------------------\u001b[0m",
      "\u001b[1;31mNameError\u001b[0m                                 Traceback (most recent call last)",
      "\u001b[1;32m<ipython-input-9-660ddfe25150>\u001b[0m in \u001b[0;36m<module>\u001b[1;34m\u001b[0m\n\u001b[0;32m      3\u001b[0m     \u001b[1;32mreturn\u001b[0m \u001b[0mresult\u001b[0m\u001b[1;33m\u001b[0m\u001b[1;33m\u001b[0m\u001b[0m\n\u001b[0;32m      4\u001b[0m \u001b[1;33m\u001b[0m\u001b[0m\n\u001b[1;32m----> 5\u001b[1;33m \u001b[0mprint\u001b[0m\u001b[1;33m(\u001b[0m\u001b[0mresult\u001b[0m\u001b[1;33m)\u001b[0m\u001b[1;33m\u001b[0m\u001b[1;33m\u001b[0m\u001b[0m\n\u001b[0m",
      "\u001b[1;31mNameError\u001b[0m: name 'result' is not defined"
     ]
    }
   ],
   "source": [
    "def func1(x, y, z):\n",
    "    result = x + y + z\n",
    "    return result\n",
    "\n",
    "print(result)"
   ]
  },
  {
   "cell_type": "markdown",
   "id": "0835a75f",
   "metadata": {},
   "source": [
    "* `TypeError`\n",
    "    * Variable type error.\n",
    "    * Unsupported operation between two types.\n",
    "    * Invalid identifier invocation.\n",
    "    * Invalid list index type.\n",
    "    * Iteration over non-iterative identifier."
   ]
  },
  {
   "cell_type": "code",
   "execution_count": 10,
   "id": "0f07e8ee",
   "metadata": {},
   "outputs": [
    {
     "ename": "TypeError",
     "evalue": "can only concatenate str (not \"int\") to str",
     "output_type": "error",
     "traceback": [
      "\u001b[1;31m---------------------------------------------------------------------------\u001b[0m",
      "\u001b[1;31mTypeError\u001b[0m                                 Traceback (most recent call last)",
      "\u001b[1;32m<ipython-input-10-9e2bab880a71>\u001b[0m in \u001b[0;36m<module>\u001b[1;34m\u001b[0m\n\u001b[0;32m      1\u001b[0m \u001b[0ms\u001b[0m \u001b[1;33m=\u001b[0m \u001b[1;34m\"ABC\"\u001b[0m\u001b[1;33m\u001b[0m\u001b[1;33m\u001b[0m\u001b[0m\n\u001b[0;32m      2\u001b[0m \u001b[0mnum\u001b[0m \u001b[1;33m=\u001b[0m \u001b[1;36m4\u001b[0m\u001b[1;33m\u001b[0m\u001b[1;33m\u001b[0m\u001b[0m\n\u001b[1;32m----> 3\u001b[1;33m \u001b[0mprint\u001b[0m\u001b[1;33m(\u001b[0m\u001b[0ms\u001b[0m \u001b[1;33m+\u001b[0m \u001b[0mnum\u001b[0m \u001b[1;33m+\u001b[0m \u001b[0ms\u001b[0m\u001b[1;33m)\u001b[0m\u001b[1;33m\u001b[0m\u001b[1;33m\u001b[0m\u001b[0m\n\u001b[0m",
      "\u001b[1;31mTypeError\u001b[0m: can only concatenate str (not \"int\") to str"
     ]
    }
   ],
   "source": [
    "s = \"ABC\"\n",
    "num = 4\n",
    "print(s + num + s)"
   ]
  },
  {
   "cell_type": "code",
   "execution_count": 11,
   "id": "e450a418",
   "metadata": {},
   "outputs": [
    {
     "ename": "TypeError",
     "evalue": "'str' object is not callable",
     "output_type": "error",
     "traceback": [
      "\u001b[1;31m---------------------------------------------------------------------------\u001b[0m",
      "\u001b[1;31mTypeError\u001b[0m                                 Traceback (most recent call last)",
      "\u001b[1;32m<ipython-input-11-a4042c25eabe>\u001b[0m in \u001b[0;36m<module>\u001b[1;34m\u001b[0m\n\u001b[0;32m      1\u001b[0m \u001b[0msubtitle\u001b[0m \u001b[1;33m=\u001b[0m \u001b[1;34m\"string value\"\u001b[0m\u001b[1;33m\u001b[0m\u001b[1;33m\u001b[0m\u001b[0m\n\u001b[1;32m----> 2\u001b[1;33m \u001b[0mprint\u001b[0m\u001b[1;33m(\u001b[0m\u001b[0msubtitle\u001b[0m\u001b[1;33m(\u001b[0m\u001b[1;33m)\u001b[0m\u001b[1;33m)\u001b[0m\u001b[1;33m\u001b[0m\u001b[1;33m\u001b[0m\u001b[0m\n\u001b[0m",
      "\u001b[1;31mTypeError\u001b[0m: 'str' object is not callable"
     ]
    }
   ],
   "source": [
    "subtitle = \"string value\"\n",
    "print(subtitle())"
   ]
  },
  {
   "cell_type": "code",
   "execution_count": 12,
   "id": "74bc0a20",
   "metadata": {},
   "outputs": [
    {
     "ename": "TypeError",
     "evalue": "list indices must be integers or slices, not float",
     "output_type": "error",
     "traceback": [
      "\u001b[1;31m---------------------------------------------------------------------------\u001b[0m",
      "\u001b[1;31mTypeError\u001b[0m                                 Traceback (most recent call last)",
      "\u001b[1;32m<ipython-input-12-0b24394bcc55>\u001b[0m in \u001b[0;36m<module>\u001b[1;34m\u001b[0m\n\u001b[0;32m      1\u001b[0m \u001b[0ml\u001b[0m \u001b[1;33m=\u001b[0m \u001b[1;33m[\u001b[0m\u001b[1;36m1\u001b[0m\u001b[1;33m,\u001b[0m \u001b[1;36m3\u001b[0m\u001b[1;33m,\u001b[0m \u001b[1;36m5\u001b[0m\u001b[1;33m,\u001b[0m \u001b[1;36m8\u001b[0m\u001b[1;33m]\u001b[0m\u001b[1;33m\u001b[0m\u001b[1;33m\u001b[0m\u001b[0m\n\u001b[0;32m      2\u001b[0m \u001b[0mx\u001b[0m \u001b[1;33m=\u001b[0m \u001b[1;36m3.14\u001b[0m\u001b[1;33m\u001b[0m\u001b[1;33m\u001b[0m\u001b[0m\n\u001b[1;32m----> 3\u001b[1;33m \u001b[0ml\u001b[0m\u001b[1;33m[\u001b[0m\u001b[0mx\u001b[0m\u001b[1;33m]\u001b[0m\u001b[1;33m\u001b[0m\u001b[1;33m\u001b[0m\u001b[0m\n\u001b[0m",
      "\u001b[1;31mTypeError\u001b[0m: list indices must be integers or slices, not float"
     ]
    }
   ],
   "source": [
    "l = [1, 3, 5, 8]\n",
    "x = 3.14\n",
    "l[x]"
   ]
  },
  {
   "cell_type": "code",
   "execution_count": 13,
   "id": "786cda14",
   "metadata": {},
   "outputs": [
    {
     "ename": "TypeError",
     "evalue": "'float' object is not iterable",
     "output_type": "error",
     "traceback": [
      "\u001b[1;31m---------------------------------------------------------------------------\u001b[0m",
      "\u001b[1;31mTypeError\u001b[0m                                 Traceback (most recent call last)",
      "\u001b[1;32m<ipython-input-13-b4cab076cf60>\u001b[0m in \u001b[0;36m<module>\u001b[1;34m\u001b[0m\n\u001b[1;32m----> 1\u001b[1;33m \u001b[1;32mfor\u001b[0m \u001b[0mi\u001b[0m \u001b[1;32min\u001b[0m \u001b[1;36m1234.567890\u001b[0m\u001b[1;33m:\u001b[0m\u001b[1;33m\u001b[0m\u001b[1;33m\u001b[0m\u001b[0m\n\u001b[0m\u001b[0;32m      2\u001b[0m     \u001b[0mprint\u001b[0m\u001b[1;33m(\u001b[0m\u001b[0mi\u001b[0m\u001b[1;33m)\u001b[0m\u001b[1;33m\u001b[0m\u001b[1;33m\u001b[0m\u001b[0m\n",
      "\u001b[1;31mTypeError\u001b[0m: 'float' object is not iterable"
     ]
    }
   ],
   "source": [
    "for i in 1234.567890:\n",
    "    print(i)"
   ]
  },
  {
   "cell_type": "markdown",
   "id": "a46536e3",
   "metadata": {},
   "source": [
    "* `KeyError`\n",
    "    * Invalid key.\n",
    "    * You are referencing a dictionary element using a key not present in the dictionary."
   ]
  },
  {
   "cell_type": "code",
   "execution_count": 14,
   "id": "dbd740a0",
   "metadata": {},
   "outputs": [
    {
     "ename": "KeyError",
     "evalue": "'Michael'",
     "output_type": "error",
     "traceback": [
      "\u001b[1;31m---------------------------------------------------------------------------\u001b[0m",
      "\u001b[1;31mKeyError\u001b[0m                                  Traceback (most recent call last)",
      "\u001b[1;32m<ipython-input-14-1b67c556d0cb>\u001b[0m in \u001b[0;36m<module>\u001b[1;34m\u001b[0m\n\u001b[0;32m      1\u001b[0m \u001b[0mages\u001b[0m \u001b[1;33m=\u001b[0m \u001b[1;33m{\u001b[0m\u001b[1;34m'Jim'\u001b[0m\u001b[1;33m:\u001b[0m \u001b[1;36m30\u001b[0m\u001b[1;33m,\u001b[0m \u001b[1;34m'Pam'\u001b[0m\u001b[1;33m:\u001b[0m \u001b[1;36m28\u001b[0m\u001b[1;33m,\u001b[0m \u001b[1;34m'Kevin'\u001b[0m\u001b[1;33m:\u001b[0m \u001b[1;36m33\u001b[0m\u001b[1;33m}\u001b[0m\u001b[1;33m\u001b[0m\u001b[1;33m\u001b[0m\u001b[0m\n\u001b[1;32m----> 2\u001b[1;33m \u001b[0mages\u001b[0m\u001b[1;33m[\u001b[0m\u001b[1;34m'Michael'\u001b[0m\u001b[1;33m]\u001b[0m\u001b[1;33m\u001b[0m\u001b[1;33m\u001b[0m\u001b[0m\n\u001b[0m",
      "\u001b[1;31mKeyError\u001b[0m: 'Michael'"
     ]
    }
   ],
   "source": [
    "ages = {'Jim': 30, 'Pam': 28, 'Kevin': 33}\n",
    "ages['Michael']"
   ]
  },
  {
   "cell_type": "markdown",
   "id": "0a600406",
   "metadata": {},
   "source": [
    "* `AttributeError`\n",
    "    * Invalid attribute.\n",
    "    * You are referencing an attribute or method that does not exist"
   ]
  },
  {
   "cell_type": "code",
   "execution_count": 15,
   "id": "8fae010c",
   "metadata": {},
   "outputs": [
    {
     "ename": "AttributeError",
     "evalue": "'int' object has no attribute 'append'",
     "output_type": "error",
     "traceback": [
      "\u001b[1;31m---------------------------------------------------------------------------\u001b[0m",
      "\u001b[1;31mAttributeError\u001b[0m                            Traceback (most recent call last)",
      "\u001b[1;32m<ipython-input-15-8aa689ff3fa8>\u001b[0m in \u001b[0;36m<module>\u001b[1;34m\u001b[0m\n\u001b[0;32m      1\u001b[0m \u001b[0mX\u001b[0m \u001b[1;33m=\u001b[0m \u001b[1;36m10\u001b[0m\u001b[1;33m\u001b[0m\u001b[1;33m\u001b[0m\u001b[0m\n\u001b[1;32m----> 2\u001b[1;33m \u001b[0mX\u001b[0m\u001b[1;33m.\u001b[0m\u001b[0mappend\u001b[0m\u001b[1;33m(\u001b[0m\u001b[1;36m6\u001b[0m\u001b[1;33m)\u001b[0m\u001b[1;33m\u001b[0m\u001b[1;33m\u001b[0m\u001b[0m\n\u001b[0m",
      "\u001b[1;31mAttributeError\u001b[0m: 'int' object has no attribute 'append'"
     ]
    }
   ],
   "source": [
    "X = 10\n",
    "X.append(6)"
   ]
  },
  {
   "cell_type": "code",
   "execution_count": 16,
   "id": "db228bac",
   "metadata": {},
   "outputs": [
    {
     "ename": "AttributeError",
     "evalue": "'str' object has no attribute 'fst'",
     "output_type": "error",
     "traceback": [
      "\u001b[1;31m---------------------------------------------------------------------------\u001b[0m",
      "\u001b[1;31mAttributeError\u001b[0m                            Traceback (most recent call last)",
      "\u001b[1;32m<ipython-input-16-b12fbf3218ce>\u001b[0m in \u001b[0;36m<module>\u001b[1;34m\u001b[0m\n\u001b[1;32m----> 1\u001b[1;33m \u001b[0mstring\u001b[0m \u001b[1;33m=\u001b[0m \u001b[1;34m\"The famous website is { }\"\u001b[0m\u001b[1;33m.\u001b[0m\u001b[0mfst\u001b[0m\u001b[1;33m(\u001b[0m\u001b[1;34m\"wi.pb.edu.pl\"\u001b[0m\u001b[1;33m)\u001b[0m\u001b[1;33m\u001b[0m\u001b[1;33m\u001b[0m\u001b[0m\n\u001b[0m\u001b[0;32m      2\u001b[0m \u001b[0mprint\u001b[0m\u001b[1;33m(\u001b[0m\u001b[0mstring\u001b[0m\u001b[1;33m)\u001b[0m\u001b[1;33m\u001b[0m\u001b[1;33m\u001b[0m\u001b[0m\n",
      "\u001b[1;31mAttributeError\u001b[0m: 'str' object has no attribute 'fst'"
     ]
    }
   ],
   "source": [
    "string = \"The famous website is { }\".fst(\"wi.pb.edu.pl\")\n",
    "print(string)"
   ]
  },
  {
   "cell_type": "markdown",
   "id": "bb40318c",
   "metadata": {},
   "source": [
    "* `IndexError`\n",
    "    * Invalid index.\n",
    "    * The index by which you are trying to refer to a list element, a tuple or a string is greater than its length by less than one (`len(l)-1`)."
   ]
  },
  {
   "cell_type": "code",
   "execution_count": 17,
   "id": "9fdc20c5",
   "metadata": {},
   "outputs": [
    {
     "ename": "IndexError",
     "evalue": "list index out of range",
     "output_type": "error",
     "traceback": [
      "\u001b[1;31m---------------------------------------------------------------------------\u001b[0m",
      "\u001b[1;31mIndexError\u001b[0m                                Traceback (most recent call last)",
      "\u001b[1;32m<ipython-input-17-ffc67cac0800>\u001b[0m in \u001b[0;36m<module>\u001b[1;34m\u001b[0m\n\u001b[0;32m      1\u001b[0m \u001b[0ml\u001b[0m \u001b[1;33m=\u001b[0m \u001b[1;33m[\u001b[0m\u001b[1;36m1\u001b[0m\u001b[1;33m,\u001b[0m \u001b[1;36m3\u001b[0m\u001b[1;33m,\u001b[0m \u001b[1;36m4\u001b[0m\u001b[1;33m,\u001b[0m \u001b[1;36m5\u001b[0m\u001b[1;33m]\u001b[0m\u001b[1;33m\u001b[0m\u001b[1;33m\u001b[0m\u001b[0m\n\u001b[1;32m----> 2\u001b[1;33m \u001b[0ml\u001b[0m\u001b[1;33m[\u001b[0m\u001b[1;33m-\u001b[0m\u001b[1;36m7\u001b[0m\u001b[1;33m]\u001b[0m\u001b[1;33m\u001b[0m\u001b[1;33m\u001b[0m\u001b[0m\n\u001b[0m",
      "\u001b[1;31mIndexError\u001b[0m: list index out of range"
     ]
    }
   ],
   "source": [
    "l = [1, 3, 4, 5]\n",
    "l[-7]"
   ]
  },
  {
   "cell_type": "markdown",
   "id": "6c704548",
   "metadata": {},
   "source": [
    "## Semantics errors\n",
    "\n",
    "* The most difficult errors to detect.\n",
    "* Neither the compiler nor the system will provide us with information about where the problem resides.\n",
    "* Only you know what your program should do and only you can tell that it is not doing it.\n",
    "* Tracking the execution of your programme step by step (line by line), monitoring changes in variable values and the function call stack can help you detect the error.\n",
    "* Tools that help with this process are called debuggers. They are generally a feature of IDE environments."
   ]
  },
  {
   "cell_type": "markdown",
   "id": "68211c4b",
   "metadata": {},
   "source": [
    "## ---- Exercise ----\n",
    "\n",
    "Find and correct all errors in the code below.<br>\n",
    "As a result of executing the following code, a list of `[1, 12, 5, [4, 8]]` should be output."
   ]
  },
  {
   "cell_type": "code",
   "execution_count": null,
   "id": "0a757704",
   "metadata": {},
   "outputs": [],
   "source": [
    "my_list = [1, 3, 5, [4, 8]\n",
    "my_list[7] = 12\n",
    "print(list)"
   ]
  }
 ],
 "metadata": {
  "kernelspec": {
   "display_name": "Python 3",
   "language": "python",
   "name": "python3"
  },
  "language_info": {
   "codemirror_mode": {
    "name": "ipython",
    "version": 3
   },
   "file_extension": ".py",
   "mimetype": "text/x-python",
   "name": "python",
   "nbconvert_exporter": "python",
   "pygments_lexer": "ipython3",
   "version": "3.9.7"
  }
 },
 "nbformat": 4,
 "nbformat_minor": 5
}
