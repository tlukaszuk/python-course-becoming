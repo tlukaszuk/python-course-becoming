{
 "cells": [
  {
   "cell_type": "markdown",
   "id": "79a800da",
   "metadata": {
    "slideshow": {
     "slide_type": "slide"
    }
   },
   "source": [
    "# Introduction to programming in Python\n",
    "## Libraries\n",
    "\n",
    "***\n",
    "<br>"
   ]
  },
  {
   "cell_type": "markdown",
   "id": "43f6c08d",
   "metadata": {},
   "source": [
    "## What is a programming library?\n",
    "\n",
    "* Finished (ready-to-use) code that other programmers use.\n",
    "* A collection of classes , functions (and possibly other programming constructs) that are used by other programs.\n",
    "* A library is responsible for a specific issue, or several issues that are relatively similar.\n",
    "* The programmer uses only those elements (e.g. functions) from the library that he needs for his project."
   ]
  },
  {
   "cell_type": "markdown",
   "id": "08b47041",
   "metadata": {},
   "source": [
    "## What do you need libraries for?\n",
    "\n",
    "* By sharing code that has been correctly written and proven to work, it can be reused without having to develop from scratch. It serves as a source for other software developers.\n",
    "* Using libraries is a way of reusing the same code.\n",
    "* Choosing the right programming library can make it easier to implement almost any task.\n",
    "* Writing programmes using only the pure elements of the programming language is time-consuming and sometimes even impossible."
   ]
  },
  {
   "cell_type": "markdown",
   "id": "2ac61909",
   "metadata": {},
   "source": [
    "## Using the library in your own code\n",
    "\n",
    "* We use the `import` keyword to import a module from a library.\n",
    "* The library you want to import into your program must be findable by the Python executable.\n",
    "* Python looks for libraries according to the following order of location analysis:\n",
    "    * Program root directory\n",
    "    * Directories in the path described by the PYTHONPATH variable, if defined\n",
    "    * Directories of the standard library (varies depending on the operating system)\n",
    "* The `sys.path` variable containing the list of directories in the search order."
   ]
  },
  {
   "cell_type": "code",
   "execution_count": null,
   "id": "91a84f56",
   "metadata": {},
   "outputs": [],
   "source": [
    "import sys            # importing whole library/module\n",
    "from sys import path  # import selected part of library"
   ]
  },
  {
   "cell_type": "code",
   "execution_count": null,
   "id": "661cba7a",
   "metadata": {},
   "outputs": [],
   "source": [
    "import sys\n",
    "\n",
    "print(sys.path)\n",
    "\n",
    "# ['d:\\\\umb-becoming\\\\python-course-becoming\\\\01 Introduction to programming in Python',\n",
    "# 'c:\\\\users\\\\tomluk\\\\appdata\\\\local\\\\programs\\\\python\\\\python39\\\\python39.zip',\n",
    "# ... ]"
   ]
  },
  {
   "cell_type": "markdown",
   "id": "e9bf4475",
   "metadata": {},
   "source": [
    "## What is the Python language standard library?\n",
    "\n",
    "* A comprehensive collection of functions, types and services that provide solutions to a wide range of programming issues.\n",
    "* They are not part of the Python language, but are distributed with the Python interpreter and are available to any Python program.\n",
    "* The library is divided into modules. Some modules are built-in, which means that you can use them without notifying the Python language compiler in advance. Other modules must be imported first.\n",
    "* Some of the code in these modules is written in the C programming language, which can use a set of lower-level hardware and operating system features than the Python language.\n",
    "* The Python language standard library consists of more than 200 modules containing thousands of functions."
   ]
  },
  {
   "cell_type": "markdown",
   "id": "18425158",
   "metadata": {},
   "source": [
    "## Short overview of the standard library\n",
    "\n",
    "* __argparse__ - command line interface (parameters)\n",
    "* __datetime__ - time and calendar operations\n",
    "* __dbm__ - DBM database interface\n",
    "* __distutils__ - tools for installing and creating Python packages\n",
    "* __doctest__ - documentation testing\n",
    "* __email__\n",
    "* __html__\n",
    "* __http__\n",
    "* __math__ - mathematical functions\n",
    "* __multiprocessing__ - multithreaded processing\n",
    "* __os__ - interaction with the operating system\n",
    "* __cProfile__ - tools for optimising programs\n",
    "* __random__ - random number generators (flat, Gauss)\n",
    "* __re__ - regular expressions\n",
    "* __smtpd__ - SMTP server\n",
    "* __smtplib__ - SMTP client\n",
    "* __socketserver__ - low-level network operations\n",
    "* __ssl__ - OpenSSL\n",
    "* __sqlite3__ - SQLite database interface\n",
    "* __timeit__ - measurements of program performance\n",
    "* __tkinter__ - module for building the graphic interface GUI\n",
    "* __unittest__ - program testing\n",
    "* __xml__\n",
    "* __zipfile__"
   ]
  },
  {
   "cell_type": "markdown",
   "id": "31305937",
   "metadata": {},
   "source": [
    "## Example of using the `pickle` library\n",
    "\n",
    "* The `pickle` module allows the serialisation and deserialisation of Python objects.\n",
    "* Serialisation (also known as marshalling, pickling or flattening) is the process of converting an object into a sequence of bytes.\n",
    "* Deserialisation (a.k.a. demarshalling or unpicking) is the opposite process - converting consecutive bytes into an object.\n",
    "* The byte string can be saved to a file or transmitted over a network.\n",
    "\n",
    "<img src=\"img/python_pickle.png\" style=\"width:400px\">"
   ]
  },
  {
   "cell_type": "markdown",
   "id": "5d712914",
   "metadata": {},
   "source": [
    "#### Saving data to file\n",
    "\n",
    "* Saving data to a file can be achieved using the `dump()` function.\n",
    "* The file in which we want to save the data must be opened in binary mode."
   ]
  },
  {
   "cell_type": "code",
   "execution_count": 2,
   "id": "e261e402",
   "metadata": {},
   "outputs": [],
   "source": [
    "import pickle\n",
    "\n",
    "phone_book = {\n",
    "    \"Joan\": \"542-124-444\",\n",
    "    \"Matthew\": \"542-323-222\",\n",
    "}\n",
    "with open('app_data.pickle', 'wb') as file:\n",
    "    pickle.dump(phone_book, file)"
   ]
  },
  {
   "cell_type": "markdown",
   "id": "8126522c",
   "metadata": {},
   "source": [
    "#### Loading data from a file\n",
    "\n",
    "* Reading data from a file can be performed using the `load()` function.\n",
    "* The file from which we want to read data must be opened in binary mode"
   ]
  },
  {
   "cell_type": "code",
   "execution_count": 3,
   "id": "0f9805f1",
   "metadata": {},
   "outputs": [
    {
     "name": "stdout",
     "output_type": "stream",
     "text": [
      "{'Joan': '542-124-444', 'Matthew': '542-323-222'}\n"
     ]
    }
   ],
   "source": [
    "import pickle\n",
    "\n",
    "with open('app_data.pickle', 'rb') as file:\n",
    "    phone_book = pickle.load(file)\n",
    "    \n",
    "print(phone_book)"
   ]
  },
  {
   "cell_type": "markdown",
   "id": "de030c67",
   "metadata": {},
   "source": [
    "## Useful libraries that we will use in the upcoming parts of the course\n",
    "\n",
    "* __numpy__ - Numerical Python, fundamental library for scientific computing, linear algebra, matrix operations\n",
    "* __pandas__ - Python Data Analysis Library\n",
    "* __matplotlib__ - comprehensive library for creating static, animated, and interactive visualizations in Python\n",
    "* __scikit-learn__ - simple and efficient tools for predictive data analysis"
   ]
  }
 ],
 "metadata": {
  "kernelspec": {
   "display_name": "Python 3",
   "language": "python",
   "name": "python3"
  },
  "language_info": {
   "codemirror_mode": {
    "name": "ipython",
    "version": 3
   },
   "file_extension": ".py",
   "mimetype": "text/x-python",
   "name": "python",
   "nbconvert_exporter": "python",
   "pygments_lexer": "ipython3",
   "version": "3.9.7"
  }
 },
 "nbformat": 4,
 "nbformat_minor": 5
}
