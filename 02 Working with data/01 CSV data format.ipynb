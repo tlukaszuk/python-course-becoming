{
 "cells": [
  {
   "cell_type": "markdown",
   "id": "79a800da",
   "metadata": {
    "slideshow": {
     "slide_type": "slide"
    }
   },
   "source": [
    "# Working with data\n",
    "## CSV data format\n",
    "\n",
    "***\n",
    "<br>"
   ]
  },
  {
   "cell_type": "markdown",
   "id": "4f1d0dca",
   "metadata": {},
   "source": [
    "## What is a CSV file?\n",
    "\n",
    "* A CSV (comma-separated values) file is a text file in which information is separated by commas.\n",
    "* A CSV file is a simple text file that you can open in a wide variety of programs, including any program that works with plain text like the Notepad app.\n",
    "* What makes a CSV file unique is the way its content is organized."
   ]
  },
  {
   "cell_type": "markdown",
   "id": "6eb778b6",
   "metadata": {},
   "source": [
    "## Structure of CSV file\n",
    "\n",
    "* Each line of the file is a data record.\n",
    "* Each record consists of one or more fields, usually separated by commas.\n",
    "* A CSV file typically stores tabular data (numbers and text) in plain text, in which case each line will have the same number of fields.\n",
    "* Despite the name, a CSV doesn't need to rely on commas as the separator between pieces of information. This separator, called a delimiter, can be a semicolon, space, or some other character, though the comma is most common.\n",
    "* Often the first line in a file is a so-called header containing the names of the fields of the records that follow it."
   ]
  },
  {
   "cell_type": "markdown",
   "id": "90a93c93",
   "metadata": {},
   "source": [
    "## Example of CSV file content\n",
    "\n",
    "| Product | Size | Color | Price |\n",
    "| --: | --: | --: | --: |\n",
    "| Shirt | Medium | Blue | \\$14 |\n",
    "| Shirt | Larg | Red | \\$15 |\n",
    "| Pants | Medium | Khaki | \\$23 |\n",
    "\n",
    "The above table of data may be represented in CSV format as follows: "
   ]
  },
  {
   "cell_type": "markdown",
   "id": "6beafd57",
   "metadata": {},
   "source": [
    "<code>Product, Size, Color, Price\n",
    "Shirt, Medium, Blue, $14\n",
    "Shirt, Large, Red, $15\n",
    "Pants, Medium, Khaki, $23\n",
    "</code>"
   ]
  },
  {
   "cell_type": "markdown",
   "id": "ba52a4e9",
   "metadata": {},
   "source": [
    "## What is a CSV file used for?\n",
    "\n",
    "* A CSV file, as the name implies, typically separates information using commas.\n",
    "* It's a way to exchange structured information, like the contents of a spreadsheet, among programs that can't necessarily talk to one another directly.\n",
    "* As long as two programs can both open a CSV file, they can exchange data. For example, you can save contact information from one programme as a CSV file and import it into an address book in another programme."
   ]
  },
  {
   "cell_type": "markdown",
   "id": "1d335b72",
   "metadata": {},
   "source": [
    "#### The format and CSV files will be used in the following lessons of the course to store, read and write data."
   ]
  }
 ],
 "metadata": {
  "kernelspec": {
   "display_name": "Python 3",
   "language": "python",
   "name": "python3"
  },
  "language_info": {
   "codemirror_mode": {
    "name": "ipython",
    "version": 3
   },
   "file_extension": ".py",
   "mimetype": "text/x-python",
   "name": "python",
   "nbconvert_exporter": "python",
   "pygments_lexer": "ipython3",
   "version": "3.9.7"
  }
 },
 "nbformat": 4,
 "nbformat_minor": 5
}
