{
 "cells": [
  {
   "cell_type": "markdown",
   "id": "79a800da",
   "metadata": {
    "slideshow": {
     "slide_type": "slide"
    }
   },
   "source": [
    "# Working with data\n",
    "## Python Data Analysis Library (a.k.a. Pandas)\n",
    "\n",
    "***\n",
    "<br>"
   ]
  },
  {
   "cell_type": "markdown",
   "id": "20556919",
   "metadata": {},
   "source": [
    "## Pandas\n",
    "\n",
    "* The name is derived from '**pan**el **da**ta', an econometrics term for data sets that contain observations from multiple periods for the same individuals.\n",
    "\n",
    "<img src=\"img/pandas-python.jpg\" style=\"width:400px\">"
   ]
  },
  {
   "cell_type": "markdown",
   "id": "b3571e2c",
   "metadata": {},
   "source": [
    "## What is Pandas?\n",
    "\n",
    "<img src=\"img/pandas-logo.png\" style=\"width:300px\">\n",
    "\n",
    "* Pandas, is one of the most powerful packages, for data analysis in Python.\n",
    "* It is a kind of swiss army knife in terms of data analysis using Python.\n",
    "* The library offers a comprehensive range of functionality, from loading data from different types of files into memory through data processing to data visualisation.\n",
    "* With Pandas we can load data, clean, modify, analyse. Everything that SQL, Excel and much more enables us to do."
   ]
  },
  {
   "cell_type": "markdown",
   "id": "b7da4670",
   "metadata": {},
   "source": [
    "## Importing the pandas library\n",
    "\n",
    "* Importing the pandas library is done in exactly the same way as for any other library.\n",
    "* In almost all examples of Python code using the pandas library, it will have been imported and given an alias of `pd`."
   ]
  },
  {
   "cell_type": "code",
   "execution_count": 1,
   "id": "b36300ac",
   "metadata": {},
   "outputs": [
    {
     "data": {
      "text/plain": [
       "'1.2.4'"
      ]
     },
     "execution_count": 1,
     "metadata": {},
     "output_type": "execute_result"
    }
   ],
   "source": [
    "import pandas as pd\n",
    "\n",
    "pd.__version__"
   ]
  },
  {
   "cell_type": "markdown",
   "id": "69f2f929",
   "metadata": {},
   "source": [
    "## Pandas data structures\n",
    "\n",
    "* There are two main data structure used by pandas, they are the **Series** and the **Dataframe**.\n",
    "* The Series equates in general to a vector or a list. As an analogy, we can compare Series objects to an Excel column.\n",
    "* The Dataframe is equivalent to a table. Each column in a pandas Dataframe is a pandas Series data structure.\n",
    "\n",
    "More details and operations on pandas data types will be presented in one of the next lessons of the course."
   ]
  },
  {
   "cell_type": "markdown",
   "id": "42c13847",
   "metadata": {},
   "source": [
    "## Reading a csv file\n",
    "\n",
    "* In pandas, csv files are read as complete datasets. You do not have to explicitly open and close the dataset.\n",
    "* All of the dataset records are assembled into a Dataframe.\n",
    "* If your dataset has column headers in the first record then these can be used as the Dataframe column names. You can explicitly state this in the parameters to the call, but pandas is usually able to infer that there ia a header row and use it automatically.\n",
    "\n",
    "\n",
    "* Lego data downloaded from rebrickable.com (sets.csv.gz file) will be used as an example.\n",
    "* The data from the `sets.csv` file will be read into the Dataframe object represented by the `df` variable.\n",
    "* The Dataframe object accessed by the `df` variable can be thought of as an Excel sheet (rows, columns or individual cells)."
   ]
  },
  {
   "cell_type": "code",
   "execution_count": 2,
   "id": "b6f811d4",
   "metadata": {},
   "outputs": [
    {
     "data": {
      "text/html": [
       "<div>\n",
       "<style scoped>\n",
       "    .dataframe tbody tr th:only-of-type {\n",
       "        vertical-align: middle;\n",
       "    }\n",
       "\n",
       "    .dataframe tbody tr th {\n",
       "        vertical-align: top;\n",
       "    }\n",
       "\n",
       "    .dataframe thead th {\n",
       "        text-align: right;\n",
       "    }\n",
       "</style>\n",
       "<table border=\"1\" class=\"dataframe\">\n",
       "  <thead>\n",
       "    <tr style=\"text-align: right;\">\n",
       "      <th></th>\n",
       "      <th>set_num</th>\n",
       "      <th>name</th>\n",
       "      <th>year</th>\n",
       "      <th>theme_id</th>\n",
       "      <th>num_parts</th>\n",
       "    </tr>\n",
       "  </thead>\n",
       "  <tbody>\n",
       "    <tr>\n",
       "      <th>0</th>\n",
       "      <td>001-1</td>\n",
       "      <td>Gears</td>\n",
       "      <td>1965</td>\n",
       "      <td>1</td>\n",
       "      <td>43</td>\n",
       "    </tr>\n",
       "    <tr>\n",
       "      <th>1</th>\n",
       "      <td>0011-2</td>\n",
       "      <td>Town Mini-Figures</td>\n",
       "      <td>1979</td>\n",
       "      <td>67</td>\n",
       "      <td>12</td>\n",
       "    </tr>\n",
       "    <tr>\n",
       "      <th>2</th>\n",
       "      <td>0011-3</td>\n",
       "      <td>Castle 2 for 1 Bonus Offer</td>\n",
       "      <td>1987</td>\n",
       "      <td>199</td>\n",
       "      <td>0</td>\n",
       "    </tr>\n",
       "    <tr>\n",
       "      <th>3</th>\n",
       "      <td>0012-1</td>\n",
       "      <td>Space Mini-Figures</td>\n",
       "      <td>1979</td>\n",
       "      <td>143</td>\n",
       "      <td>12</td>\n",
       "    </tr>\n",
       "    <tr>\n",
       "      <th>4</th>\n",
       "      <td>0013-1</td>\n",
       "      <td>Space Mini-Figures</td>\n",
       "      <td>1979</td>\n",
       "      <td>143</td>\n",
       "      <td>12</td>\n",
       "    </tr>\n",
       "    <tr>\n",
       "      <th>...</th>\n",
       "      <td>...</td>\n",
       "      <td>...</td>\n",
       "      <td>...</td>\n",
       "      <td>...</td>\n",
       "      <td>...</td>\n",
       "    </tr>\n",
       "    <tr>\n",
       "      <th>19422</th>\n",
       "      <td>XWING-1</td>\n",
       "      <td>Mini X-Wing Fighter</td>\n",
       "      <td>2019</td>\n",
       "      <td>158</td>\n",
       "      <td>60</td>\n",
       "    </tr>\n",
       "    <tr>\n",
       "      <th>19423</th>\n",
       "      <td>XWING-2</td>\n",
       "      <td>X-Wing Trench Run</td>\n",
       "      <td>2019</td>\n",
       "      <td>158</td>\n",
       "      <td>52</td>\n",
       "    </tr>\n",
       "    <tr>\n",
       "      <th>19424</th>\n",
       "      <td>YODACHRON-1</td>\n",
       "      <td>Yoda Chronicles Promotional Set</td>\n",
       "      <td>2013</td>\n",
       "      <td>158</td>\n",
       "      <td>413</td>\n",
       "    </tr>\n",
       "    <tr>\n",
       "      <th>19425</th>\n",
       "      <td>YTERRIER-1</td>\n",
       "      <td>Yorkshire Terrier</td>\n",
       "      <td>2018</td>\n",
       "      <td>598</td>\n",
       "      <td>0</td>\n",
       "    </tr>\n",
       "    <tr>\n",
       "      <th>19426</th>\n",
       "      <td>ZX8000-1</td>\n",
       "      <td>ZX 8000 LEGO Sneaker</td>\n",
       "      <td>2020</td>\n",
       "      <td>501</td>\n",
       "      <td>0</td>\n",
       "    </tr>\n",
       "  </tbody>\n",
       "</table>\n",
       "<p>19427 rows × 5 columns</p>\n",
       "</div>"
      ],
      "text/plain": [
       "           set_num                             name  year  theme_id  num_parts\n",
       "0            001-1                            Gears  1965         1         43\n",
       "1           0011-2                Town Mini-Figures  1979        67         12\n",
       "2           0011-3       Castle 2 for 1 Bonus Offer  1987       199          0\n",
       "3           0012-1               Space Mini-Figures  1979       143         12\n",
       "4           0013-1               Space Mini-Figures  1979       143         12\n",
       "...            ...                              ...   ...       ...        ...\n",
       "19422      XWING-1              Mini X-Wing Fighter  2019       158         60\n",
       "19423      XWING-2                X-Wing Trench Run  2019       158         52\n",
       "19424  YODACHRON-1  Yoda Chronicles Promotional Set  2013       158        413\n",
       "19425   YTERRIER-1                Yorkshire Terrier  2018       598          0\n",
       "19426     ZX8000-1             ZX 8000 LEGO Sneaker  2020       501          0\n",
       "\n",
       "[19427 rows x 5 columns]"
      ]
     },
     "execution_count": 2,
     "metadata": {},
     "output_type": "execute_result"
    }
   ],
   "source": [
    "df = pd.read_csv(\"data\\sets.csv\")\n",
    "\n",
    "df"
   ]
  },
  {
   "cell_type": "markdown",
   "id": "889b1576",
   "metadata": {},
   "source": [
    "#### Information about the presentation of the contents of the variable `df`\n",
    "\n",
    "* You can see the contents by simply entering the variable name.\n",
    "* You can see from the output that it is a tabular format.\n",
    "* The column names have been taken from the first record of the file.\n",
    "* On the left hand side is a column with no name.\n",
    "* The entries here have been provided by pandas and act as an index to reference the individual rows of the Dataframe.\n",
    "* Another thing to notice about the display is that it is truncated. By default you will see the first and last 5 rows. For the columns you will always get the first few columns and typically the last few depending on display space."
   ]
  },
  {
   "cell_type": "markdown",
   "id": "d727cf2e",
   "metadata": {},
   "source": [
    "## ---- Exercise ----\n",
    "\n",
    "Load the data stored in the `data\\countries.csv` file and display the Dataframe containing the loaded data."
   ]
  },
  {
   "cell_type": "code",
   "execution_count": null,
   "id": "fb3c53a5",
   "metadata": {},
   "outputs": [],
   "source": [
    "# Write your code here\n"
   ]
  }
 ],
 "metadata": {
  "kernelspec": {
   "display_name": "Python 3",
   "language": "python",
   "name": "python3"
  },
  "language_info": {
   "codemirror_mode": {
    "name": "ipython",
    "version": 3
   },
   "file_extension": ".py",
   "mimetype": "text/x-python",
   "name": "python",
   "nbconvert_exporter": "python",
   "pygments_lexer": "ipython3",
   "version": "3.9.7"
  }
 },
 "nbformat": 4,
 "nbformat_minor": 5
}
