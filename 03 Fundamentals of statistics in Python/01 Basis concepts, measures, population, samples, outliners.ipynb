{
 "cells": [
  {
   "cell_type": "markdown",
   "id": "79a800da",
   "metadata": {
    "slideshow": {
     "slide_type": "slide"
    }
   },
   "source": [
    "# Fundamentals of statistics in Python\n",
    "## Basis concepts: measures, population, samples, outliners\n",
    "\n",
    "***\n",
    "<br>"
   ]
  },
  {
   "cell_type": "markdown",
   "id": "44bb6e9f",
   "metadata": {},
   "source": [
    "## Understanding descriptive statistics\n",
    "\n",
    "* Descriptive statistics is about describing and summarizing data.\n",
    "* It uses two main approaches:\n",
    "    * The quantitative approach describes and summarizes data numerically.\n",
    "    * The visual approach illustrates data with charts, plots, histograms, and other graphs.\n",
    "* You can apply descriptive statistics to one or many datasets or variables.\n",
    "    * When you describe and summarize a single variable, you’re performing univariate analysis.\n",
    "    * When you search for statistical relationships among a pair of variables, you’re doing a bivariate analysis.\n",
    "    * Similarly, a multivariate analysis is concerned with multiple variables at once."
   ]
  },
  {
   "cell_type": "markdown",
   "id": "23b68224",
   "metadata": {},
   "source": [
    "## Types of measures\n",
    "\n",
    "* __Central tendency__\n",
    "    * Tells you about the centers of the data.\n",
    "    * Useful measures include the __mean__, __median__, and __mode__.\n",
    "* __Variability__\n",
    "    * Tells you about the spread of the data.\n",
    "    * Useful measures include __variance__ and __standard deviation__.\n",
    "* __Correlation__ or __joint variability__\n",
    "    * Tells you about the relation between a pair of variables in a dataset.\n",
    "    * Useful measures include __covariance__ and the __correlation coefficient__.\n"
   ]
  },
  {
   "cell_type": "markdown",
   "id": "3b2524f7",
   "metadata": {},
   "source": [
    "## Population and samples\n",
    "\n",
    "* The __population__ is a set of all elements or items that you’re interested in.\n",
    "* Populations are often huge, which makes them unsuitable for data collection and analysis.\n",
    "* Statisticians usually try to make some conclusions about a population by choosing and examining a representative subset of that population.\n",
    "* This subset of a population is called a __sample__.\n",
    "* Ideally, the sample should preserve the essential statistical features of the population to a satisfactory extent.\n",
    "* That way, you’ll be able to use the sample to glean conclusions about the population.\n",
    "\n",
    "<img src=\"img/population_and_sample.jpg\" style=\"width:500px\">"
   ]
  },
  {
   "cell_type": "markdown",
   "id": "84673460",
   "metadata": {},
   "source": [
    "## Outliers\n",
    "\n",
    "* An __outlier__ is a data point that differs significantly from the majority of the data taken from a sample or population.\n",
    "* There are many possible causes of outliers, but here are a few to start you off:\n",
    "    * Natural variation in data\n",
    "    * Change in the behavior of the observed system\n",
    "    * Errors in data collection\n",
    "* There isn’t a precise mathematical definition of outliers. You have to rely on experience, knowledge about the subject of interest, and common sense to determine if a data point is an outlier and how to handle it.\n",
    "\n",
    "<img src=\"img/outliner.jpg\" style=\"width:300px\">"
   ]
  },
  {
   "cell_type": "code",
   "execution_count": null,
   "id": "1d9b2e4a",
   "metadata": {},
   "outputs": [],
   "source": []
  }
 ],
 "metadata": {
  "kernelspec": {
   "display_name": "Python 3",
   "language": "python",
   "name": "python3"
  },
  "language_info": {
   "codemirror_mode": {
    "name": "ipython",
    "version": 3
   },
   "file_extension": ".py",
   "mimetype": "text/x-python",
   "name": "python",
   "nbconvert_exporter": "python",
   "pygments_lexer": "ipython3",
   "version": "3.9.7"
  }
 },
 "nbformat": 4,
 "nbformat_minor": 5
}
