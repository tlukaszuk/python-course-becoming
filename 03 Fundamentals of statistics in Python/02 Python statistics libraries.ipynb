{
 "cells": [
  {
   "cell_type": "markdown",
   "id": "79a800da",
   "metadata": {
    "slideshow": {
     "slide_type": "slide"
    }
   },
   "source": [
    "# Fundamentals of statistics in Python\n",
    "## Python statistics libraries\n",
    "\n",
    "***\n",
    "<br>"
   ]
  },
  {
   "cell_type": "markdown",
   "id": "0d5bd199",
   "metadata": {},
   "source": [
    "## Wide range of Python statistics libraries\n",
    "\n",
    "* There are many Python statistics libraries out there for you to work with.\n",
    "* In this cours, you’ll be learning about some of the most popular and widely used ones.\n",
    "* In this lesson libraries will only be introduced, while the use of libraries will be presented in the next two lessons."
   ]
  },
  {
   "cell_type": "markdown",
   "id": "22f3e816",
   "metadata": {},
   "source": [
    "## Statistics - built-in Python library\n",
    "\n",
    "<img src=\"img/statistics-logo.png\" style=\"width:250px\">\n",
    "\n",
    "* Built-in (from python standart library) Python library for descriptive statistics.\n",
    "* You can use it if your datasets are not too large or if you can’t rely on importing other libraries.\n",
    "* The module provides functions for calculating mathematical statistics of numeric (Real-valued) data."
   ]
  },
  {
   "cell_type": "markdown",
   "id": "da19e4a0",
   "metadata": {},
   "source": [
    "## NumPy\n",
    "\n",
    "<img src=\"img/numpy-logo.png\" style=\"width:300px\">\n",
    "\n",
    "* NumPy is a third-party library for numerical computing, optimized for working with single- and multi-dimensional arrays.\n",
    "* Its primary type is the array type called `ndarray`.\n",
    "* This library contains many routines for statistical analysis."
   ]
  },
  {
   "cell_type": "markdown",
   "id": "8c2cd0bf",
   "metadata": {},
   "source": [
    "## SciPy\n",
    "\n",
    "<img src=\"img/scipy-logo.png\" style=\"width:250px\">\n",
    "\n",
    "* SciPy is a third-party library for scientific computing based on NumPy.\n",
    "* It offers additional functionality compared to NumPy, including `scipy.stats` for statistical analysis."
   ]
  },
  {
   "cell_type": "markdown",
   "id": "023f66e4",
   "metadata": {},
   "source": [
    "## Pandas\n",
    "\n",
    "<img src=\"img/pandas-logo.svg\" style=\"width:250px\">\n",
    "\n",
    "* Pandas is a third-party library for numerical computing based on NumPy.\n",
    "* It excels in handling labeled one-dimensional (1D) data with `Series` objects and two-dimensional (2D) data with `DataFrame` objects.\n",
    "* The Pandas library is presented in quite some detail in part two of this course."
   ]
  },
  {
   "cell_type": "markdown",
   "id": "02fa8aac",
   "metadata": {},
   "source": [
    "## Matplotlib\n",
    "\n",
    "<img src=\"img/matplotlib-logo.svg\" style=\"width:250px\">\n",
    "\n",
    "* Matplotlib is a third-party library for data visualization.\n",
    "* It works well in combination with NumPy, SciPy, and Pandas.\n",
    "* More details on the matlibplot library are presented in part four of this course."
   ]
  },
  {
   "cell_type": "code",
   "execution_count": null,
   "id": "a1ec085f",
   "metadata": {},
   "outputs": [],
   "source": []
  }
 ],
 "metadata": {
  "kernelspec": {
   "display_name": "Python 3",
   "language": "python",
   "name": "python3"
  },
  "language_info": {
   "codemirror_mode": {
    "name": "ipython",
    "version": 3
   },
   "file_extension": ".py",
   "mimetype": "text/x-python",
   "name": "python",
   "nbconvert_exporter": "python",
   "pygments_lexer": "ipython3",
   "version": "3.9.7"
  }
 },
 "nbformat": 4,
 "nbformat_minor": 5
}
