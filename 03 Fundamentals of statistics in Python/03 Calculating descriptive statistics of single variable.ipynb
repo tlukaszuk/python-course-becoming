{
 "cells": [
  {
   "cell_type": "markdown",
   "id": "79a800da",
   "metadata": {
    "slideshow": {
     "slide_type": "slide"
    }
   },
   "source": [
    "# Fundamentals of statistics in Python\n",
    "## Calculating descriptive statistics of single variable\n",
    "\n",
    "***\n",
    "<br>"
   ]
  },
  {
   "cell_type": "markdown",
   "id": "e719ef39",
   "metadata": {},
   "source": [
    "## Preparation of the working environment\n",
    "\n",
    "1. Importing the statistics packages"
   ]
  },
  {
   "cell_type": "code",
   "execution_count": 1,
   "id": "087b9ebb",
   "metadata": {},
   "outputs": [],
   "source": [
    "import math\n",
    "import statistics\n",
    "import numpy as np\n",
    "import scipy.stats\n",
    "import pandas as pd"
   ]
  },
  {
   "cell_type": "markdown",
   "id": "ed8e6774",
   "metadata": {},
   "source": [
    "2. Creation of some data to work with\n",
    "* Lists `x` and `x_with_nan` almost the same, with the difference `that x_with_nan` contains a `nan` value. It’s important to understand the behavior of the Python statistics routines when they come across a not-a-number value (`nan`)."
   ]
  },
  {
   "cell_type": "code",
   "execution_count": 2,
   "id": "c7fef8e0",
   "metadata": {},
   "outputs": [],
   "source": [
    "x = [8.0, 1, 2.5, 4, 28.0]\n",
    "x_with_nan = [8.0, 1, 2.5, math.nan, 4, 28.0]"
   ]
  },
  {
   "cell_type": "markdown",
   "id": "2e545544",
   "metadata": {},
   "source": [
    "3. Creation of `np.ndarray` and `pd.Series` objects that correspond to `x` and `x_with_nan`"
   ]
  },
  {
   "cell_type": "code",
   "execution_count": 3,
   "id": "4ab27fcd",
   "metadata": {},
   "outputs": [],
   "source": [
    "y, y_with_nan = np.array(x), np.array(x_with_nan)\n",
    "z, z_with_nan = pd.Series(x), pd.Series(x_with_nan)"
   ]
  },
  {
   "cell_type": "markdown",
   "id": "ad947503",
   "metadata": {},
   "source": [
    "## Measures of central tendency\n",
    "\n",
    "* The measures of central tendency show the central or middle values of datasets. "
   ]
  },
  {
   "cell_type": "markdown",
   "id": "3817f6c5",
   "metadata": {},
   "source": [
    "#### Mean\n",
    "\n",
    "* The __sample mean__, are also called the __sample arithmetic mean__ or simply the __average__.\n",
    "* It is the arithmetic average of all the items in a dataset.\n",
    "* In other words, it’s the sum of all the elements form dataset divided by the number of items in the dataset.\n",
    "* You can calculate the mean with pure Python using `sum()` and `len()` or using a function from one of the libraries."
   ]
  },
  {
   "cell_type": "code",
   "execution_count": 4,
   "id": "261f0ce4",
   "metadata": {},
   "outputs": [
    {
     "name": "stdout",
     "output_type": "stream",
     "text": [
      "8.7\n"
     ]
    }
   ],
   "source": [
    "pure_mean = sum(x)/len(x)\n",
    "print(pure_mean)"
   ]
  },
  {
   "cell_type": "code",
   "execution_count": 5,
   "id": "113a9caa",
   "metadata": {},
   "outputs": [
    {
     "name": "stdout",
     "output_type": "stream",
     "text": [
      "8.7\n"
     ]
    }
   ],
   "source": [
    "st_mean = statistics.mean(x)\n",
    "print(st_mean)"
   ]
  },
  {
   "cell_type": "code",
   "execution_count": 6,
   "id": "35354ca8",
   "metadata": {},
   "outputs": [
    {
     "name": "stdout",
     "output_type": "stream",
     "text": [
      "8.7\n"
     ]
    }
   ],
   "source": [
    "np_mean = np.mean(y)\n",
    "print(np_mean)"
   ]
  },
  {
   "cell_type": "code",
   "execution_count": 7,
   "id": "01d49759",
   "metadata": {},
   "outputs": [
    {
     "name": "stdout",
     "output_type": "stream",
     "text": [
      "8.7\n"
     ]
    }
   ],
   "source": [
    "pd_mean = z.mean()\n",
    "print(pd_mean)"
   ]
  },
  {
   "cell_type": "markdown",
   "id": "7e090472",
   "metadata": {},
   "source": [
    "* What about a dataset containing `nan`?\n",
    "    * `statistics` package does not return a valid result\n",
    "    * in the `numpy` package we find a special function which takes into account the presence of `nan`s\n",
    "    * `pandas` takes into account the possibility of `nan`s by default"
   ]
  },
  {
   "cell_type": "code",
   "execution_count": 8,
   "id": "4733f442",
   "metadata": {},
   "outputs": [
    {
     "data": {
      "text/plain": [
       "nan"
      ]
     },
     "execution_count": 8,
     "metadata": {},
     "output_type": "execute_result"
    }
   ],
   "source": [
    "statistics.mean(x_with_nan)"
   ]
  },
  {
   "cell_type": "code",
   "execution_count": 9,
   "id": "9304e59f",
   "metadata": {},
   "outputs": [
    {
     "data": {
      "text/plain": [
       "nan"
      ]
     },
     "execution_count": 9,
     "metadata": {},
     "output_type": "execute_result"
    }
   ],
   "source": [
    "np.mean(y_with_nan)"
   ]
  },
  {
   "cell_type": "code",
   "execution_count": 10,
   "id": "6e5a9365",
   "metadata": {},
   "outputs": [
    {
     "data": {
      "text/plain": [
       "8.7"
      ]
     },
     "execution_count": 10,
     "metadata": {},
     "output_type": "execute_result"
    }
   ],
   "source": [
    "np.nanmean(y_with_nan)"
   ]
  },
  {
   "cell_type": "code",
   "execution_count": 11,
   "id": "91c38cb1",
   "metadata": {},
   "outputs": [
    {
     "data": {
      "text/plain": [
       "8.7"
      ]
     },
     "execution_count": 11,
     "metadata": {},
     "output_type": "execute_result"
    }
   ],
   "source": [
    "z_with_nan.mean()"
   ]
  },
  {
   "cell_type": "markdown",
   "id": "0b6d699a",
   "metadata": {},
   "source": [
    "#### Weighted mean\n",
    "\n",
    "* The __weighted mean__, are also called the __weighted arithmetic mean__ or __weighted average__.\n",
    "* It is a generalization of the arithmetic mean that enables you to define the relative contribution of each data point to the result."
   ]
  },
  {
   "cell_type": "code",
   "execution_count": 12,
   "id": "f6805413",
   "metadata": {},
   "outputs": [
    {
     "name": "stdout",
     "output_type": "stream",
     "text": [
      "6.95\n"
     ]
    }
   ],
   "source": [
    "x = [8.0, 1, 2.5, 4, 28.0]\n",
    "weights = [0.1, 0.2, 0.3, 0.25, 0.15]\n",
    "\n",
    "wmean = sum(x_ * w_ for (x_, w_) in zip(x, weights)) / sum(weights)\n",
    "print(wmean)"
   ]
  },
  {
   "cell_type": "code",
   "execution_count": 13,
   "id": "46c35754",
   "metadata": {},
   "outputs": [
    {
     "name": "stdout",
     "output_type": "stream",
     "text": [
      "6.95\n"
     ]
    }
   ],
   "source": [
    "y, z, weights = np.array(x), pd.Series(x), np.array(weights)\n",
    "\n",
    "wmean = np.average(y, weights=weights)\n",
    "print(wmean)"
   ]
  },
  {
   "cell_type": "markdown",
   "id": "ed6c35ba",
   "metadata": {},
   "source": [
    "#### Harmonic mean\n",
    "\n",
    "* The __harmonic mean__ is the reciprocal of the mean of the reciprocals of all items in the dataset."
   ]
  },
  {
   "cell_type": "code",
   "execution_count": 14,
   "id": "77331c87",
   "metadata": {},
   "outputs": [
    {
     "name": "stdout",
     "output_type": "stream",
     "text": [
      "2.7613412228796843\n"
     ]
    }
   ],
   "source": [
    "hmean = len(x) / sum(1 / item for item in x)\n",
    "print(hmean)"
   ]
  },
  {
   "cell_type": "code",
   "execution_count": 15,
   "id": "8ccd0ebd",
   "metadata": {},
   "outputs": [
    {
     "name": "stdout",
     "output_type": "stream",
     "text": [
      "2.7613412228796843\n"
     ]
    }
   ],
   "source": [
    "hmean = statistics.harmonic_mean(x)\n",
    "print(hmean)"
   ]
  },
  {
   "cell_type": "code",
   "execution_count": 16,
   "id": "80ff37c1",
   "metadata": {},
   "outputs": [
    {
     "data": {
      "text/plain": [
       "(2.7613412228796843, 2.7613412228796843)"
      ]
     },
     "execution_count": 16,
     "metadata": {},
     "output_type": "execute_result"
    }
   ],
   "source": [
    "scipy.stats.hmean(y), scipy.stats.hmean(z)"
   ]
  },
  {
   "cell_type": "markdown",
   "id": "615bda79",
   "metadata": {},
   "source": [
    "#### Geometric mean\n",
    "\n",
    "* The __geometric mean__ is the 𝑛-th root of the product of all elements in a dataset. "
   ]
  },
  {
   "cell_type": "code",
   "execution_count": 17,
   "id": "301f18f5",
   "metadata": {},
   "outputs": [
    {
     "name": "stdout",
     "output_type": "stream",
     "text": [
      "4.677885674856041\n"
     ]
    }
   ],
   "source": [
    "gmean = 1\n",
    "for item in x:\n",
    "    gmean *= item\n",
    "gmean **= 1 / len(x)\n",
    "print(gmean)"
   ]
  },
  {
   "cell_type": "code",
   "execution_count": 18,
   "id": "fb2c327c",
   "metadata": {},
   "outputs": [
    {
     "name": "stdout",
     "output_type": "stream",
     "text": [
      "4.67788567485604\n"
     ]
    }
   ],
   "source": [
    "gmean = statistics.geometric_mean(x)\n",
    "print(gmean)"
   ]
  },
  {
   "cell_type": "code",
   "execution_count": 19,
   "id": "0db43b2e",
   "metadata": {},
   "outputs": [
    {
     "data": {
      "text/plain": [
       "(4.67788567485604, 4.67788567485604)"
      ]
     },
     "execution_count": 19,
     "metadata": {},
     "output_type": "execute_result"
    }
   ],
   "source": [
    "scipy.stats.gmean(y), scipy.stats.gmean(z)"
   ]
  },
  {
   "cell_type": "markdown",
   "id": "61b8c4a6",
   "metadata": {},
   "source": [
    "#### Median\n",
    "\n",
    "* The __sample median__ is the middle element of a sorted dataset.\n",
    "* The dataset can be sorted in increasing or decreasing order.\n",
    "* If the number of elements of the dataset is odd, then the median is the value at the middle position.\n",
    "* If the number of elements of the datasetis  even, then the median is the arithmetic mean of the two values in the middle."
   ]
  },
  {
   "cell_type": "code",
   "execution_count": 20,
   "id": "f7b04607",
   "metadata": {},
   "outputs": [
    {
     "name": "stdout",
     "output_type": "stream",
     "text": [
      "4\n"
     ]
    }
   ],
   "source": [
    "n = len(x)\n",
    "if n % 2:\n",
    "    pure_median = sorted(x)[round(0.5*(n-1))]\n",
    "else:\n",
    "    x_ord, index = sorted(x), round(0.5 * n)\n",
    "    pure_median = 0.5 * (x_ord[index-1] + x_ord[index])\n",
    "print(pure_median)"
   ]
  },
  {
   "cell_type": "code",
   "execution_count": 21,
   "id": "bc5006a6",
   "metadata": {},
   "outputs": [
    {
     "name": "stdout",
     "output_type": "stream",
     "text": [
      "4\n"
     ]
    }
   ],
   "source": [
    "st_median = statistics.median(x)\n",
    "print(st_median)"
   ]
  },
  {
   "cell_type": "code",
   "execution_count": 22,
   "id": "b46f4821",
   "metadata": {},
   "outputs": [
    {
     "data": {
      "text/plain": [
       "4.0"
      ]
     },
     "execution_count": 22,
     "metadata": {},
     "output_type": "execute_result"
    }
   ],
   "source": [
    "np.median(y)"
   ]
  },
  {
   "cell_type": "code",
   "execution_count": 23,
   "id": "9a71502a",
   "metadata": {},
   "outputs": [
    {
     "data": {
      "text/plain": [
       "4.0"
      ]
     },
     "execution_count": 23,
     "metadata": {},
     "output_type": "execute_result"
    }
   ],
   "source": [
    "z.median()"
   ]
  },
  {
   "cell_type": "markdown",
   "id": "f97dc0bf",
   "metadata": {},
   "source": [
    "* `median_low()` and `median_high()` are two more functions related to the median in the Python `statistics` library.\n",
    "* They always return an element from the dataset:\n",
    "    * If the number of elements is odd, then there’s a single middle value, so these functions behave just like `median()`.\n",
    "    * If the number of elements is even, then there are two middle values. In this case, `median_low()` returns the lower and `median_high()` the higher middle value."
   ]
  },
  {
   "cell_type": "code",
   "execution_count": 24,
   "id": "6dcb91a8",
   "metadata": {},
   "outputs": [
    {
     "data": {
      "text/plain": [
       "(2.5, 4)"
      ]
     },
     "execution_count": 24,
     "metadata": {},
     "output_type": "execute_result"
    }
   ],
   "source": [
    "statistics.median_low(x[:-1]), statistics.median_high(x[:-1])"
   ]
  },
  {
   "cell_type": "markdown",
   "id": "0aaeed8d",
   "metadata": {},
   "source": [
    "#### Mode\n",
    "\n",
    "* The __sample mode__ is the value in the dataset that occurs most frequently.\n",
    "* If there isn’t a single such value, then the set is multimodal since it has multiple modal values."
   ]
  },
  {
   "cell_type": "code",
   "execution_count": 25,
   "id": "00db869e",
   "metadata": {},
   "outputs": [
    {
     "name": "stdout",
     "output_type": "stream",
     "text": [
      "2\n"
     ]
    }
   ],
   "source": [
    "u = [2, 3, 2, 8, 12]\n",
    "pure_mode = max((u.count(item), item) for item in set(u))[1]\n",
    "print(pure_mode)"
   ]
  },
  {
   "cell_type": "code",
   "execution_count": 26,
   "id": "aaa125b3",
   "metadata": {},
   "outputs": [
    {
     "data": {
      "text/plain": [
       "2"
      ]
     },
     "execution_count": 26,
     "metadata": {},
     "output_type": "execute_result"
    }
   ],
   "source": [
    "statistics.mode(u)"
   ]
  },
  {
   "cell_type": "code",
   "execution_count": 27,
   "id": "34d6a781",
   "metadata": {},
   "outputs": [
    {
     "data": {
      "text/plain": [
       "[2]"
      ]
     },
     "execution_count": 27,
     "metadata": {},
     "output_type": "execute_result"
    }
   ],
   "source": [
    "statistics.multimode(u)"
   ]
  },
  {
   "cell_type": "code",
   "execution_count": 28,
   "id": "8fa2cb17",
   "metadata": {},
   "outputs": [
    {
     "data": {
      "text/plain": [
       "[12, 15]"
      ]
     },
     "execution_count": 28,
     "metadata": {},
     "output_type": "execute_result"
    }
   ],
   "source": [
    "v = [12, 15, 12, 15, 21, 15, 12]\n",
    "#statistics.mode(v) raises StatisticsError\n",
    "statistics.multimode(v)"
   ]
  },
  {
   "cell_type": "code",
   "execution_count": 29,
   "id": "88a909f0",
   "metadata": {},
   "outputs": [
    {
     "data": {
      "text/plain": [
       "ModeResult(mode=array([2]), count=array([2]))"
      ]
     },
     "execution_count": 29,
     "metadata": {},
     "output_type": "execute_result"
    }
   ],
   "source": [
    "u, v = np.array(u), np.array(v)\n",
    "scipy.stats.mode(u)"
   ]
  },
  {
   "cell_type": "code",
   "execution_count": 30,
   "id": "b8a21577",
   "metadata": {},
   "outputs": [
    {
     "data": {
      "text/plain": [
       "ModeResult(mode=array([12]), count=array([3]))"
      ]
     },
     "execution_count": 30,
     "metadata": {},
     "output_type": "execute_result"
    }
   ],
   "source": [
    "# If there are multiple modal values in the dataset, then only the smallest value is returned.\n",
    "scipy.stats.mode(v)"
   ]
  },
  {
   "cell_type": "markdown",
   "id": "45d5fa22",
   "metadata": {},
   "source": [
    "## Measures of variability\n",
    "\n",
    "* The measures of central tendency aren’t sufficient to describe data.\n",
    "* You’ll also need the measures of variability that quantify the spread of data points."
   ]
  },
  {
   "cell_type": "markdown",
   "id": "54f4aad0",
   "metadata": {},
   "source": [
    "#### Variance\n",
    "\n",
    "* The __sample variance__ quantifies the spread of the data.\n",
    "* It shows numerically how far the data points are from the mean."
   ]
  },
  {
   "cell_type": "code",
   "execution_count": 31,
   "id": "1152aa31",
   "metadata": {},
   "outputs": [
    {
     "name": "stdout",
     "output_type": "stream",
     "text": [
      "123.19999999999999\n"
     ]
    }
   ],
   "source": [
    "n = len(x)\n",
    "pure_mean = sum(x) / n\n",
    "pure_var = sum((item - pure_mean)**2 for item in x) / (n - 1)\n",
    "print(pure_var)"
   ]
  },
  {
   "cell_type": "code",
   "execution_count": 32,
   "id": "7d74bcf9",
   "metadata": {},
   "outputs": [
    {
     "data": {
      "text/plain": [
       "123.2"
      ]
     },
     "execution_count": 32,
     "metadata": {},
     "output_type": "execute_result"
    }
   ],
   "source": [
    "statistics.variance(x)"
   ]
  },
  {
   "cell_type": "code",
   "execution_count": 33,
   "id": "a9047663",
   "metadata": {},
   "outputs": [
    {
     "data": {
      "text/plain": [
       "123.19999999999999"
      ]
     },
     "execution_count": 33,
     "metadata": {},
     "output_type": "execute_result"
    }
   ],
   "source": [
    "np.var(y, ddof=1)"
   ]
  },
  {
   "cell_type": "markdown",
   "id": "e6cf931d",
   "metadata": {},
   "source": [
    "* It’s very important to specify the parameter `ddof=1` in `np.var` function. That’s how you set the __delta degrees of freedom__ to 1. This parameter allows the proper calculation of variance, with `(𝑛 − 1)` in the denominator instead of `𝑛`."
   ]
  },
  {
   "cell_type": "code",
   "execution_count": 34,
   "id": "fed48063",
   "metadata": {},
   "outputs": [
    {
     "data": {
      "text/plain": [
       "123.19999999999999"
      ]
     },
     "execution_count": 34,
     "metadata": {},
     "output_type": "execute_result"
    }
   ],
   "source": [
    "z.var(ddof=1)"
   ]
  },
  {
   "cell_type": "markdown",
   "id": "99ccdbbe",
   "metadata": {},
   "source": [
    "#### Standard Deviation\n",
    "\n",
    "* The __sample standard deviation__ is another measure of data spread.\n",
    "* It’s connected to the sample variance, as standard deviation, is the positive square root of the sample variance.\n",
    "* The standard deviation is often more convenient than the variance because it has the same unit as the data points."
   ]
  },
  {
   "cell_type": "code",
   "execution_count": 35,
   "id": "edf9ac16",
   "metadata": {},
   "outputs": [
    {
     "name": "stdout",
     "output_type": "stream",
     "text": [
      "11.099549540409285\n"
     ]
    }
   ],
   "source": [
    "pure_std = pure_var**0.5\n",
    "print(pure_std)"
   ]
  },
  {
   "cell_type": "code",
   "execution_count": 36,
   "id": "13abdcd2",
   "metadata": {},
   "outputs": [
    {
     "data": {
      "text/plain": [
       "11.099549540409287"
      ]
     },
     "execution_count": 36,
     "metadata": {},
     "output_type": "execute_result"
    }
   ],
   "source": [
    "statistics.stdev(x)"
   ]
  },
  {
   "cell_type": "code",
   "execution_count": 37,
   "id": "e5efcd61",
   "metadata": {},
   "outputs": [
    {
     "data": {
      "text/plain": [
       "11.099549540409285"
      ]
     },
     "execution_count": 37,
     "metadata": {},
     "output_type": "execute_result"
    }
   ],
   "source": [
    "np.std(y, ddof=1)"
   ]
  },
  {
   "cell_type": "code",
   "execution_count": 38,
   "id": "428b8509",
   "metadata": {},
   "outputs": [
    {
     "data": {
      "text/plain": [
       "11.099549540409285"
      ]
     },
     "execution_count": 38,
     "metadata": {},
     "output_type": "execute_result"
    }
   ],
   "source": [
    "z.std(ddof=1)"
   ]
  },
  {
   "cell_type": "markdown",
   "id": "2c545d34",
   "metadata": {},
   "source": [
    "#### Percentiles\n",
    "\n",
    "* The sample `𝑝` __percentile__ is the element in the dataset such that `𝑝%` of the elements in the dataset are less than or equal to that value. Also, `(100 − 𝑝)%` of the elements are greater than or equal to that value.\n",
    "* If there are two such elements in the dataset, then the sample `𝑝` percentile is their arithmetic mean.\n",
    "* Each dataset has three __quartiles__, which are the percentiles that divide the dataset into four parts."
   ]
  },
  {
   "cell_type": "code",
   "execution_count": 39,
   "id": "67091a04",
   "metadata": {},
   "outputs": [
    {
     "data": {
      "text/plain": [
       "[8.0]"
      ]
     },
     "execution_count": 39,
     "metadata": {},
     "output_type": "execute_result"
    }
   ],
   "source": [
    "x = [-5.0, -1.1, 0.1, 2.0, 8.0, 12.8, 21.0, 25.8, 41.0]\n",
    "statistics.quantiles(x, n=2)"
   ]
  },
  {
   "cell_type": "code",
   "execution_count": 40,
   "id": "1160d70b",
   "metadata": {},
   "outputs": [
    {
     "data": {
      "text/plain": [
       "[0.1, 8.0, 21.0]"
      ]
     },
     "execution_count": 40,
     "metadata": {},
     "output_type": "execute_result"
    }
   ],
   "source": [
    "statistics.quantiles(x, n=4, method='inclusive')"
   ]
  },
  {
   "cell_type": "code",
   "execution_count": 41,
   "id": "d7c12a71",
   "metadata": {},
   "outputs": [
    {
     "data": {
      "text/plain": [
       "(-3.44, 34.919999999999995)"
      ]
     },
     "execution_count": 41,
     "metadata": {},
     "output_type": "execute_result"
    }
   ],
   "source": [
    "y = np.array(x)\n",
    "np.percentile(y, 5), np.percentile(y, 95)"
   ]
  },
  {
   "cell_type": "code",
   "execution_count": 42,
   "id": "2fa4fb4a",
   "metadata": {},
   "outputs": [
    {
     "data": {
      "text/plain": [
       "array([ 0.1,  8. , 21. ])"
      ]
     },
     "execution_count": 42,
     "metadata": {},
     "output_type": "execute_result"
    }
   ],
   "source": [
    "np.percentile(y, [25, 50, 75])"
   ]
  },
  {
   "cell_type": "code",
   "execution_count": 43,
   "id": "e7aafc9b",
   "metadata": {},
   "outputs": [
    {
     "data": {
      "text/plain": [
       "array([ 0.1,  8. , 21. ])"
      ]
     },
     "execution_count": 43,
     "metadata": {},
     "output_type": "execute_result"
    }
   ],
   "source": [
    "np.quantile(y, [0.25, 0.5, 0.75])"
   ]
  },
  {
   "cell_type": "code",
   "execution_count": 44,
   "id": "3189f9e6",
   "metadata": {},
   "outputs": [
    {
     "data": {
      "text/plain": [
       "0.25     0.1\n",
       "0.50     8.0\n",
       "0.75    21.0\n",
       "dtype: float64"
      ]
     },
     "execution_count": 44,
     "metadata": {},
     "output_type": "execute_result"
    }
   ],
   "source": [
    "z = pd.Series(y)\n",
    "z.quantile([0.25, 0.5, 0.75])"
   ]
  },
  {
   "cell_type": "markdown",
   "id": "7da7d84f",
   "metadata": {},
   "source": [
    "#### Ranges\n",
    "\n",
    "* The __range of data__ is the difference between the maximum and minimum element in the dataset.\n",
    "* The interquartile range is the difference between the first and third quartile."
   ]
  },
  {
   "cell_type": "code",
   "execution_count": 45,
   "id": "a949d818",
   "metadata": {},
   "outputs": [
    {
     "data": {
      "text/plain": [
       "46.0"
      ]
     },
     "execution_count": 45,
     "metadata": {},
     "output_type": "execute_result"
    }
   ],
   "source": [
    "np.ptp(y)"
   ]
  },
  {
   "cell_type": "code",
   "execution_count": 46,
   "id": "795e8ab6",
   "metadata": {},
   "outputs": [
    {
     "data": {
      "text/plain": [
       "46.0"
      ]
     },
     "execution_count": 46,
     "metadata": {},
     "output_type": "execute_result"
    }
   ],
   "source": [
    "y.max() - y.min()"
   ]
  },
  {
   "cell_type": "code",
   "execution_count": 47,
   "id": "b64704e2",
   "metadata": {},
   "outputs": [
    {
     "data": {
      "text/plain": [
       "20.9"
      ]
     },
     "execution_count": 47,
     "metadata": {},
     "output_type": "execute_result"
    }
   ],
   "source": [
    "quartiles = np.quantile(y, [0.25, 0.75])\n",
    "quartiles[1] - quartiles[0]"
   ]
  },
  {
   "cell_type": "markdown",
   "id": "f3e18533",
   "metadata": {},
   "source": [
    "## --- Exercise ---\n",
    "\n",
    "Using the appropriate functions from the `numpy` library, determine the values of the arithmetic mean, median, quartiles, variance and standard deviation for the given sample of data."
   ]
  },
  {
   "cell_type": "code",
   "execution_count": null,
   "id": "9a7939b7",
   "metadata": {},
   "outputs": [],
   "source": [
    "import numpy as np\n",
    "\n",
    "data_sameple = np.array([10, 15, 17, 90, 9.5, 12.7, 13.2, 88])\n",
    "\n",
    "# write your code here"
   ]
  }
 ],
 "metadata": {
  "kernelspec": {
   "display_name": "Python 3",
   "language": "python",
   "name": "python3"
  },
  "language_info": {
   "codemirror_mode": {
    "name": "ipython",
    "version": 3
   },
   "file_extension": ".py",
   "mimetype": "text/x-python",
   "name": "python",
   "nbconvert_exporter": "python",
   "pygments_lexer": "ipython3",
   "version": "3.9.7"
  }
 },
 "nbformat": 4,
 "nbformat_minor": 5
}
