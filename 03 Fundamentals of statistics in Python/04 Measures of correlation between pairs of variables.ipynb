{
 "cells": [
  {
   "cell_type": "markdown",
   "id": "79a800da",
   "metadata": {
    "slideshow": {
     "slide_type": "slide"
    }
   },
   "source": [
    "# Fundamentals of statistics in Python\n",
    "## Measures of correlation between pairs of variables\n",
    "\n",
    "***\n",
    "<br>"
   ]
  },
  {
   "cell_type": "markdown",
   "id": "4dda5eb1",
   "metadata": {},
   "source": [
    "## Relationship between the elements of two variables\n",
    "\n",
    "* The relationship between the corresponding elements of two variables in a data set is called a __correlation__.\n",
    "* Say there are two variables, $𝑥$ and $𝑦$, with an equal number of elements, $𝑛$. Let $𝑥_1$ from $𝑥$ correspond to $𝑦_1$ from $𝑦$, $𝑥_2$ from $𝑥$ to $𝑦_2$ from $𝑦$, and so on. You can then say that there are $𝑛$ pairs of corresponding elements: $(𝑥_1, 𝑦_1)$, $(𝑥_2, 𝑦_2)$, and so on.\n",
    "* We can speak of the following types of correlation between pairs of variables: \n",
    "    * __Positive correlation__ exists when larger values of $𝑥$ correspond to larger values of $𝑦$ and vice versa.\n",
    "    * __Negative correlation__ exists when larger values of $𝑥$ correspond to smaller values of $𝑦$ and vice versa.\n",
    "    * __Weak or no correlation__ exists if there is no such apparent relationship.\n",
    "\n",
    "<img src=\"img/correlations.png\" style=\"width:700px\">"
   ]
  },
  {
   "cell_type": "markdown",
   "id": "ec9bec32",
   "metadata": {},
   "source": [
    "## Covariance\n",
    "\n",
    "* The __sample covariance__ is a measure that quantifies the strength and direction of a relationship between a pair of variables.\n",
    "* If the correlation is positive, then the covariance is positive, as well. A stronger relationship corresponds to a higher value of the covariance.\n",
    "* If the correlation is negative, then the covariance is negative, as well. A stronger relationship corresponds to a lower (or higher absolute) value of the covariance.\n",
    "* If the correlation is weak, then the covariance is close to zero.\n",
    "* The covariance of the variables $x$ and $y$ is mathematically defined as $s^{xy} = \\frac{\\sum_{i} (x_i − mean(x))*(y_i − mean(y))}{n − 1}$, where $i = 1,2,...,n$.\n",
    "* The covariance of two identical variables is actually the variance."
   ]
  },
  {
   "cell_type": "code",
   "execution_count": 2,
   "id": "7f2c448f",
   "metadata": {},
   "outputs": [
    {
     "name": "stdout",
     "output_type": "stream",
     "text": [
      "19.95\n"
     ]
    }
   ],
   "source": [
    "x = list(range(-10, 11))\n",
    "y = [0, 2, 2, 2, 2, 3, 3, 6, 7, 4, 7, 6, 6, 9, 4, 5, 5, 10, 11, 12, 14]\n",
    "\n",
    "n = len(x)\n",
    "mean_x, mean_y = sum(x) / n, sum(y) / n\n",
    "cov_xy = sum((x[k] - mean_x) * (y[k] - mean_y) for k in range(n)) / (n - 1)\n",
    "print(cov_xy)"
   ]
  },
  {
   "cell_type": "markdown",
   "id": "9846eea1",
   "metadata": {},
   "source": [
    "* NumPy has the function `cov()` that returns the covariance matrix"
   ]
  },
  {
   "cell_type": "code",
   "execution_count": 3,
   "id": "305793ec",
   "metadata": {},
   "outputs": [
    {
     "name": "stdout",
     "output_type": "stream",
     "text": [
      "[[38.5        19.95      ]\n",
      " [19.95       13.91428571]]\n",
      "19.95\n"
     ]
    }
   ],
   "source": [
    "import numpy as np\n",
    "\n",
    "cov_matrix = np.cov(x, y)\n",
    "print(cov_matrix)\n",
    "\n",
    "cov_xy = cov_matrix[0, 1]\n",
    "print(cov_xy)"
   ]
  },
  {
   "cell_type": "markdown",
   "id": "cd8dfbb9",
   "metadata": {},
   "source": [
    "* Pandas `Series` have the method `.cov()` that you can use to calculate the covariance"
   ]
  },
  {
   "cell_type": "code",
   "execution_count": 4,
   "id": "adc080f4",
   "metadata": {},
   "outputs": [
    {
     "name": "stdout",
     "output_type": "stream",
     "text": [
      "19.95\n"
     ]
    }
   ],
   "source": [
    "import pandas as pd\n",
    "\n",
    "x_, y_ = pd.Series(x), pd.Series(y)\n",
    "\n",
    "cov_xy = x_.cov(y_)\n",
    "print(cov_xy)"
   ]
  },
  {
   "cell_type": "markdown",
   "id": "dd8c7601",
   "metadata": {},
   "source": [
    "## Correlation coefficient\n",
    "\n",
    "* The __correlation coefficient__, or __Pearson product-moment correlation coefficient__ is another measure of the correlation between data.\n",
    "* You can think of it as a standardized covariance.\n",
    "* Correlation coefficientis is denoted by the symbol $r$.\n",
    "* The value $r > 0$ indicates positive correlation.\n",
    "* The value $r < 0$ indicates negative correlation.\n",
    "* The value $r = 1$ is the maximum possible value of $𝑟$. It corresponds to a perfect positive linear relationship between variables.\n",
    "* The value $r = −1$ is the minimum possible value of $𝑟$. It corresponds to a perfect negative linear relationship between variables.\n",
    "* The value $r \\approx 0$, or when $𝑟$ is around zero, means that the correlation between variables is weak.\n",
    "* The mathematical formula for the correlation coefficient is $r = \\frac{s^{xy}}{s^x s^y}$ where $s^x$ and $s^y$ are the standard deviations of $x$ and $y$ respectively."
   ]
  },
  {
   "cell_type": "code",
   "execution_count": 5,
   "id": "1e833794",
   "metadata": {},
   "outputs": [
    {
     "name": "stdout",
     "output_type": "stream",
     "text": [
      "0.861950005631606\n"
     ]
    }
   ],
   "source": [
    "n = len(x)\n",
    "mean_x, mean_y = sum(x) / n, sum(y) / n\n",
    "cov_xy = sum((x[k] - mean_x) * (y[k] - mean_y) for k in range(n)) / (n - 1)\n",
    "var_x = sum((item - mean_x)**2 for item in x) / (n - 1)\n",
    "var_y = sum((item - mean_y)**2 for item in y) / (n - 1)\n",
    "std_x, std_y = var_x ** 0.5, var_y ** 0.5\n",
    "r = cov_xy / (std_x * std_y)\n",
    "print(r)"
   ]
  },
  {
   "cell_type": "markdown",
   "id": "d0089cfc",
   "metadata": {},
   "source": [
    "* NumPy has the function `corrcoef()` that returns sthe correlation coefficient matrix of the variables."
   ]
  },
  {
   "cell_type": "code",
   "execution_count": 6,
   "id": "fb1818da",
   "metadata": {},
   "outputs": [
    {
     "name": "stdout",
     "output_type": "stream",
     "text": [
      "[[1.         0.86195001]\n",
      " [0.86195001 1.        ]]\n",
      "0.8619500056316061\n"
     ]
    }
   ],
   "source": [
    "corr_matrix = np.corrcoef(x, y)\n",
    "print(corr_matrix)\n",
    "r = corr_matrix[0, 1]\n",
    "print(r)"
   ]
  },
  {
   "cell_type": "markdown",
   "id": "e5f13f49",
   "metadata": {},
   "source": [
    "* `scipy.stats` has the routine `pearsonr()` that calculates the correlation coefficient and the $p$-value"
   ]
  },
  {
   "cell_type": "code",
   "execution_count": 7,
   "id": "165387f8",
   "metadata": {},
   "outputs": [
    {
     "data": {
      "text/plain": [
       "(0.8619500056316061, 5.122760847201135e-07)"
      ]
     },
     "execution_count": 7,
     "metadata": {},
     "output_type": "execute_result"
    }
   ],
   "source": [
    "import scipy.stats\n",
    "\n",
    "scipy.stats.pearsonr(x, y)"
   ]
  },
  {
   "cell_type": "markdown",
   "id": "69874b62",
   "metadata": {},
   "source": [
    "* Pandas `Series` have the method `.corr()` for calculating the correlation coefficient"
   ]
  },
  {
   "cell_type": "code",
   "execution_count": 8,
   "id": "bc16683f",
   "metadata": {},
   "outputs": [
    {
     "name": "stdout",
     "output_type": "stream",
     "text": [
      "0.8619500056316061\n"
     ]
    }
   ],
   "source": [
    "r = x_.corr(y_)\n",
    "print(r)"
   ]
  },
  {
   "cell_type": "markdown",
   "id": "c60b8f8b",
   "metadata": {},
   "source": [
    "## --- Exercise ---\n",
    "\n",
    "Load the data stored in the `data\\mtcars.csv` file and using the `DataFrame.corr()` method, identify the most correlated feature with feature `qsec` (1/4 mile time).\n",
    "\n",
    "Meaning of features in the dataset:\n",
    "* mpg - Miles/(US) gallon\n",
    "* cyl - Number of cylinders\n",
    "* disp - Displacement (cu.in.)\n",
    "* hp - Gross horsepower\n",
    "* drat - Rear axle ratio\n",
    "* wt - Weight (1000 lbs)\n",
    "* qsec - 1/4 mile time\n",
    "* vs - Engine (0 = V-shaped, 1 = straight)\n",
    "* am - Transmission (0 = automatic, 1 = manual)\n",
    "* gear - Number of forward gears\n",
    "* carb - Number of carburetors "
   ]
  },
  {
   "cell_type": "code",
   "execution_count": null,
   "id": "531ed476",
   "metadata": {},
   "outputs": [],
   "source": [
    "# write your code here"
   ]
  }
 ],
 "metadata": {
  "kernelspec": {
   "display_name": "Python 3",
   "language": "python",
   "name": "python3"
  },
  "language_info": {
   "codemirror_mode": {
    "name": "ipython",
    "version": 3
   },
   "file_extension": ".py",
   "mimetype": "text/x-python",
   "name": "python",
   "nbconvert_exporter": "python",
   "pygments_lexer": "ipython3",
   "version": "3.9.7"
  }
 },
 "nbformat": 4,
 "nbformat_minor": 5
}
