{
 "cells": [
  {
   "cell_type": "markdown",
   "id": "79a800da",
   "metadata": {
    "slideshow": {
     "slide_type": "slide"
    }
   },
   "source": [
    "# Data visualisation \n",
    "## Types of plots\n",
    "\n",
    "***\n",
    "<br>"
   ]
  },
  {
   "cell_type": "markdown",
   "id": "71d6ebed",
   "metadata": {},
   "source": [
    "## Plot\n",
    "\n",
    "* Plots (graphics), also known as charts, are a visual representation of data in the form of colored (mostly) graphics.\n",
    "* Visualization is the perfect form of representing data so that analysts and clients can understand what the data wants to express.\n",
    "* It also gives a clear insight into the data demonstrating approaches.\n",
    "* But not all data requires the same representation format, hence we have different types of plots available."
   ]
  },
  {
   "cell_type": "markdown",
   "id": "02c8c83b",
   "metadata": {},
   "source": [
    "## Line Plot\n",
    "\n",
    "* A line plot is one of the basic types of plot in in a number of plotting tools, such as Matplotlib or Pandas.\n",
    "* Line plots are drawn by joining straight lines connecting data points where the x-axis and y-axis values intersect.\n",
    "* Line plots are the simplest form of representing data.\n",
    "\n",
    "<img src=\"img/line_plot.png\" style=\"width:400px\">"
   ]
  },
  {
   "cell_type": "markdown",
   "id": "83bcaabb",
   "metadata": {},
   "source": [
    "## Bar plot\n",
    "\n",
    "* The bar plots are vertical/horizontal rectangular graphs that show data comparison where you can gauge the changes over a period represented in another axis (mostly the X-axis).\n",
    "* Each bar can store the value of one or multiple data divided in a ratio.\n",
    "* The longer a bar becomes, the greater the value it holds.\n",
    "\n",
    "<img src=\"img/bar_plot.png\" style=\"width:400px\">"
   ]
  },
  {
   "cell_type": "markdown",
   "id": "b6f1e0cd",
   "metadata": {},
   "source": [
    "## Scatter plot\n",
    "\n",
    "* We can implement the scatter plots while comparing various data variables to determine the connection between dependent and independent variables.\n",
    "* The data gets expressed as a collection of points clustered together meaningfully.\n",
    "* Here each value has one variable (x) determining the relationship with the other (Y).\n",
    "\n",
    "<img src=\"img/scatter_plot.png\" style=\"width:400px\">"
   ]
  },
  {
   "cell_type": "markdown",
   "id": "056fcffe",
   "metadata": {},
   "source": [
    "## Pie plot\n",
    "\n",
    "* A pie plot is a circular graph where the data get represented within that components/segments or slices of pie.\n",
    "* Data analysts use them while representing the percentage or proportional data in which each pie slice represents an item or data classification.\n",
    "\n",
    "<img src=\"img/pie_plot.png\" style=\"width:400px\">"
   ]
  },
  {
   "cell_type": "markdown",
   "id": "7c272496",
   "metadata": {},
   "source": [
    "## Area plot\n",
    "\n",
    "* The area plots spread across certain areas with bumps and drops (highs and lows) and are also known as stack plots.\n",
    "* They look identical to the line plots and help track the changes over time for two or multiple related groups to make it one whole category.\n",
    "\n",
    "<img src=\"img/area_plot.png\" style=\"width:400px\">"
   ]
  },
  {
   "cell_type": "markdown",
   "id": "baa87fca",
   "metadata": {},
   "source": [
    "## Histogram plot\n",
    "\n",
    "* We can use a histogram plot when the data remains distributed, whereas we can use a bar graph to compare two entities.\n",
    "* Both histogram and bar plot look alike but are used in different scenarios.\n",
    "\n",
    "<img src=\"img/histogram_plot.png\" style=\"width:400px\">"
   ]
  }
 ],
 "metadata": {
  "kernelspec": {
   "display_name": "Python 3",
   "language": "python",
   "name": "python3"
  },
  "language_info": {
   "codemirror_mode": {
    "name": "ipython",
    "version": 3
   },
   "file_extension": ".py",
   "mimetype": "text/x-python",
   "name": "python",
   "nbconvert_exporter": "python",
   "pygments_lexer": "ipython3",
   "version": "3.9.7"
  }
 },
 "nbformat": 4,
 "nbformat_minor": 5
}
