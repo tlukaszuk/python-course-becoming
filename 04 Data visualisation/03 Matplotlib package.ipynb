{
 "cells": [
  {
   "cell_type": "markdown",
   "id": "79a800da",
   "metadata": {
    "slideshow": {
     "slide_type": "slide"
    }
   },
   "source": [
    "# Data visualisation \n",
    "## Matplotlib package\n",
    "\n",
    "***\n",
    "<br>"
   ]
  },
  {
   "cell_type": "markdown",
   "id": "1ea1f384",
   "metadata": {},
   "source": [
    "## Matplotlib: Visualization with Python\n",
    "\n",
    "<img src=\"img/matplotlib-logo.svg\" style=\"width:300px\">\n",
    "\n",
    "* Matplotlib is a comprehensive library for creating static, animated, and interactive visualizations in Python.\n",
    "* Matplotlib makes easy things easy and hard things possible.\n",
    "* Created to replicate in Python what MatLab can do in terms of graphs.\n",
    "* A 2D and 3D graphics library for presenting scientific data."
   ]
  },
  {
   "cell_type": "markdown",
   "id": "15638f5e",
   "metadata": {},
   "source": [
    "## Advantages of Matplotlib\n",
    "\n",
    "* Easy start with simple graphs without going into detail (functional approach).\n",
    "* Support for custom labels and text.\n",
    "* Control of each element (object-oriented approach).\n",
    "* Multiple output formats in high quality.\n",
    "* Highly configurable (object-oriented approach)."
   ]
  },
  {
   "cell_type": "markdown",
   "id": "08ce6c93",
   "metadata": {},
   "source": [
    "## Examples of graphs\n",
    "\n",
    "<img src=\"img/chart1.png\" style=\"width:400px\">\n",
    "<img src=\"img/chart2.png\" style=\"width:400px\">\n",
    "<img src=\"img/chart3.png\" style=\"width:400px\">\n",
    "<img src=\"img/chart4.png\" style=\"width:400px\">\n",
    "<img src=\"img/chart5.png\" style=\"width:400px\">"
   ]
  },
  {
   "cell_type": "markdown",
   "id": "9e6a7d1d",
   "metadata": {},
   "source": [
    "## Matplotlib architecture\n",
    "\n",
    "<img src=\"img/matplotlib_architecture.png\" style=\"width:400px\">\n",
    "\n",
    "* Backend Layer - graph rendering\n",
    "* Artist Layer - control the entire graph by changing almost every element of it, object-oriented approach\n",
    "* Scripting Layer - quick visualisation without going too deep into chart construction, functional approach"
   ]
  },
  {
   "cell_type": "markdown",
   "id": "5de4e082",
   "metadata": {},
   "source": [
    "## First Matplotlib graph\n",
    "\n",
    "* Create a graph by calling functions from the `matplotlib.pyplot` module."
   ]
  },
  {
   "cell_type": "code",
   "execution_count": 1,
   "id": "ded58b97",
   "metadata": {},
   "outputs": [
    {
     "name": "stdout",
     "output_type": "stream",
     "text": [
      "x:  [ 0.  1.  2.  3.  4.  5.  6.  7.  8.  9. 10.]\n",
      "y:  [  0.   1.   4.   9.  16.  25.  36.  49.  64.  81. 100.]\n"
     ]
    }
   ],
   "source": [
    "# variables to be visualised on the graph\n",
    "\n",
    "import numpy as np\n",
    "\n",
    "x = np.linspace(0, 10, 11)\n",
    "y = x ** 2\n",
    "\n",
    "print(\"x: \", x)\n",
    "print(\"y: \", y)"
   ]
  },
  {
   "cell_type": "code",
   "execution_count": 2,
   "id": "9e5e7c15",
   "metadata": {},
   "outputs": [
    {
     "data": {
      "image/png": "[encoded data removed]",
      "text/plain": [
       "<Figure size 432x288 with 1 Axes>"
      ]
     },
     "metadata": {
      "needs_background": "light"
     },
     "output_type": "display_data"
    }
   ],
   "source": [
    "import matplotlib.pyplot as plt\n",
    "\n",
    "plt.plot(x, y, 'blue')\n",
    "plt.xlabel('Name of X axis')\n",
    "plt.ylabel('Name of Y axis')\n",
    "plt.title('Here we have the title')\n",
    "plt.show()"
   ]
  },
  {
   "cell_type": "markdown",
   "id": "6c5039e3",
   "metadata": {},
   "source": [
    "## Creation of different types of charts\n",
    "\n",
    "#### Histogram\n",
    "\n",
    "* To check the distribution of numerical values"
   ]
  },
  {
   "cell_type": "code",
   "execution_count": 3,
   "id": "a593d094",
   "metadata": {},
   "outputs": [
    {
     "data": {
      "image/png": "[encoded data removed]",
      "text/plain": [
       "<Figure size 432x288 with 1 Axes>"
      ]
     },
     "metadata": {
      "needs_background": "light"
     },
     "output_type": "display_data"
    }
   ],
   "source": [
    "import matplotlib.pyplot as plt\n",
    "import numpy as np\n",
    "\n",
    "my_mean, my_std = 500, 100 \n",
    "distribution = np.random.normal(my_mean, my_std, 1000)\n",
    "plt.hist(distribution)\n",
    "plt.show()"
   ]
  },
  {
   "cell_type": "markdown",
   "id": "f9b1afb0",
   "metadata": {},
   "source": [
    "#### Bar plot\n",
    "\n",
    "* For the observation of categorical variables."
   ]
  },
  {
   "cell_type": "code",
   "execution_count": 4,
   "id": "82001643",
   "metadata": {},
   "outputs": [
    {
     "data": {
      "image/png": "[encoded data removed]",
      "text/plain": [
       "<Figure size 432x288 with 1 Axes>"
      ]
     },
     "metadata": {
      "needs_background": "light"
     },
     "output_type": "display_data"
    }
   ],
   "source": [
    "import matplotlib.pyplot as plt\n",
    "\n",
    "sales = (100, 20, 70, 150, 45)\n",
    "groups = ['G1', 'G2', 'G3', 'G4', 'G5']\n",
    "\n",
    "plt.bar(groups, sales)\n",
    "plt.xlabel('Groups')\n",
    "plt.ylabel('Sales')\n",
    "plt.title('Sales by group')\n",
    "plt.show()"
   ]
  },
  {
   "cell_type": "markdown",
   "id": "68e9b81e",
   "metadata": {},
   "source": [
    "#### Box plot\n",
    "\n",
    "* To observe segmentation, i.e. the relationship between numerical values and categories."
   ]
  },
  {
   "cell_type": "code",
   "execution_count": 5,
   "id": "518d3d6b",
   "metadata": {},
   "outputs": [
    {
     "data": {
      "image/png": "[encoded data removed]",
      "text/plain": [
       "<Figure size 432x288 with 1 Axes>"
      ]
     },
     "metadata": {
      "needs_background": "light"
     },
     "output_type": "display_data"
    }
   ],
   "source": [
    "import matplotlib.pyplot as plt\n",
    "import numpy as np\n",
    "\n",
    "data = [np.random.normal(0, deviation, 100) for deviation in range(1, 4)]\n",
    "\n",
    "plt.boxplot(data)\n",
    "plt.show()"
   ]
  },
  {
   "cell_type": "markdown",
   "id": "d38cd8c7",
   "metadata": {},
   "source": [
    "#### Scatter plot\n",
    "\n"
   ]
  },
  {
   "cell_type": "code",
   "execution_count": 6,
   "id": "fd2c416b",
   "metadata": {},
   "outputs": [
    {
     "data": {
      "image/png": "[encoded data removed]",
      "text/plain": [
       "<Figure size 432x288 with 1 Axes>"
      ]
     },
     "metadata": {
      "needs_background": "light"
     },
     "output_type": "display_data"
    }
   ],
   "source": [
    "import matplotlib.pyplot as plt\n",
    "\n",
    "# Data\n",
    "x = [43,76,34,63,56,82,87,55,64,87,95,23,14,65,67,25,23,85]\n",
    "y = [34,45,34,23,43,76,26,18,24,74,23,56,23,23,34,56,32,23]\n",
    "\n",
    "plt.scatter(x, y)\n",
    "plt.xlabel('X')\n",
    "plt.ylabel('Y')\n",
    "plt.title('Scatter plot')\n",
    "plt.show()"
   ]
  },
  {
   "cell_type": "markdown",
   "id": "d68c6613",
   "metadata": {},
   "source": [
    "## --- Exercise ---\n",
    "\n",
    "After uploading the data from the `data/company_sales_data.csv` file, show the value of soap sales (`bathingsoap` column) by month on a bar chart."
   ]
  },
  {
   "cell_type": "code",
   "execution_count": null,
   "id": "438243e5",
   "metadata": {},
   "outputs": [],
   "source": [
    "import pandas as pd\n",
    "\n",
    "df = pd.read_csv(\"data/company_sales_data.csv\")\n",
    "monthList  = df ['month_number'].tolist()\n",
    "bathingsoapSalesData   = df ['bathingsoap'].tolist()\n",
    "\n",
    "# Write your code here"
   ]
  }
 ],
 "metadata": {
  "kernelspec": {
   "display_name": "Python 3",
   "language": "python",
   "name": "python3"
  },
  "language_info": {
   "codemirror_mode": {
    "name": "ipython",
    "version": 3
   },
   "file_extension": ".py",
   "mimetype": "text/x-python",
   "name": "python",
   "nbconvert_exporter": "python",
   "pygments_lexer": "ipython3",
   "version": "3.9.7"
  }
 },
 "nbformat": 4,
 "nbformat_minor": 5
}
