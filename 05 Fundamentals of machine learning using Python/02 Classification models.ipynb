{
 "cells": [
  {
   "cell_type": "markdown",
   "id": "79a800da",
   "metadata": {
    "slideshow": {
     "slide_type": "slide"
    }
   },
   "source": [
    "# Fundamentals of machine learning using Python \n",
    "## Classification models\n",
    "\n",
    "***\n",
    "<br>"
   ]
  },
  {
   "cell_type": "markdown",
   "id": "e8a60b1a",
   "metadata": {},
   "source": [
    "## Statistical classification\n",
    "\n",
    "* Classification is the problem of identifying which of a set of categories (sub-populations) an observation (or observations) belongs to.\n",
    "* Example of classification is assigning a diagnosis to a given patient based on observed characteristics of the patient (sex, blood pressure, presence or absence of certain symptoms, etc.).\n",
    "* An algorithm that implements classification, especially in a concrete implementation, is known as a classifier."
   ]
  },
  {
   "cell_type": "markdown",
   "id": "7f4f89e6",
   "metadata": {},
   "source": [
    "## Different types of classifiers in scikit-learn\n",
    "\n",
    "* Scikit-Learn provides easy access to numerous different classification algorithms.\n",
    "* Among these classifiers are:\n",
    "    * K-Nearest Neighbors\n",
    "    * Support Vector Machines\n",
    "    * Decision Tree Classifiers/Random Forests\n",
    "    * Naive Bayes\n",
    "    * Linear Discriminant Analysis\n",
    "    * Logistic Regression"
   ]
  },
  {
   "cell_type": "markdown",
   "id": "0f84f476",
   "metadata": {},
   "source": [
    "#### K-Nearest Neighbors (kNN)\n",
    "\n",
    "* It operates by checking the distance from some test example to the known values of some training example.\n",
    "* The group of data points/class that would give the smallest distance between the training points and the testing point is the class that is selected.\n",
    "\n",
    "<img src=\"img/classifier-knn.png\" style=\"width:400px\">"
   ]
  },
  {
   "cell_type": "markdown",
   "id": "95418f68",
   "metadata": {},
   "source": [
    "#### Decision Trees\n",
    "\n",
    "* A Decision Tree Classifier functions by breaking down a dataset into smaller and smaller subsets based on different criteria.\n",
    "* Different sorting criteria will be used to divide the dataset, with the number of examples getting smaller with every division.\n",
    "* Once the network has divided the data down to one example, the example will be put into a class that corresponds to a key.\n",
    "* When multiple random tree classifiers are linked together they are called Random Forest Classifiers.\n",
    "\n",
    "<img src=\"img/classifier-decissiontree.png\" style=\"width:500px\">"
   ]
  },
  {
   "cell_type": "markdown",
   "id": "2a678084",
   "metadata": {},
   "source": [
    "#### Naive Bayes\n",
    "\n",
    "* A Naive Bayes Classifier determines the probability that an example belongs to some class, calculating the probability that an event will occur given that some input event has occurred.\n",
    "* When it does this calculation it is assumed that all the predictors of a class have the same effect on the outcome, that the predictors are independent.\n",
    "\n",
    "<img src=\"img/classifier-naivebayes.png\" style=\"width:500px\">"
   ]
  },
  {
   "cell_type": "markdown",
   "id": "0700853e",
   "metadata": {},
   "source": [
    "#### Linear Discriminant Analysis\n",
    "\n",
    "* Linear Discriminant Analysis works by reducing the dimensionality of the dataset, projecting all of the data points onto a line.\n",
    "* Then it combines these points into classes based on their distance from a chosen point or centroid.\n",
    "* Linear discriminant analysis, as you may be able to guess, is a linear classification algorithm and best used when the data has a linear relationship.\n",
    "\n",
    "<img src=\"img/classifier-lda.png\" style=\"width:500px\">"
   ]
  },
  {
   "cell_type": "markdown",
   "id": "98fe133a",
   "metadata": {},
   "source": [
    "#### Support Vector Machines (SVM)\n",
    "\n",
    "* SVM work by drawing a line between the different clusters of data points to group them into classes.\n",
    "* Points on one side of the line will be one class and points on the other side belong to another class.\n",
    "* The classifier will try to maximize the distance between the line it draws and the points on either side of it, to increase its confidence in which points belong to which class.\n",
    "* When the testing points are plotted, the side of the line they fall on is the class they are put in.\n",
    "\n",
    "<img src=\"img/classifier-svm.jpg\" style=\"width:500px\">"
   ]
  },
  {
   "cell_type": "markdown",
   "id": "d6997799",
   "metadata": {},
   "source": [
    "#### Logistic Regression\n",
    "\n",
    "* Logistic Regression outputs predictions about test data points on a binary scale, zero or one.\n",
    "* If the value of something is 0.5 or above, it is classified as belonging to class 1, while below 0.5 if is classified as belonging to 0.\n",
    "\n",
    "<img src=\"img/classifier-logisticregression.png\" style=\"width:500px\">"
   ]
  },
  {
   "cell_type": "markdown",
   "id": "58a3189e",
   "metadata": {},
   "source": [
    "## The use of classifiers\n",
    "\n",
    "* All classification models have a similar workflow and the same interface.\n",
    "* The `fit(train_data, train_target)` method is used to prepare the classifier for operation, this process is called training (learning) the model.\n",
    "* The `predict(test_data)` method is used to assign (predict) new objects to classes."
   ]
  },
  {
   "cell_type": "markdown",
   "id": "f4f39b9b",
   "metadata": {},
   "source": [
    "## Example 1: Construction of kNN model for classifying objects from the `iris` dataset"
   ]
  },
  {
   "cell_type": "code",
   "execution_count": 1,
   "id": "4e79d99b",
   "metadata": {},
   "outputs": [
    {
     "name": "stdout",
     "output_type": "stream",
     "text": [
      "0.9666666666666667\n"
     ]
    }
   ],
   "source": [
    "from sklearn import datasets\n",
    "from sklearn.model_selection import train_test_split\n",
    "from sklearn.neighbors import KNeighborsClassifier\n",
    "from sklearn.metrics import accuracy_score\n",
    "\n",
    "# load isis dataset\n",
    "iris_dataset = datasets.load_iris()\n",
    "\n",
    "# split the data into training and testing sets\n",
    "# test_size specifies how much of the data you want to set aside for the testing set \n",
    "# random_state parameter is just a random seed we can use, setting of value results in reproducible splitting\n",
    "X_train, X_test, y_train, y_test = train_test_split(iris_dataset.data, iris_dataset.target, test_size=0.20, random_state=27)\n",
    "\n",
    "# creating a model that uses the 5 nearest neighbours to make decisions\n",
    "knn_model = KNeighborsClassifier(n_neighbors=5)\n",
    "\n",
    "# fit the classifier on training data\n",
    "knn_model.fit(X_train, y_train)\n",
    "\n",
    "# predict and store the prediction in a variable\n",
    "prediction = knn_model.predict(X_test)\n",
    "\n",
    "# evaluate how the classifier performed\n",
    "print(accuracy_score(prediction, y_test))"
   ]
  },
  {
   "cell_type": "markdown",
   "id": "4589420e",
   "metadata": {},
   "source": [
    "##### We received a very high classification accuracy of over 96%. This indicates that the kNN model will be a good choice as a classifier of iris flower examples."
   ]
  },
  {
   "cell_type": "markdown",
   "id": "8580181a",
   "metadata": {},
   "source": [
    "## Example 2: Construction of SVM model for classifying objects from the `breast cancer` dataset"
   ]
  },
  {
   "cell_type": "code",
   "execution_count": 2,
   "id": "057db5e5",
   "metadata": {},
   "outputs": [],
   "source": [
    "from sklearn import datasets\n",
    "from sklearn.model_selection import train_test_split\n",
    "from sklearn import svm\n",
    "from sklearn.metrics import accuracy_score"
   ]
  },
  {
   "cell_type": "code",
   "execution_count": 3,
   "id": "52056daa",
   "metadata": {},
   "outputs": [
    {
     "name": "stdout",
     "output_type": "stream",
     "text": [
      "Features:  ['mean radius' 'mean texture' 'mean perimeter' 'mean area'\n",
      " 'mean smoothness' 'mean compactness' 'mean concavity'\n",
      " 'mean concave points' 'mean symmetry' 'mean fractal dimension'\n",
      " 'radius error' 'texture error' 'perimeter error' 'area error'\n",
      " 'smoothness error' 'compactness error' 'concavity error'\n",
      " 'concave points error' 'symmetry error' 'fractal dimension error'\n",
      " 'worst radius' 'worst texture' 'worst perimeter' 'worst area'\n",
      " 'worst smoothness' 'worst compactness' 'worst concavity'\n",
      " 'worst concave points' 'worst symmetry' 'worst fractal dimension']\n",
      "Labels:  ['malignant' 'benign']\n",
      "Data size:  (569, 30)\n"
     ]
    }
   ],
   "source": [
    "# load and exploring dataset\n",
    "cancer_data = datasets.load_breast_cancer()\n",
    "\n",
    "print(\"Features: \", cancer_data.feature_names)\n",
    "print(\"Labels: \", cancer_data.target_names)\n",
    "print(\"Data size: \", cancer_data.data.shape)"
   ]
  },
  {
   "cell_type": "code",
   "execution_count": 4,
   "id": "54f07a7d",
   "metadata": {},
   "outputs": [
    {
     "name": "stdout",
     "output_type": "stream",
     "text": [
      "(398, 30) (171, 30)\n"
     ]
    }
   ],
   "source": [
    "# split dataset into training set and test set\n",
    "# 70% training and 30% test\n",
    "X_train, X_test, y_train, y_test = train_test_split(cancer_data.data, cancer_data.target, test_size=0.3, random_state=109)\n",
    "\n",
    "print(X_train.shape, X_test.shape)"
   ]
  },
  {
   "cell_type": "code",
   "execution_count": 5,
   "id": "59e9a261",
   "metadata": {},
   "outputs": [
    {
     "name": "stdout",
     "output_type": "stream",
     "text": [
      "Accuracy: 0.9649122807017544\n"
     ]
    }
   ],
   "source": [
    "# create a svm classifier, linear kernel\n",
    "clf_svm = svm.SVC(kernel='linear')\n",
    "\n",
    "# train the model using the training sets\n",
    "clf_svm.fit(X_train, y_train)\n",
    "\n",
    "# predict the response for test dataset\n",
    "y_pred = clf_svm.predict(X_test)\n",
    "\n",
    "# model accuracy: how often is the classifier correct?\n",
    "print(\"Accuracy:\", accuracy_score(y_test, y_pred))"
   ]
  },
  {
   "cell_type": "markdown",
   "id": "a8b8b6c4",
   "metadata": {},
   "source": [
    "##### Again, we obtained a very high classification accuracy of more than 96%. The SVM model will be a good choice to support the assessment of new patients."
   ]
  },
  {
   "cell_type": "markdown",
   "id": "a7a37904",
   "metadata": {},
   "source": [
    "## --- Exercise ---\n",
    "\n",
    "Build a logistic regression model, train and evaluate it on `data/pima-indians-diabetes.csv` data."
   ]
  },
  {
   "cell_type": "code",
   "execution_count": 6,
   "id": "843d820b",
   "metadata": {},
   "outputs": [
    {
     "data": {
      "text/html": [
       "<div>\n",
       "<style scoped>\n",
       "    .dataframe tbody tr th:only-of-type {\n",
       "        vertical-align: middle;\n",
       "    }\n",
       "\n",
       "    .dataframe tbody tr th {\n",
       "        vertical-align: top;\n",
       "    }\n",
       "\n",
       "    .dataframe thead th {\n",
       "        text-align: right;\n",
       "    }\n",
       "</style>\n",
       "<table border=\"1\" class=\"dataframe\">\n",
       "  <thead>\n",
       "    <tr style=\"text-align: right;\">\n",
       "      <th></th>\n",
       "      <th>Pregnancies</th>\n",
       "      <th>Glucose</th>\n",
       "      <th>BloodPressure</th>\n",
       "      <th>SkinThickness</th>\n",
       "      <th>Insulin</th>\n",
       "      <th>BMI</th>\n",
       "      <th>DiabetesPedigreeFunction</th>\n",
       "      <th>Age</th>\n",
       "      <th>Outcome</th>\n",
       "    </tr>\n",
       "  </thead>\n",
       "  <tbody>\n",
       "    <tr>\n",
       "      <th>0</th>\n",
       "      <td>6</td>\n",
       "      <td>148</td>\n",
       "      <td>72</td>\n",
       "      <td>35</td>\n",
       "      <td>0</td>\n",
       "      <td>33.6</td>\n",
       "      <td>0.627</td>\n",
       "      <td>50</td>\n",
       "      <td>1</td>\n",
       "    </tr>\n",
       "    <tr>\n",
       "      <th>1</th>\n",
       "      <td>1</td>\n",
       "      <td>85</td>\n",
       "      <td>66</td>\n",
       "      <td>29</td>\n",
       "      <td>0</td>\n",
       "      <td>26.6</td>\n",
       "      <td>0.351</td>\n",
       "      <td>31</td>\n",
       "      <td>0</td>\n",
       "    </tr>\n",
       "    <tr>\n",
       "      <th>2</th>\n",
       "      <td>8</td>\n",
       "      <td>183</td>\n",
       "      <td>64</td>\n",
       "      <td>0</td>\n",
       "      <td>0</td>\n",
       "      <td>23.3</td>\n",
       "      <td>0.672</td>\n",
       "      <td>32</td>\n",
       "      <td>1</td>\n",
       "    </tr>\n",
       "    <tr>\n",
       "      <th>3</th>\n",
       "      <td>1</td>\n",
       "      <td>89</td>\n",
       "      <td>66</td>\n",
       "      <td>23</td>\n",
       "      <td>94</td>\n",
       "      <td>28.1</td>\n",
       "      <td>0.167</td>\n",
       "      <td>21</td>\n",
       "      <td>0</td>\n",
       "    </tr>\n",
       "    <tr>\n",
       "      <th>4</th>\n",
       "      <td>0</td>\n",
       "      <td>137</td>\n",
       "      <td>40</td>\n",
       "      <td>35</td>\n",
       "      <td>168</td>\n",
       "      <td>43.1</td>\n",
       "      <td>2.288</td>\n",
       "      <td>33</td>\n",
       "      <td>1</td>\n",
       "    </tr>\n",
       "  </tbody>\n",
       "</table>\n",
       "</div>"
      ],
      "text/plain": [
       "   Pregnancies  Glucose  BloodPressure  SkinThickness  Insulin   BMI  \\\n",
       "0            6      148             72             35        0  33.6   \n",
       "1            1       85             66             29        0  26.6   \n",
       "2            8      183             64              0        0  23.3   \n",
       "3            1       89             66             23       94  28.1   \n",
       "4            0      137             40             35      168  43.1   \n",
       "\n",
       "   DiabetesPedigreeFunction  Age  Outcome  \n",
       "0                     0.627   50        1  \n",
       "1                     0.351   31        0  \n",
       "2                     0.672   32        1  \n",
       "3                     0.167   21        0  \n",
       "4                     2.288   33        1  "
      ]
     },
     "execution_count": 6,
     "metadata": {},
     "output_type": "execute_result"
    }
   ],
   "source": [
    "# dataset loading\n",
    "\n",
    "import pandas as pd\n",
    "\n",
    "dataset = pd.read_csv(\"data/pima-indians-diabetes.csv\")\n",
    "dataset.head()"
   ]
  },
  {
   "cell_type": "code",
   "execution_count": 7,
   "id": "e5bec761",
   "metadata": {},
   "outputs": [
    {
     "data": {
      "text/plain": [
       "((768, 8), (768,))"
      ]
     },
     "execution_count": 7,
     "metadata": {},
     "output_type": "execute_result"
    }
   ],
   "source": [
    "# selecting features and targets\n",
    "\n",
    "data = dataset.iloc[:,:8].values\n",
    "target = dataset.iloc[:,8]\n",
    "\n",
    "data.shape, target.shape"
   ]
  },
  {
   "cell_type": "code",
   "execution_count": null,
   "id": "7f5b6a30",
   "metadata": {},
   "outputs": [],
   "source": [
    "from sklearn.linear_model import LogisticRegression\n",
    "\n",
    "# Write your code here"
   ]
  }
 ],
 "metadata": {
  "kernelspec": {
   "display_name": "Python 3",
   "language": "python",
   "name": "python3"
  },
  "language_info": {
   "codemirror_mode": {
    "name": "ipython",
    "version": 3
   },
   "file_extension": ".py",
   "mimetype": "text/x-python",
   "name": "python",
   "nbconvert_exporter": "python",
   "pygments_lexer": "ipython3",
   "version": "3.9.7"
  }
 },
 "nbformat": 4,
 "nbformat_minor": 5
}
